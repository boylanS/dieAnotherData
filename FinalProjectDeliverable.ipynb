{
 "cells": [
  {
   "attachments": {},
   "cell_type": "markdown",
   "metadata": {},
   "source": [
    "**DIE ANOTHER DATA: AN EXPLORATORY DATA ANALYSIS OF JAMES BOND FILMS**\n",
    "\n",
    "Name: Sadbh Boylan\n",
    "\n",
    "NetID: sboylan"
   ]
  },
  {
   "cell_type": "code",
   "execution_count": 1,
   "metadata": {},
   "outputs": [],
   "source": [
    "#import statements\n",
    "\n",
    "#import pandas library\n",
    "import pandas as pd\n",
    "\n",
    "#import numpy library\n",
    "import numpy as np\n",
    "\n",
    "#import statsmodel api\n",
    "import statsmodels.api as sm\n",
    "\n",
    "#import seaborn library\n",
    "import seaborn as sb\n",
    "\n",
    "#import linear regression function\n",
    "from sklearn.linear_model import LinearRegression\n",
    "\n",
    "#import matplotlib\n",
    "import matplotlib.pyplot as plt\n",
    "\n",
    "#import plotly express\n",
    "import plotly.express as px\n",
    "\n",
    "#import jupyter widgets\n",
    "import ipywidgets\n",
    "\n",
    "#Accessing functions\n",
    "from ipywidgets import interact, IntSlider\n",
    "\n",
    "from IPython.display import display, clear_output"
   ]
  },
  {
   "attachments": {},
   "cell_type": "markdown",
   "metadata": {},
   "source": [
    "I started out with one primary database file aquired from Kaggle. https://www.kaggle.com/datasets/dreb87/jamesbond \n",
    "\n",
    "Initially, I worked with two other datasets from TMDB and Spotify APIs, but as I progressed I found that my work took off \n",
    "using the primary dataset only, and there was no need for these data sources.\n",
    "\n",
    "Using a combination of OpenRefine and Excel, I assessed what initial cleaning was needed regarding, particularly regarding location. As I progressed through my workflow, a number of issues emerged, including:\n",
    "\n",
    "-The data used both \"Great Britain\" and \"United Kingdom\" to refer to locations. As most locations were listed by country,\n",
    "I altered all instances of \"Great Britain\" to \"United Kingdom\" (this also ensured all locations were viewed with the same lens of \n",
    "granularity). Annoyingly, there were also occurrences of England and Scotland specifically. To keep things consistent across entries (i.e.\n",
    "prevent some records referring specifically to England or Scotland and others to the United Kingdom in general), I removed all instances of these\n",
    "locations and ensured United Kingdom was listed instead if it was not already present. Although this did result in some data loss,\n",
    "it was a necessary evil to ensure consistency across the datapoints.\n",
    "\n",
    "-For similar reasons, West Berlin was replaced with Germany in instances it occurred.\n",
    "\n",
    "-Cube was incorrectly entered as a location - I corrected this to Cuba.\n"
   ]
  },
  {
   "cell_type": "code",
   "execution_count": 2,
   "metadata": {},
   "outputs": [],
   "source": [
    "#read in CSV file acquired from kaggle\n",
    "primaryBondDataset = pd.read_csv(\"jamesbond-locationsCleaned.csv\")"
   ]
  },
  {
   "attachments": {},
   "cell_type": "markdown",
   "metadata": {},
   "source": [
    "\n",
    "However, I did spend some time extracting out information from the primary dataset. Although I initially began with one file, I created further tables through my workflow.\n",
    "\n",
    "The next step involved collecting a table of all the unique locations featured across all of the films - either as depicted locations or shooting locations. "
   ]
  },
  {
   "cell_type": "code",
   "execution_count": 3,
   "metadata": {},
   "outputs": [],
   "source": [
    "depictedLocations = primaryBondDataset[\"Depicted_Film_Loc\"]\n",
    "filmingLocations = primaryBondDataset[\"Shooting_Loc\"]\n",
    "uniqueListOfDepictedLocations = []\n",
    "\n",
    "#I extracted the relevant columns and effectively looped through them to collect all unique values\n",
    "\n",
    "for x in range(0,len(depictedLocations)):\n",
    "    filmLocations = depictedLocations[x]\n",
    "\n",
    "    filmLocationsList = filmLocations.split(\",\")\n",
    "    for y in range(0,len(filmLocationsList)):\n",
    "        location = filmLocationsList[y].strip()\n",
    "        if location in uniqueListOfDepictedLocations:\n",
    "            continue\n",
    "        else:\n",
    "            uniqueListOfDepictedLocations.append(location)\n",
    "\n",
    "for x in range(0,len(filmingLocations)):\n",
    "    shootingLocations = filmingLocations[x]\n",
    "\n",
    "    shootingLocationsList = shootingLocations.split(\",\")\n",
    "    for y in range(0,len(shootingLocationsList)):\n",
    "        location = shootingLocationsList[y].strip()\n",
    "        if location in uniqueListOfDepictedLocations:\n",
    "            continue\n",
    "        else:\n",
    "            uniqueListOfDepictedLocations.append(location)\n",
    "\n",
    "\n",
    "locationCols = [\"Location\"]\n",
    "\n",
    "#I converted this information to a dataframe that could then be converted to a csv file\n",
    "locationDf = pd.DataFrame(uniqueListOfDepictedLocations, columns= locationCols)\n",
    "\n",
    "JBLocationZip = dict(method = \"zip\",archive_name = \"JBLocationZip.csv\")\n",
    "\n",
    "#locationDf.to_csv(\"JBLocationZip.zip\", compression = JBLocationZip)"
   ]
  },
  {
   "attachments": {},
   "cell_type": "markdown",
   "metadata": {},
   "source": [
    "For mapping purposes, I then decided to gather latitude and longitude data - I did this by obtaining an additional csv datasource and merging the files using SQLite through DB Browser, with data sourced from Kaggle: https://www.kaggle.com/datasets/paultimothymooney/latitude-and-longitude-for-every-country-and-state?resource=download \n",
    "\n",
    "\n",
    "The result at this point was a table/Excel file with all unique locations and their longitude and latitude coordinates, as well as a unique location_id for each record added in Excel. I implemented the location_id to prevent any future issues with entering country names, as troubleshooting errors with incorrect entries to this point had been a real hinderance to progress."
   ]
  },
  {
   "attachments": {},
   "cell_type": "markdown",
   "metadata": {},
   "source": [
    "I then wanted to create a new table with \n",
    "\n",
    "1. Film_ID\n",
    "2. Decade of release\n",
    "3. No. of Depicted Locations\n",
    "4. Array of Depicted Locations (given by location_id)\n",
    "5. No. of Filming Locations\n",
    "6. Array of Filming Locations (given by location_id)\n",
    "\n",
    "I also wanted to add additional columns to the primary dataset to account for the Decade in which the film was released, provide a unique Film_ID for consistent referencing across tables, and calculate an aggregated user score that would represent the average score across both IMDB and Rotten Tomatoes."
   ]
  },
  {
   "cell_type": "code",
   "execution_count": 4,
   "metadata": {},
   "outputs": [
    {
     "data": {
      "text/html": [
       "<div>\n",
       "<style scoped>\n",
       "    .dataframe tbody tr th:only-of-type {\n",
       "        vertical-align: middle;\n",
       "    }\n",
       "\n",
       "    .dataframe tbody tr th {\n",
       "        vertical-align: top;\n",
       "    }\n",
       "\n",
       "    .dataframe thead th {\n",
       "        text-align: right;\n",
       "    }\n",
       "</style>\n",
       "<table border=\"1\" class=\"dataframe\">\n",
       "  <thead>\n",
       "    <tr style=\"text-align: right;\">\n",
       "      <th></th>\n",
       "      <th>Film</th>\n",
       "      <th>Number of Depicted Locations</th>\n",
       "      <th>Depicted Locations</th>\n",
       "      <th>Number of Shooting Locations</th>\n",
       "      <th>Shooting Locations</th>\n",
       "    </tr>\n",
       "  </thead>\n",
       "  <tbody>\n",
       "    <tr>\n",
       "      <th>Dr. No_1962</th>\n",
       "      <td>Dr. No</td>\n",
       "      <td>2</td>\n",
       "      <td>[0, 18]</td>\n",
       "      <td>2</td>\n",
       "      <td>[0, 18]</td>\n",
       "    </tr>\n",
       "    <tr>\n",
       "      <th>From Russia with Love_1963</th>\n",
       "      <td>From Russia with Love</td>\n",
       "      <td>5</td>\n",
       "      <td>[0, 1, 2, 3, 4]</td>\n",
       "      <td>4</td>\n",
       "      <td>[0, 4, 6, 1]</td>\n",
       "    </tr>\n",
       "    <tr>\n",
       "      <th>Goldfinger_1964</th>\n",
       "      <td>Goldfinger</td>\n",
       "      <td>3</td>\n",
       "      <td>[5, 0, 6]</td>\n",
       "      <td>3</td>\n",
       "      <td>[0, 6, 5]</td>\n",
       "    </tr>\n",
       "    <tr>\n",
       "      <th>Thunderball_1965</th>\n",
       "      <td>Thunderball</td>\n",
       "      <td>4</td>\n",
       "      <td>[7, 0, 8, 5]</td>\n",
       "      <td>4</td>\n",
       "      <td>[0, 7, 8, 5]</td>\n",
       "    </tr>\n",
       "    <tr>\n",
       "      <th>You Only Live Twice_1967</th>\n",
       "      <td>You Only Live Twice</td>\n",
       "      <td>5</td>\n",
       "      <td>[5, 9, 10, 11, 12]</td>\n",
       "      <td>3</td>\n",
       "      <td>[12, 23, 11]</td>\n",
       "    </tr>\n",
       "  </tbody>\n",
       "</table>\n",
       "</div>"
      ],
      "text/plain": [
       "                                             Film  \\\n",
       "Dr. No_1962                                Dr. No   \n",
       "From Russia with Love_1963  From Russia with Love   \n",
       "Goldfinger_1964                        Goldfinger   \n",
       "Thunderball_1965                      Thunderball   \n",
       "You Only Live Twice_1967      You Only Live Twice   \n",
       "\n",
       "                            Number of Depicted Locations  Depicted Locations  \\\n",
       "Dr. No_1962                                            2             [0, 18]   \n",
       "From Russia with Love_1963                             5     [0, 1, 2, 3, 4]   \n",
       "Goldfinger_1964                                        3           [5, 0, 6]   \n",
       "Thunderball_1965                                       4        [7, 0, 8, 5]   \n",
       "You Only Live Twice_1967                               5  [5, 9, 10, 11, 12]   \n",
       "\n",
       "                            Number of Shooting Locations Shooting Locations  \n",
       "Dr. No_1962                                            2            [0, 18]  \n",
       "From Russia with Love_1963                             4       [0, 4, 6, 1]  \n",
       "Goldfinger_1964                                        3          [0, 6, 5]  \n",
       "Thunderball_1965                                       4       [0, 7, 8, 5]  \n",
       "You Only Live Twice_1967                               3       [12, 23, 11]  "
      ]
     },
     "metadata": {},
     "output_type": "display_data"
    }
   ],
   "source": [
    "#loading the desired data from file\n",
    "#At this point, I was working with the file that had been merged and cleaned with DB Browser and Excel\n",
    "jamesBondMainDataset = primaryBondDataset\n",
    "\n",
    "#loading locations dataset\n",
    "#This file had been cleaned with Excel, and listed the unique location values\n",
    "locationWithCoOrds = pd.read_csv(\"locationWithCoOrds.csv\")\n",
    "\n",
    "#I pulled the location_ids to be used as keys, and the location names for values\n",
    "keyList = list(locationWithCoOrds[\"location_id\"])\n",
    "valueList = list(locationWithCoOrds[\"location\"])\n",
    "\n",
    "#initalising empty lists\n",
    "idArray = []\n",
    "depictedLocationsCountArray = []\n",
    "depictedLocationsArray = []\n",
    "filmingLocationsCountArray = []\n",
    "filmingLocationsArray = []\n",
    "\n",
    "#From the main dataset, I pulled the Depicted_Film_Loc and Shooting_Loc columns and converted\n",
    "#them to dictionaries to allow me to work with them as a list of lists.\n",
    "depictedLocationsFilmDict = jamesBondMainDataset[\"Depicted_Film_Loc\"].to_dict()\n",
    "filmingLocationsFilmDict = jamesBondMainDataset[\"Shooting_Loc\"].to_dict()\n",
    "\n",
    "#I added a new decade column to reflect each film's decade of release\n",
    "jamesBondMainDataset[\"Decade\"] = (jamesBondMainDataset[\"Year\"]//10)*10\n",
    "\n",
    "#I also stored this as an array\n",
    "decadeArray = jamesBondMainDataset[\"Decade\"] \n",
    "\n",
    "#In the for loops below, I tried to tackle a few issues at once!\n",
    "\n",
    "#The first step was to alter the primary dataset to include a film_ID that would allow me\n",
    "#to identify records across tables.\n",
    "\n",
    "#for each film in the dataset, the title and the year of release are extracted\n",
    "#and combined as a string to create a new ID\n",
    "\n",
    "#These IDs are stored in the idArray\n",
    "\n",
    "for i in range(0,len(jamesBondMainDataset[\"Movie\"])):\n",
    "    yearOfRelease = str(jamesBondMainDataset[\"Year\"][i])\n",
    "    idArray.append(jamesBondMainDataset[\"Movie\"][i] + \"_\" + yearOfRelease)\n",
    "\n",
    "    #Below, for each record, I accessed the list of depicted locations and shooting locations.\n",
    "    #I converted both of these to lists for later use.\n",
    "    #I also counted the number of elements in the list (i.e. how many locations)\n",
    "    #to make count varibales for the number of depicted locations and shooting\n",
    "    #locations per film.\n",
    "\n",
    "    depictedLocationsFilmList = (depictedLocationsFilmDict[i]).split(\",\")\n",
    "    depictedLocationsFilmCount = len(depictedLocationsFilmList)\n",
    "    depictedLocationsCountArray.append(depictedLocationsFilmCount)\n",
    "\n",
    "    shootingLocationsFilmList = (filmingLocationsFilmDict[i]).split(\",\")\n",
    "    shootingLocationsFilmCount = len(shootingLocationsFilmList)\n",
    "    filmingLocationsCountArray.append(shootingLocationsFilmCount)\n",
    "\n",
    "#Additionally, in the for loops below, I replaced instances of a location in the depictedLocationsFilmList\n",
    "#and shootingLocationsFilmList with their location_ids\n",
    "\n",
    "    for j in range(0, depictedLocationsFilmCount):\n",
    "        currentLocation = depictedLocationsFilmList[j].strip()\n",
    "        locationIDPosition = valueList.index(currentLocation)\n",
    "        depictedLocationsFilmList[j] = keyList[locationIDPosition]\n",
    "    depictedLocationsArray.append(depictedLocationsFilmList)\n",
    "\n",
    "\n",
    "    for k in range(0, shootingLocationsFilmCount):\n",
    "        currentLocation = shootingLocationsFilmList[k].strip()\n",
    "        locationIDPosition = valueList.index(currentLocation)\n",
    "        shootingLocationsFilmList[k] = keyList[locationIDPosition]\n",
    "    filmingLocationsArray.append(shootingLocationsFilmList)\n",
    "    \n",
    "\n",
    "#I added a new column to the primary dataset to add the new IDs\n",
    "\n",
    "jamesBondMainDataset[\"Film_ID\"] = idArray\n",
    "\n",
    "#I also added an additional column for aggregate user score across platforms\n",
    "\n",
    "jamesBondMainDataset[\"Avg_User_Rating\"] = (jamesBondMainDataset[\"Avg_User_IMDB\"] + jamesBondMainDataset[\"Avg_User_Rtn_Tom\"])/2\n",
    "\n",
    "# show updated dataframe\n",
    "#display(jamesBondMainDataset.head())\n",
    "\n",
    "filmIDColumn = jamesBondMainDataset[\"Film_ID\"]\n",
    "\n",
    "#I created a new dictionary using the information compiled above \n",
    "locationsTableData = {'Film': list(jamesBondMainDataset[\"Movie\"]),\n",
    "        'Number of Depicted Locations': depictedLocationsCountArray,\n",
    "        \"Depicted Locations\": depictedLocationsArray,\n",
    "        \"Number of Shooting Locations\": filmingLocationsCountArray,\n",
    "        \"Shooting Locations\": filmingLocationsArray\n",
    "        }\n",
    "\n",
    "#This dictionary could then be converted to a dataframe,\n",
    "#which was then converted to a new csv file\n",
    "newLocationsdf = pd.DataFrame(locationsTableData, index=idArray)\n",
    "display(newLocationsdf.head())\n",
    "\n",
    "#jamesBondLocationsTable = dict(method = \"zip\",archive_name = \"jamesBondLocationsTableClean.csv\")\n",
    "#newLocationsdf.to_csv(\"jamesBondLocationsTableClean.zip\", compression = jamesBondLocationsTable)\n",
    "\n",
    "#jamesBondMainDatasetdf = dict(method = \"zip\",archive_name = \"jamesBondMainClean.csv\")\n",
    "#jamesBondMainDataset.to_csv(\"jamesBondMainClean.zip\", compression = jamesBondMainDatasetdf)"
   ]
  },
  {
   "attachments": {},
   "cell_type": "markdown",
   "metadata": {},
   "source": [
    "As I started to experiment with different visualisations (particularly maps), I realised it would be useful to also have the \n",
    "3 letter country codes for each location. Much like the longitude and latitude coordinates, I merged two tables with DB Browser\n",
    "to achieve this using a csv source from dnb: https://docs.dnb.com/partner/en-US/iso_country_codes \n",
    "\n",
    "This also required some troubleshooting and fixes on Excel - some countries were listed differently across the two tables I used and didn't match up correctly in the merge (e.g. Russian Federation vs Russia, People's Republic of Korea vs North Korea, etc.)\n",
    "\n",
    "I also wanted to add another variable to my unique locations table to count how many times each location was used as a depicted or shooting location.\n"
   ]
  },
  {
   "cell_type": "code",
   "execution_count": 5,
   "metadata": {},
   "outputs": [],
   "source": [
    "\n",
    "#loading the desired data from file\n",
    "jamesBondLocationsDataset = pd.read_csv(\"jamesBondLocationsTableClean.csv\")\n",
    "\n",
    "#unique locations file\n",
    "uniqueLocations = locationWithCoOrds\n",
    "\n",
    "location_IDs = uniqueLocations[\"location_id\"]\n",
    "\n",
    "#I initialised a dictionary that would keep track of instances of a \n",
    "#particular location_id, with the location_id as the key and\n",
    "#the count as the value\n",
    "depictedCountDict = {str(x) : \"0\" for x in location_IDs}\n",
    "\n",
    "depictedLocationsList = jamesBondLocationsDataset[\"Depicted Locations\"]\n",
    "\n",
    "#Although it took some roundabout solutions, I managed to update my dictionary to count\n",
    "#how many times each location was used as a depicted location\n",
    "\n",
    "for rowDep in range(0, len(depictedLocationsList)):\n",
    "     \n",
    "     #The rows first had to be cleaned so they could be converted to lists \n",
    "     currentDepictedLocation = depictedLocationsList[rowDep].strip(\"[]\")\n",
    "     currentDepictedLocationList = currentDepictedLocation.split(\",\")\n",
    "     noOfLocations = len(currentDepictedLocationList)\n",
    "\n",
    "     for locationDep in range(0, noOfLocations):\n",
    "\n",
    "          #I cleaned the location strings again to allow me to index them easily\n",
    "          locationString = str(currentDepictedLocationList[locationDep])\n",
    "          locationStripped = locationString.strip()\n",
    "\n",
    "          #Once I obtained the index, I was able to update the count variable\n",
    "          locationCountOccurrence = str(depictedCountDict.get(locationStripped))\n",
    "          locationCountOccurrence = int(locationCountOccurrence) + 1\n",
    "     \n",
    "          #This change was then reflected in the dictionary\n",
    "          depictedCountDict[locationStripped] = locationCountOccurrence\n",
    "\n",
    "\n",
    "#I then repeated the process for shooting locations\n",
    "\n",
    "shootingCountDict = {str(x) : \"0\" for x in location_IDs}\n",
    "\n",
    "shootingLocationsList = jamesBondLocationsDataset[\"Shooting Locations\"]\n",
    "\n",
    "for rowSho in range(0, len(shootingLocationsList)):\n",
    "     \n",
    "     currentShootingLocation = shootingLocationsList[rowSho].strip(\"[]\")\n",
    "     currentShootingLocationList = currentShootingLocation.split(\",\")\n",
    "     noOfLocations = len(currentShootingLocationList)\n",
    "\n",
    "     for locationSho in range(0, noOfLocations):\n",
    "          locationString = str(currentShootingLocationList[locationSho])\n",
    "          locationStripped = locationString.strip()\n",
    "          \n",
    "          locationCountOccurrence = str(shootingCountDict.get(locationStripped))\n",
    "          locationCountOccurrence = int(locationCountOccurrence) + 1\n",
    "    \n",
    "          shootingCountDict[locationStripped] = locationCountOccurrence\n",
    "     \n",
    "\n",
    "#I now also had counts for how many times each location was used as a depicted and shooting location\n",
    "#These were added as new columns to the unique locations table\n",
    "uniqueLocations[\"No of Depictions\"] = depictedCountDict.values()\n",
    "\n",
    "uniqueLocations[\"No of Shoots Used\"] = shootingCountDict.values()\n",
    "\n",
    "\n",
    "#This table was then convertred to a new csv file\n",
    "\n",
    "#JBUniqueLocationZip = dict(method = \"zip\",archive_name = \"JBUniqueLocationZip.csv\")\n",
    "#uniqueLocations.to_csv(\"JBUniqueLocationZip.zip\", compression = JBUniqueLocationZip)"
   ]
  },
  {
   "attachments": {},
   "cell_type": "markdown",
   "metadata": {},
   "source": [
    "For later visualisations, I defined functions that would allow me to count how frequently each location was used as a depicted or shooting location in each decade and add them to the unique locations table."
   ]
  },
  {
   "cell_type": "code",
   "execution_count": 6,
   "metadata": {},
   "outputs": [],
   "source": [
    "def depictedLocationsSubset(jamesBond_locations, jamesBondMainDataset, uniqueLocations, decade):\n",
    "\n",
    "     #Taking smaller sections of data - i.e. by decade\n",
    "     decadeSubset = jamesBondMainDataset[jamesBondMainDataset[\"Decade\"] == decade]\n",
    "     decadeSubsetIDs = decadeSubset[\"Film_ID\"]\n",
    "    \n",
    "    #Using the film IDs, I was able to cross reference with the locations by film table and extract\n",
    "    #the necessary information.\n",
    "\n",
    "     decadeLocations = jamesBond_locations[jamesBond_locations[\"Film_ID\"].isin(decadeSubsetIDs)]\n",
    "\n",
    "     location_IDs = uniqueLocations[\"location_id\"]\n",
    "\n",
    "     #As before, initialised a new dictionary to keep track of occurences \n",
    "     depictedCountDictDecade = {str(x) : \"0\" for x in location_IDs}\n",
    "\n",
    "     #I also converted the depicted locations column to a list\n",
    "     depictedLocationsListDecade = decadeLocations[\"Depicted Locations\"].tolist()\n",
    "    \n",
    "\n",
    "     #The remaining process is much the same as the initial count of location use across all films, only this\n",
    "     #time with a focus on the specific decade provided to the function\n",
    "     \n",
    "     for rowDepDecade in range(0, len(depictedLocationsListDecade)):\n",
    "          \n",
    "          currentDepictedLocationDecade = depictedLocationsListDecade[rowDepDecade].strip(\"[]\")\n",
    "          \n",
    "          currentDepictedLocationListDecade = currentDepictedLocationDecade.split(\",\")\n",
    "         \n",
    "          noOfLocationsDecade = len(currentDepictedLocationListDecade)\n",
    "\n",
    "          for locationDepDecade in range(0, noOfLocationsDecade):\n",
    "               locationStringDecade = str(currentDepictedLocationListDecade[locationDepDecade])\n",
    "               locationStrippedDecade = locationStringDecade.strip()\n",
    "              \n",
    "               locationCountOccurrenceDecade = depictedCountDictDecade.get(locationStrippedDecade)\n",
    "               locationCountOccurrenceDecade = int(locationCountOccurrenceDecade) + 1\n",
    "     \n",
    "               depictedCountDictDecade[locationStrippedDecade] = locationCountOccurrenceDecade\n",
    "\n",
    "     columnTitle = \"Depictions_\"+str(decade)\n",
    "     uniqueLocations[columnTitle] = depictedCountDictDecade.values()\n",
    "\n",
    "     return uniqueLocations\n",
    "\n",
    "#The same workflow as before was applied for the shooting locations\n",
    "\n",
    "def shootingLocationsSubset(jamesBond_locations, jamesBondMainDataset, uniqueLocations, decade):\n",
    "     \n",
    "     #Taking smaller sections of data - i.e. by decade\n",
    "     decadeSubset = jamesBondMainDataset[jamesBondMainDataset[\"Decade\"] == decade]\n",
    "\n",
    "     #I parsed the IDs from the subset\n",
    "     decadeSubsetIDs = decadeSubset[\"Film_ID\"]\n",
    "\n",
    "     #I extracted the depicted locations for the films whose IDs were in the subset\n",
    "     decadeLocations = jamesBond_locations[jamesBond_locations[\"Film_ID\"].isin(decadeSubsetIDs)]\n",
    "\n",
    "     #I also extracted the entire list of unique location IDs\n",
    "     location_IDs = uniqueLocations[\"location_id\"]\n",
    "\n",
    "     #As before, initialised a new dictionary to keep track of occurences \n",
    "     shootingCountDictDecade = {str(x) : \"0\" for x in location_IDs}\n",
    "\n",
    "     #I converted the shooting locations column to a list\n",
    "     shootingLocationsListDecade = decadeLocations[\"Shooting Locations\"].tolist()\n",
    "\n",
    "     #The same process used for depicted locations is applied here too\n",
    "\n",
    "     for rowShootDecade in range(0, len(shootingLocationsListDecade)):\n",
    "          \n",
    "          currentShootingLocationDecade = shootingLocationsListDecade[rowShootDecade].strip(\"[]\")\n",
    "          currentShootingLocationListDecade = currentShootingLocationDecade.split(\",\")\n",
    "          noOfLocationsDecade = len(currentShootingLocationListDecade)\n",
    "\n",
    "          for locationShootDecade in range(0, noOfLocationsDecade):\n",
    "               locationStringDecade = str(currentShootingLocationListDecade[locationShootDecade])\n",
    "               locationStrippedDecade = locationStringDecade.strip()\n",
    "               \n",
    "               locationCountOccurrenceDecade = shootingCountDictDecade.get(locationStrippedDecade)\n",
    "               locationCountOccurrenceDecade = int(locationCountOccurrenceDecade) + 1\n",
    "     \n",
    "               shootingCountDictDecade[locationStrippedDecade] = locationCountOccurrenceDecade\n",
    "\n",
    "     columnTitle = \"Shooting_\"+str(decade)\n",
    "     uniqueLocations[columnTitle] = shootingCountDictDecade.values()\n",
    "\n",
    "     return uniqueLocations"
   ]
  },
  {
   "attachments": {},
   "cell_type": "markdown",
   "metadata": {},
   "source": [
    "To then actually generate this data, I called the functions repeatedly using a for loop and updated the relevant table."
   ]
  },
  {
   "cell_type": "code",
   "execution_count": 7,
   "metadata": {},
   "outputs": [],
   "source": [
    "for decadeCheck in range(1960,2011,10):\n",
    "    #I called the previously defined functions for each decade to populate the table\n",
    "    uniqueLocationsTemp = depictedLocationsSubset(jamesBondLocationsDataset, jamesBondMainDataset, uniqueLocations, decadeCheck)\n",
    "    uniqueLocations = uniqueLocationsTemp\n",
    "    uniqueLocationsTemp = shootingLocationsSubset(jamesBondLocationsDataset, jamesBondMainDataset, uniqueLocations, decadeCheck)\n",
    "    uniqueLocations = uniqueLocationsTemp\n",
    "\n",
    "#This was then converted to a csv file for future reference\n",
    "uniqueLocationsDecadeZip = dict(method = \"zip\",archive_name = \"uniqueLocationsWithDecade.csv\")\n",
    "uniqueLocations.to_csv(\"uniqueLocationsWithDecade.zip\", compression = uniqueLocationsDecadeZip)\n"
   ]
  },
  {
   "attachments": {},
   "cell_type": "markdown",
   "metadata": {},
   "source": [
    "I then moved to do some exploratory analysis with a linear regression model, looking in particular at fitting a Y variable of the Average User IMDB score.\n",
    "\n",
    "I generated a correlation matrix to quickly check that no two variables were perfectly correlated."
   ]
  },
  {
   "cell_type": "code",
   "execution_count": 8,
   "metadata": {},
   "outputs": [],
   "source": [
    "#JBcorrelationMatrix = primaryBondDataset.corr()\n",
    "\n",
    "JBDataForRegression = jamesBondMainDataset\n"
   ]
  },
  {
   "attachments": {},
   "cell_type": "markdown",
   "metadata": {},
   "source": [
    "I also generated a pairs plot to help identify any potential correlations worth investigating - though\n",
    "it was difficult to make sense of such a large matrix, and I recognised that I needed to refine\n",
    "the variables I was considerating significantly "
   ]
  },
  {
   "cell_type": "code",
   "execution_count": 9,
   "metadata": {},
   "outputs": [],
   "source": [
    "#sb.pairplot(JBcorrelationMatrix)"
   ]
  },
  {
   "attachments": {},
   "cell_type": "markdown",
   "metadata": {},
   "source": [
    "Initially, I dropped the following variables as part of my first round of feature selection:\n",
    "- Year - a unique value for each record, not useful\n",
    "- Movie - again, a unique value for each record\n",
    "- Writer - this involved multiple people per project, and although there was some overlap of names involved, the combinations were practically unique\n",
    "- Depicted_Film_Loc - unique values\n",
    "- Shooting_Loc - unique values\n",
    "- Bond_Girl_Nat - unique values\n",
    "- Avg_User_Rtn_Tom - a metric that wasn't useful as a predictor (was highly correlated with Avg_User_IMDB anyway)\n",
    "- Top_100 - similarly, a metric that wasn't going to be useful as a predictor"
   ]
  },
  {
   "cell_type": "code",
   "execution_count": 10,
   "metadata": {},
   "outputs": [],
   "source": [
    "#JBDataForRegression.drop([\"Year\",\"Movie\",\"Writer\",\"Depicted_Film_Loc\",\"Shooting_Loc\",\"Bond_Girl_Nat\",\"Avg_User_Rtn_Tom\",\"Top_100\"], axis = 1, inplace = True)\n",
    "\n",
    "#regressionWithDummies = pd.get_dummies(JBDataForRegression)\n",
    "\n",
    "#regressionWithDummies"
   ]
  },
  {
   "attachments": {},
   "cell_type": "markdown",
   "metadata": {},
   "source": [
    "Even with these features eliminated from the regression, it was still difficult to gain any clear inference from the regression model.\n",
    "\n",
    "I trialled other approaches and combinations of variables, though found that the coefficient values tended to be relatively small across the board. There wasn't a lot to support the idea of a robust linear model, and I found a lot of the variables were adding unnecessary complexity\n",
    "\n",
    "For this reason, I refined the variables I was looking at significantly to those that I abitrarily deemed significant, based on a combination of preconceived expectations of relevance to IMDB Score and values generated in previous models.\n",
    "\n",
    "As such, the variables I considered in my final linear regression model were:\n",
    "Budget_Adj\n",
    "Film_length\n",
    "Conquests\n",
    "Martinis\n",
    "BJB\n",
    "Kills_Bond\n",
    "Kills_Others\n",
    "Video_Game\n",
    "Bond\n",
    "Bond_Car_MFG\n"
   ]
  },
  {
   "cell_type": "code",
   "execution_count": 11,
   "metadata": {},
   "outputs": [
    {
     "name": "stderr",
     "output_type": "stream",
     "text": [
      "C:\\Users\\sadbh\\AppData\\Local\\Temp\\ipykernel_24156\\3405957496.py:5: FutureWarning: The default value of numeric_only in DataFrame.corr is deprecated. In a future version, it will default to False. Select only valid columns or specify the value of numeric_only to silence this warning.\n",
      "  reducedRegressionWithoutDummiesCorr = JBDataReducedForRegression.corr()\n"
     ]
    },
    {
     "data": {
      "image/png": "[encoded data removed]",
      "text/plain": [
       "<Figure size 2250x2250 with 90 Axes>"
      ]
     },
     "metadata": {},
     "output_type": "display_data"
    }
   ],
   "source": [
    "JBDataReducedForRegression = jamesBondMainDataset[[\"Budget_Adj\",\"Film_Length\",\"Conquests\",\"Martinis\",\"BJB\",\"Kills_Bond\",\"Kills_Others\",\"Avg_User_IMDB\",\"Video_Game\",\"Bond\",\"Bond_Car_MFG\"]]\n",
    "\n",
    "#For visualisation purposes, I generated the pairsplot without the dummy variables for categorical variables\n",
    "#as the addition of these variables made it too large to be useful and took a very long time to generate!\n",
    "reducedRegressionWithoutDummiesCorr = JBDataReducedForRegression.corr()\n",
    "\n",
    "sb.pairplot(reducedRegressionWithoutDummiesCorr)\n",
    "\n",
    "regressionReducedWithDummies = pd.get_dummies(JBDataReducedForRegression)\n",
    "\n",
    "#As evident in the pairs plot, there isn't a particularly strong correlation across any of the regression variables with the\n",
    "# y variable Avg_User_IMDB"
   ]
  },
  {
   "cell_type": "code",
   "execution_count": 12,
   "metadata": {},
   "outputs": [
    {
     "name": "stdout",
     "output_type": "stream",
     "text": [
      "The intercept of the regression is:  8.582692640054656\n",
      "\n",
      "General Vars:\n",
      "               Coefficients\n",
      "Budget_Adj       -0.000009\n",
      "Film_Length      -0.007220\n",
      "Conquests         0.374695\n",
      "Martinis          0.142533\n",
      "BJB               0.472518\n",
      "Kills_Bond        0.041309\n",
      "Kills_Others     -0.004401\n",
      "Video_Game       -0.088014\n",
      "\n",
      "Bond:\n",
      "                      Coefficients\n",
      "Bond_George Lazenby     -1.282390\n",
      "Bond_Pierce Brosnan     -2.041053\n",
      "Bond_Roger Moore        -2.526544\n",
      "Bond_Sean Connery       -0.952416\n",
      "Bond_Timothy Dalton     -1.399956\n",
      "\n",
      "Bond Car:\n",
      "                            Coefficients\n",
      "Bond_Car_MFG_AMC               0.124471\n",
      "Bond_Car_MFG_Aston Martin     -0.658618\n",
      "Bond_Car_MFG_BMW              -0.701774\n",
      "Bond_Car_MFG_Bajaj             0.304861\n",
      "Bond_Car_MFG_Bently           -0.960371\n",
      "Bond_Car_MFG_Citroën           0.014344\n",
      "Bond_Car_MFG_Ford             -0.650010\n",
      "Bond_Car_MFG_Mercury          -1.282390\n",
      "Bond_Car_MFG_Rolls Royce      -0.736789\n",
      "Bond_Car_MFG_Sunbeam          -1.479690\n",
      "Bond_Car_MFG_Toyota           -0.664886\n"
     ]
    }
   ],
   "source": [
    "#Generating the model\n",
    "\n",
    "#creating a linear regression object\n",
    "linearRegressionReduced = LinearRegression()\n",
    "\n",
    "#Storing the x variables\n",
    "xVariablesReduced = regressionReducedWithDummies.columns.values\n",
    "\n",
    "#I located the y variable and removed it from the regression model\n",
    "yIndex = np.where(xVariablesReduced == \"Avg_User_IMDB\")[0][0]\n",
    "\n",
    "#Removing the y variable from the list of variables\n",
    "xVariablesReduced = np.delete(xVariablesReduced,yIndex)\n",
    "\n",
    "#I removed two of the dummy variables for each of the categorical variables to ensure the model was fit correctly.\n",
    "craigIndex = np.where(xVariablesReduced == \"Bond_Daniel Craig\")[0][0]\n",
    "\n",
    "xVariablesReduced = np.delete(xVariablesReduced,craigIndex)\n",
    "\n",
    "lotusIndex = np.where(xVariablesReduced == \"Bond_Car_MFG_Lotus\")[0][0]\n",
    "\n",
    "xVariablesReduced = np.delete(xVariablesReduced,lotusIndex)\n",
    "\n",
    "#Fitting the model\n",
    "linearRegressionReduced.fit(regressionReducedWithDummies[xVariablesReduced],regressionReducedWithDummies[\"Avg_User_IMDB\"])\n",
    "\n",
    "#Rounding the coefficients to six decimal places for easier interpretation\n",
    "roundedCoefficientsReduced = np.round(linearRegressionReduced.coef_,6)\n",
    "\n",
    "cdf2 = pd.DataFrame(roundedCoefficientsReduced, xVariablesReduced, columns=['Coefficients'])\n",
    "\n",
    "\n",
    "print(\"The intercept of the regression is: \",linearRegressionReduced.intercept_)\n",
    "print(\"\\nGeneral Vars:\\n\",cdf2[0:8])\n",
    "print(\"\\nBond:\\n\",cdf2[8:13])\n",
    "print(\"\\nBond Car:\\n\",cdf2[13:24])\n",
    "\n",
    "#Unfortunately, still not a particularly useful model!"
   ]
  },
  {
   "attachments": {},
   "cell_type": "markdown",
   "metadata": {},
   "source": [
    "The intercept of the regression is:  8.582692640054656\n",
    "\n",
    "General Vars:\n",
    "               Coefficients\n",
    "\n",
    "Budget_Adj       -0.000009\n",
    "\n",
    "Film_Length      -0.007220\n",
    "\n",
    "Conquests         0.374695\n",
    "\n",
    "Martinis          0.142533\n",
    "\n",
    "BJB               0.472518\n",
    "\n",
    "Kills_Bond        0.041309\n",
    "\n",
    "Kills_Others     -0.004401\n",
    "\n",
    "Video_Game       -0.088014\n",
    "\n",
    "Bond:\n",
    "                      Coefficients\n",
    "\n",
    "Bond_George Lazenby     -1.282390\n",
    "\n",
    "Bond_Pierce Brosnan     -2.041053\n",
    "\n",
    "Bond_Roger Moore        -2.526544\n",
    "\n",
    "Bond_Sean Connery       -0.952416\n",
    "\n",
    "Bond_Timothy Dalton     -1.399956\n",
    "\n",
    "Bond Car:\n",
    "                            Coefficients\n",
    "\n",
    "Bond_Car_MFG_AMC               0.124471\n",
    "\n",
    "Bond_Car_MFG_Aston Martin     -0.658618\n",
    "\n",
    "Bond_Car_MFG_BMW              -0.701774\n",
    "\n",
    "Bond_Car_MFG_Bajaj             0.304861\n",
    "\n",
    "Bond_Car_MFG_Bently           -0.960371\n",
    "\n",
    "Bond_Car_MFG_Citroën           0.014344\n",
    "\n",
    "Bond_Car_MFG_Ford             -0.650010\n",
    "\n",
    "Bond_Car_MFG_Mercury          -1.282390\n",
    "\n",
    "Bond_Car_MFG_Rolls Royce      -0.736789\n",
    "\n",
    "Bond_Car_MFG_Sunbeam          -1.479690\n",
    "\n",
    "Bond_Car_MFG_Toyota           -0.664886\n",
    "\n",
    "The intercept is quite high here, though I imagine much of this is down to the removal of the Bond_Daniel Craig variable, as Craig's Bond films bring the average IMDB rating across films up. The addition of any of the remaining Bond actor dummy variables brings the predicted score down (Brosnan and Moore suffer in particular from poorly rated outings to have a strong negative effect on the average user IMDB score).\n",
    "\n",
    "Similarly, the majority of Bond car models have a negative impact on IMDB score, though there is very little data to draw on here. Many of the car brands appeared in only one or two films, so it isn't a robut predictor here.\n",
    "\n",
    "Interestingly, the typical Bond cliches - number of 'conquests'/romantic affairs, martinis downed, and instances of \"Bond, James Bond\" all have a positive impact on the average user IMDB score. When it comes to appealing to the audience, it appears it pays off to stick with what you know!\n",
    "\n",
    "I was suprised that Budget_adj had a negative impact on the user IMDB score, albeit a barely negligible one. The number of kills by Bond per film does actually increase the user IMDB score, reflecting the idea that IMDB scores favour the grittier, contemporary Bond flicks, again most closely correlated with Craig in the role. The same is not true of the numbe of kills by characters that aren't Bond, and additionallly, a longer film length comes at the detriment of user scores.\n",
    "\n",
    "Overall, this is by no means a particularly robust model, but it was interesting to conduct this as an exploratory exercise to investigate what correlations could be present!"
   ]
  },
  {
   "attachments": {},
   "cell_type": "markdown",
   "metadata": {},
   "source": [
    "**EXPLORATORY VISUALISATIONS AND ANALYSIS**\n",
    "\n",
    "While getting to grips with the various python libraries and tools, I generated a lot of exploratory visualisations to help me make sense of the data.\n",
    "\n",
    "As I progressed, I found the most substance and interesting visualisations came from comparisons across Bond actors and in the investigation of shooting and depicted locations. Given the globe-trotting nature of the films, there was a lot of variety in the data and scope for interesting visualisations."
   ]
  },
  {
   "cell_type": "code",
   "execution_count": 13,
   "metadata": {},
   "outputs": [],
   "source": [
    "#Defining the Bond colour map for future use and consistency\n",
    "bondColourMap = {\"Sean Connery\": \"#ED0000\", \"George Lazenby\": \"#1C358A\", \"Roger Moore\": \"black\", \"Timothy Dalton\":\"#1B8A29\", \"Pierce Brosnan\": \"#7B7D7D\", \"Daniel Craig\": \"#D4AC0D\"}\n"
   ]
  },
  {
   "cell_type": "code",
   "execution_count": 14,
   "metadata": {},
   "outputs": [
    {
     "data": {
      "text/html": [
       "<div>\n",
       "<style scoped>\n",
       "    .dataframe tbody tr th:only-of-type {\n",
       "        vertical-align: middle;\n",
       "    }\n",
       "\n",
       "    .dataframe tbody tr th {\n",
       "        vertical-align: top;\n",
       "    }\n",
       "\n",
       "    .dataframe thead th {\n",
       "        text-align: right;\n",
       "    }\n",
       "</style>\n",
       "<table border=\"1\" class=\"dataframe\">\n",
       "  <thead>\n",
       "    <tr style=\"text-align: right;\">\n",
       "      <th></th>\n",
       "      <th>World_Adj</th>\n",
       "    </tr>\n",
       "    <tr>\n",
       "      <th>Bond</th>\n",
       "      <th></th>\n",
       "    </tr>\n",
       "  </thead>\n",
       "  <tbody>\n",
       "    <tr>\n",
       "      <th>Daniel Craig</th>\n",
       "      <td>827588.000000</td>\n",
       "    </tr>\n",
       "    <tr>\n",
       "      <th>George Lazenby</th>\n",
       "      <td>518736.000000</td>\n",
       "    </tr>\n",
       "    <tr>\n",
       "      <th>Pierce Brosnan</th>\n",
       "      <td>523901.750000</td>\n",
       "    </tr>\n",
       "    <tr>\n",
       "      <th>Roger Moore</th>\n",
       "      <td>564809.428571</td>\n",
       "    </tr>\n",
       "    <tr>\n",
       "      <th>Sean Connery</th>\n",
       "      <td>745559.666667</td>\n",
       "    </tr>\n",
       "    <tr>\n",
       "      <th>Timothy Dalton</th>\n",
       "      <td>341575.000000</td>\n",
       "    </tr>\n",
       "  </tbody>\n",
       "</table>\n",
       "</div>"
      ],
      "text/plain": [
       "                    World_Adj\n",
       "Bond                         \n",
       "Daniel Craig    827588.000000\n",
       "George Lazenby  518736.000000\n",
       "Pierce Brosnan  523901.750000\n",
       "Roger Moore     564809.428571\n",
       "Sean Connery    745559.666667\n",
       "Timothy Dalton  341575.000000"
      ]
     },
     "execution_count": 14,
     "metadata": {},
     "output_type": "execute_result"
    }
   ],
   "source": [
    "#BOND ACTOR QUANTITATIVE ANALYSIS\n",
    "\n",
    "#Average World Adj Gross\n",
    "jamesBondMainDataset[[\"Bond\",\"World_Adj\"]].groupby(\"Bond\").mean()\n"
   ]
  },
  {
   "cell_type": "code",
   "execution_count": 15,
   "metadata": {},
   "outputs": [
    {
     "data": {
      "text/plain": [
       "<Axes: title={'center': 'Dalton Adj. Gross'}>"
      ]
     },
     "execution_count": 15,
     "metadata": {},
     "output_type": "execute_result"
    },
    {
     "data": {
      "image/png": "[encoded data removed]",
      "text/plain": [
       "<Figure size 3000x500 with 6 Axes>"
      ]
     },
     "metadata": {},
     "output_type": "display_data"
    }
   ],
   "source": [
    "#COMPARING ADJUSTED GROSS ACROSS ACTORS\n",
    "\n",
    "#extracting data\n",
    "bondActorAdjGross = jamesBondMainDataset[[\"Bond\",\"World_Adj\"]].groupby(\"Bond\")\n",
    "\n",
    "#converting grouped data to data frame\n",
    "bondActorAdjGross = pd.DataFrame(bondActorAdjGross)\n",
    "\n",
    "#defining colours for boxplots\n",
    "colourSelection = {\"boxes\": \"#A93226\", \"whiskers\": \"black\", \"medians\": \"#1F618D\", \"caps\": \"Gray\",}\n",
    "\n",
    "#generating figure with six axes for six boxplots\n",
    "figRunTime, (axCraig, axLazenby, axBrosnan, axMoore, axConnery, axDalton) = plt.subplots(nrows = 1, ncols = 6, figsize = (30,5))\n",
    "\n",
    "#generating a boxplot for the adj box office gross for each Bond actor\n",
    "bondActorAdjGross.iloc[0][1].plot.box(ax = axCraig, title = \"Craig Adj. Gross\", ylim = (292392,1120980), color = colourSelection)\n",
    "bondActorAdjGross.iloc[1][1].plot.box(ax = axLazenby, title = \"Lazenby Adj. Gross\", ylim = (292392,1120980), color = colourSelection)\n",
    "bondActorAdjGross.iloc[2][1].plot.box(ax = axBrosnan, title = \"Brosnan Adj. Gross\", ylim = (292392,1120980), color = colourSelection)\n",
    "bondActorAdjGross.iloc[3][1].plot.box(ax = axMoore, title = \"Moore Adj. Gross\", ylim = (292392,1120980), color = colourSelection)\n",
    "bondActorAdjGross.iloc[4][1].plot.box(ax = axConnery, title = \"Connery Adj. Gross\", ylim = (292392,1120980), color = colourSelection)\n",
    "bondActorAdjGross.iloc[5][1].plot.box(ax = axDalton, title = \"Dalton Adj. Gross\", ylim = (292392,1120980), color = colourSelection)"
   ]
  },
  {
   "attachments": {},
   "cell_type": "markdown",
   "metadata": {},
   "source": [
    "The average adjusted gross across actors shows the peaks and troughs in the popularity of the film series. The early Connery films performed strongly, while the actors that followed, Lazenby and Moore, saw something of a decline. While Lazenby only appeared as Bond once, Moore's average is brought down by some very low grosses despite some well-performing flicks. The lowest point came with Dalton, before there was something of a revival with the Brosnan era. However, the financial performance of the Craig films blows the others out of the water, providing concrete proof of the benefits of the Craig-led rebrand."
   ]
  },
  {
   "cell_type": "code",
   "execution_count": 16,
   "metadata": {},
   "outputs": [
    {
     "data": {
      "text/html": [
       "<div>\n",
       "<style scoped>\n",
       "    .dataframe tbody tr th:only-of-type {\n",
       "        vertical-align: middle;\n",
       "    }\n",
       "\n",
       "    .dataframe tbody tr th {\n",
       "        vertical-align: top;\n",
       "    }\n",
       "\n",
       "    .dataframe thead tr th {\n",
       "        text-align: left;\n",
       "    }\n",
       "\n",
       "    .dataframe thead tr:last-of-type th {\n",
       "        text-align: right;\n",
       "    }\n",
       "</style>\n",
       "<table border=\"1\" class=\"dataframe\">\n",
       "  <thead>\n",
       "    <tr>\n",
       "      <th></th>\n",
       "      <th colspan=\"4\" halign=\"left\">Avg_User_IMDB</th>\n",
       "      <th colspan=\"4\" halign=\"left\">Avg_User_Rtn_Tom</th>\n",
       "    </tr>\n",
       "    <tr>\n",
       "      <th></th>\n",
       "      <th>min</th>\n",
       "      <th>max</th>\n",
       "      <th>median</th>\n",
       "      <th>mean</th>\n",
       "      <th>min</th>\n",
       "      <th>max</th>\n",
       "      <th>median</th>\n",
       "      <th>mean</th>\n",
       "    </tr>\n",
       "    <tr>\n",
       "      <th>Bond</th>\n",
       "      <th></th>\n",
       "      <th></th>\n",
       "      <th></th>\n",
       "      <th></th>\n",
       "      <th></th>\n",
       "      <th></th>\n",
       "      <th></th>\n",
       "      <th></th>\n",
       "    </tr>\n",
       "  </thead>\n",
       "  <tbody>\n",
       "    <tr>\n",
       "      <th>Daniel Craig</th>\n",
       "      <td>6.7</td>\n",
       "      <td>7.9</td>\n",
       "      <td>7.30</td>\n",
       "      <td>7.300000</td>\n",
       "      <td>6.1</td>\n",
       "      <td>8.2</td>\n",
       "      <td>7.10</td>\n",
       "      <td>7.125000</td>\n",
       "    </tr>\n",
       "    <tr>\n",
       "      <th>George Lazenby</th>\n",
       "      <td>6.8</td>\n",
       "      <td>6.8</td>\n",
       "      <td>6.80</td>\n",
       "      <td>6.800000</td>\n",
       "      <td>6.7</td>\n",
       "      <td>6.7</td>\n",
       "      <td>6.70</td>\n",
       "      <td>6.700000</td>\n",
       "    </tr>\n",
       "    <tr>\n",
       "      <th>Pierce Brosnan</th>\n",
       "      <td>6.0</td>\n",
       "      <td>7.2</td>\n",
       "      <td>6.35</td>\n",
       "      <td>6.475000</td>\n",
       "      <td>5.7</td>\n",
       "      <td>6.9</td>\n",
       "      <td>6.05</td>\n",
       "      <td>6.175000</td>\n",
       "    </tr>\n",
       "    <tr>\n",
       "      <th>Roger Moore</th>\n",
       "      <td>6.2</td>\n",
       "      <td>7.1</td>\n",
       "      <td>6.70</td>\n",
       "      <td>6.614286</td>\n",
       "      <td>4.7</td>\n",
       "      <td>6.8</td>\n",
       "      <td>5.70</td>\n",
       "      <td>5.685714</td>\n",
       "    </tr>\n",
       "    <tr>\n",
       "      <th>Sean Connery</th>\n",
       "      <td>6.7</td>\n",
       "      <td>7.8</td>\n",
       "      <td>7.15</td>\n",
       "      <td>7.200000</td>\n",
       "      <td>6.3</td>\n",
       "      <td>8.4</td>\n",
       "      <td>7.25</td>\n",
       "      <td>7.250000</td>\n",
       "    </tr>\n",
       "    <tr>\n",
       "      <th>Timothy Dalton</th>\n",
       "      <td>6.5</td>\n",
       "      <td>6.7</td>\n",
       "      <td>6.60</td>\n",
       "      <td>6.600000</td>\n",
       "      <td>6.0</td>\n",
       "      <td>6.3</td>\n",
       "      <td>6.15</td>\n",
       "      <td>6.150000</td>\n",
       "    </tr>\n",
       "  </tbody>\n",
       "</table>\n",
       "</div>"
      ],
      "text/plain": [
       "               Avg_User_IMDB                       Avg_User_Rtn_Tom       \\\n",
       "                         min  max median      mean              min  max   \n",
       "Bond                                                                       \n",
       "Daniel Craig             6.7  7.9   7.30  7.300000              6.1  8.2   \n",
       "George Lazenby           6.8  6.8   6.80  6.800000              6.7  6.7   \n",
       "Pierce Brosnan           6.0  7.2   6.35  6.475000              5.7  6.9   \n",
       "Roger Moore              6.2  7.1   6.70  6.614286              4.7  6.8   \n",
       "Sean Connery             6.7  7.8   7.15  7.200000              6.3  8.4   \n",
       "Timothy Dalton           6.5  6.7   6.60  6.600000              6.0  6.3   \n",
       "\n",
       "                                 \n",
       "               median      mean  \n",
       "Bond                             \n",
       "Daniel Craig     7.10  7.125000  \n",
       "George Lazenby   6.70  6.700000  \n",
       "Pierce Brosnan   6.05  6.175000  \n",
       "Roger Moore      5.70  5.685714  \n",
       "Sean Connery     7.25  7.250000  \n",
       "Timothy Dalton   6.15  6.150000  "
      ]
     },
     "execution_count": 16,
     "metadata": {},
     "output_type": "execute_result"
    }
   ],
   "source": [
    "#USER SCORE ANALYSIS PER ACTOR\n",
    "\n",
    "jamesBondMainDataset.groupby(\"Bond\").agg(\n",
    "\n",
    "    {\n",
    "        \"Avg_User_IMDB\" : [\"min\",\"max\",\"median\",\"mean\"],\n",
    "        \"Avg_User_Rtn_Tom\" : [\"min\",\"max\",\"median\",\"mean\"],\n",
    "\n",
    "    }\n",
    ")"
   ]
  },
  {
   "attachments": {},
   "cell_type": "markdown",
   "metadata": {},
   "source": [
    "Looking at the average user scores, they follow typically the same pattern as the financial earnings, with a slight difference in that Dalton's outings were actually rated better on average than Brosnan's despite performing worse financially. It may be the case that these films were deemed to have \"aged better\", and public opinion over time grew to favour Dalton's outings rather than Brosnan's, even if couldn't draw audiences at the time of theatrical release."
   ]
  },
  {
   "cell_type": "code",
   "execution_count": 17,
   "metadata": {},
   "outputs": [
    {
     "data": {
      "text/plain": [
       "<Axes: title={'center': 'No. of Depicted & Shooting Locations for James Bond Films'}, xlabel='Film', ylabel='Number of Locations'>"
      ]
     },
     "execution_count": 17,
     "metadata": {},
     "output_type": "execute_result"
    },
    {
     "data": {
      "image/png": "[encoded data removed]",
      "text/plain": [
       "<Figure size 640x480 with 1 Axes>"
      ]
     },
     "metadata": {},
     "output_type": "display_data"
    }
   ],
   "source": [
    "#NUMBER OF DEPICTED/SHOOTING LOCATIONS ACROSS FILMS\n",
    "\n",
    "jamesBond_locations = pd.read_csv(\"jamesBondLocationsTableClean.csv\", index_col = 0)\n",
    "\n",
    "#extracting data to be plotted\n",
    "locationsCount = jamesBond_locations[[\"Number of Depicted Locations\",\"Number of Shooting Locations\"]]\n",
    "\n",
    "#generating grouped barchart\n",
    "locationsCount.plot.bar(color = [\"#D4AC0D\",\"#A93226\"], title = \"No. of Depicted & Shooting Locations for James Bond Films\", xlabel = \"Film\", ylabel = \"Number of Locations\")\n"
   ]
  },
  {
   "cell_type": "code",
   "execution_count": 18,
   "metadata": {},
   "outputs": [
    {
     "data": {
      "text/plain": [
       "Text(0.5, 0.98, 'World Adj Gross vs Budget Adj per Bond Actor')"
      ]
     },
     "execution_count": 18,
     "metadata": {},
     "output_type": "execute_result"
    },
    {
     "data": {
      "image/png": "[encoded data removed]",
      "text/plain": [
       "<Figure size 800x1200 with 6 Axes>"
      ]
     },
     "metadata": {},
     "output_type": "display_data"
    }
   ],
   "source": [
    "#BUDGET ADJ VS ADJ GROSS FOR BOND ACTORS\n",
    "\n",
    "#Defining the Bond colour map for future use and consistency\n",
    "bondColourMap = {\"Sean Connery\": \"#ED0000\", \"George Lazenby\": \"#1C358A\", \"Roger Moore\": \"black\", \"Timothy Dalton\":\"#1B8A29\", \"Pierce Brosnan\": \"#7B7D7D\", \"Daniel Craig\": \"#D4AC0D\"}\n",
    "\n",
    "\n",
    "grossVbudget = sb.lmplot(data = jamesBondMainDataset, x=\"Budget_Adj\",y=\"World_Adj\",col=\"Bond\",hue=\"Bond\", col_wrap=2, palette = bondColourMap, ci = None,\n",
    "height = 4)\n",
    "grossVbudgetFig = grossVbudget.fig\n",
    "grossVbudgetFig.suptitle(\"World Adj Gross vs Budget Adj per Bond Actor\")\n",
    "\n"
   ]
  },
  {
   "attachments": {},
   "cell_type": "markdown",
   "metadata": {},
   "source": [
    "Typically, there is a positive linear relationship between a film's adjusted global gross and adjusted budget, though Moore and, to a lesser extent, Brosnan are exceptions to this, suggesting that this is not a certain positive relationship."
   ]
  },
  {
   "cell_type": "code",
   "execution_count": 19,
   "metadata": {},
   "outputs": [
    {
     "data": {
      "application/vnd.plotly.v1+json": {
       "config": {
        "plotlyServerURL": "https://plot.ly"
       },
       "data": [
        {
         "alignmentgroup": "True",
         "hovertemplate": "variable=Martinis<br>Bond=%{x}<br>value=%{y}<extra></extra>",
         "legendgroup": "Martinis",
         "marker": {
          "color": "#99AE40",
          "pattern": {
           "shape": ""
          }
         },
         "name": "Martinis",
         "offsetgroup": "Martinis",
         "orientation": "v",
         "showlegend": true,
         "textposition": "auto",
         "type": "bar",
         "x": [
          "Daniel Craig",
          "George Lazenby",
          "Pierce Brosnan",
          "Roger Moore",
          "Sean Connery",
          "Timothy Dalton"
         ],
         "xaxis": "x",
         "y": [
          11,
          1,
          5,
          2,
          4,
          3
         ],
         "yaxis": "y"
        },
        {
         "alignmentgroup": "True",
         "hovertemplate": "variable=Bond, James Bond<br>Bond=%{x}<br>value=%{y}<extra></extra>",
         "legendgroup": "Bond, James Bond",
         "marker": {
          "color": "black",
          "pattern": {
           "shape": ""
          }
         },
         "name": "Bond, James Bond",
         "offsetgroup": "Bond, James Bond",
         "orientation": "v",
         "showlegend": true,
         "textposition": "auto",
         "type": "bar",
         "x": [
          "Daniel Craig",
          "George Lazenby",
          "Pierce Brosnan",
          "Roger Moore",
          "Sean Connery",
          "Timothy Dalton"
         ],
         "xaxis": "x",
         "y": [
          3,
          2,
          5,
          10,
          4,
          2
         ],
         "yaxis": "y"
        }
       ],
       "layout": {
        "barmode": "relative",
        "legend": {
         "title": {
          "text": "Cliches"
         },
         "tracegroupgap": 0
        },
        "template": {
         "data": {
          "bar": [
           {
            "error_x": {
             "color": "#2a3f5f"
            },
            "error_y": {
             "color": "#2a3f5f"
            },
            "marker": {
             "line": {
              "color": "#E5ECF6",
              "width": 0.5
             },
             "pattern": {
              "fillmode": "overlay",
              "size": 10,
              "solidity": 0.2
             }
            },
            "type": "bar"
           }
          ],
          "barpolar": [
           {
            "marker": {
             "line": {
              "color": "#E5ECF6",
              "width": 0.5
             },
             "pattern": {
              "fillmode": "overlay",
              "size": 10,
              "solidity": 0.2
             }
            },
            "type": "barpolar"
           }
          ],
          "carpet": [
           {
            "aaxis": {
             "endlinecolor": "#2a3f5f",
             "gridcolor": "white",
             "linecolor": "white",
             "minorgridcolor": "white",
             "startlinecolor": "#2a3f5f"
            },
            "baxis": {
             "endlinecolor": "#2a3f5f",
             "gridcolor": "white",
             "linecolor": "white",
             "minorgridcolor": "white",
             "startlinecolor": "#2a3f5f"
            },
            "type": "carpet"
           }
          ],
          "choropleth": [
           {
            "colorbar": {
             "outlinewidth": 0,
             "ticks": ""
            },
            "type": "choropleth"
           }
          ],
          "contour": [
           {
            "colorbar": {
             "outlinewidth": 0,
             "ticks": ""
            },
            "colorscale": [
             [
              0,
              "#0d0887"
             ],
             [
              0.1111111111111111,
              "#46039f"
             ],
             [
              0.2222222222222222,
              "#7201a8"
             ],
             [
              0.3333333333333333,
              "#9c179e"
             ],
             [
              0.4444444444444444,
              "#bd3786"
             ],
             [
              0.5555555555555556,
              "#d8576b"
             ],
             [
              0.6666666666666666,
              "#ed7953"
             ],
             [
              0.7777777777777778,
              "#fb9f3a"
             ],
             [
              0.8888888888888888,
              "#fdca26"
             ],
             [
              1,
              "#f0f921"
             ]
            ],
            "type": "contour"
           }
          ],
          "contourcarpet": [
           {
            "colorbar": {
             "outlinewidth": 0,
             "ticks": ""
            },
            "type": "contourcarpet"
           }
          ],
          "heatmap": [
           {
            "colorbar": {
             "outlinewidth": 0,
             "ticks": ""
            },
            "colorscale": [
             [
              0,
              "#0d0887"
             ],
             [
              0.1111111111111111,
              "#46039f"
             ],
             [
              0.2222222222222222,
              "#7201a8"
             ],
             [
              0.3333333333333333,
              "#9c179e"
             ],
             [
              0.4444444444444444,
              "#bd3786"
             ],
             [
              0.5555555555555556,
              "#d8576b"
             ],
             [
              0.6666666666666666,
              "#ed7953"
             ],
             [
              0.7777777777777778,
              "#fb9f3a"
             ],
             [
              0.8888888888888888,
              "#fdca26"
             ],
             [
              1,
              "#f0f921"
             ]
            ],
            "type": "heatmap"
           }
          ],
          "heatmapgl": [
           {
            "colorbar": {
             "outlinewidth": 0,
             "ticks": ""
            },
            "colorscale": [
             [
              0,
              "#0d0887"
             ],
             [
              0.1111111111111111,
              "#46039f"
             ],
             [
              0.2222222222222222,
              "#7201a8"
             ],
             [
              0.3333333333333333,
              "#9c179e"
             ],
             [
              0.4444444444444444,
              "#bd3786"
             ],
             [
              0.5555555555555556,
              "#d8576b"
             ],
             [
              0.6666666666666666,
              "#ed7953"
             ],
             [
              0.7777777777777778,
              "#fb9f3a"
             ],
             [
              0.8888888888888888,
              "#fdca26"
             ],
             [
              1,
              "#f0f921"
             ]
            ],
            "type": "heatmapgl"
           }
          ],
          "histogram": [
           {
            "marker": {
             "pattern": {
              "fillmode": "overlay",
              "size": 10,
              "solidity": 0.2
             }
            },
            "type": "histogram"
           }
          ],
          "histogram2d": [
           {
            "colorbar": {
             "outlinewidth": 0,
             "ticks": ""
            },
            "colorscale": [
             [
              0,
              "#0d0887"
             ],
             [
              0.1111111111111111,
              "#46039f"
             ],
             [
              0.2222222222222222,
              "#7201a8"
             ],
             [
              0.3333333333333333,
              "#9c179e"
             ],
             [
              0.4444444444444444,
              "#bd3786"
             ],
             [
              0.5555555555555556,
              "#d8576b"
             ],
             [
              0.6666666666666666,
              "#ed7953"
             ],
             [
              0.7777777777777778,
              "#fb9f3a"
             ],
             [
              0.8888888888888888,
              "#fdca26"
             ],
             [
              1,
              "#f0f921"
             ]
            ],
            "type": "histogram2d"
           }
          ],
          "histogram2dcontour": [
           {
            "colorbar": {
             "outlinewidth": 0,
             "ticks": ""
            },
            "colorscale": [
             [
              0,
              "#0d0887"
             ],
             [
              0.1111111111111111,
              "#46039f"
             ],
             [
              0.2222222222222222,
              "#7201a8"
             ],
             [
              0.3333333333333333,
              "#9c179e"
             ],
             [
              0.4444444444444444,
              "#bd3786"
             ],
             [
              0.5555555555555556,
              "#d8576b"
             ],
             [
              0.6666666666666666,
              "#ed7953"
             ],
             [
              0.7777777777777778,
              "#fb9f3a"
             ],
             [
              0.8888888888888888,
              "#fdca26"
             ],
             [
              1,
              "#f0f921"
             ]
            ],
            "type": "histogram2dcontour"
           }
          ],
          "mesh3d": [
           {
            "colorbar": {
             "outlinewidth": 0,
             "ticks": ""
            },
            "type": "mesh3d"
           }
          ],
          "parcoords": [
           {
            "line": {
             "colorbar": {
              "outlinewidth": 0,
              "ticks": ""
             }
            },
            "type": "parcoords"
           }
          ],
          "pie": [
           {
            "automargin": true,
            "type": "pie"
           }
          ],
          "scatter": [
           {
            "fillpattern": {
             "fillmode": "overlay",
             "size": 10,
             "solidity": 0.2
            },
            "type": "scatter"
           }
          ],
          "scatter3d": [
           {
            "line": {
             "colorbar": {
              "outlinewidth": 0,
              "ticks": ""
             }
            },
            "marker": {
             "colorbar": {
              "outlinewidth": 0,
              "ticks": ""
             }
            },
            "type": "scatter3d"
           }
          ],
          "scattercarpet": [
           {
            "marker": {
             "colorbar": {
              "outlinewidth": 0,
              "ticks": ""
             }
            },
            "type": "scattercarpet"
           }
          ],
          "scattergeo": [
           {
            "marker": {
             "colorbar": {
              "outlinewidth": 0,
              "ticks": ""
             }
            },
            "type": "scattergeo"
           }
          ],
          "scattergl": [
           {
            "marker": {
             "colorbar": {
              "outlinewidth": 0,
              "ticks": ""
             }
            },
            "type": "scattergl"
           }
          ],
          "scattermapbox": [
           {
            "marker": {
             "colorbar": {
              "outlinewidth": 0,
              "ticks": ""
             }
            },
            "type": "scattermapbox"
           }
          ],
          "scatterpolar": [
           {
            "marker": {
             "colorbar": {
              "outlinewidth": 0,
              "ticks": ""
             }
            },
            "type": "scatterpolar"
           }
          ],
          "scatterpolargl": [
           {
            "marker": {
             "colorbar": {
              "outlinewidth": 0,
              "ticks": ""
             }
            },
            "type": "scatterpolargl"
           }
          ],
          "scatterternary": [
           {
            "marker": {
             "colorbar": {
              "outlinewidth": 0,
              "ticks": ""
             }
            },
            "type": "scatterternary"
           }
          ],
          "surface": [
           {
            "colorbar": {
             "outlinewidth": 0,
             "ticks": ""
            },
            "colorscale": [
             [
              0,
              "#0d0887"
             ],
             [
              0.1111111111111111,
              "#46039f"
             ],
             [
              0.2222222222222222,
              "#7201a8"
             ],
             [
              0.3333333333333333,
              "#9c179e"
             ],
             [
              0.4444444444444444,
              "#bd3786"
             ],
             [
              0.5555555555555556,
              "#d8576b"
             ],
             [
              0.6666666666666666,
              "#ed7953"
             ],
             [
              0.7777777777777778,
              "#fb9f3a"
             ],
             [
              0.8888888888888888,
              "#fdca26"
             ],
             [
              1,
              "#f0f921"
             ]
            ],
            "type": "surface"
           }
          ],
          "table": [
           {
            "cells": {
             "fill": {
              "color": "#EBF0F8"
             },
             "line": {
              "color": "white"
             }
            },
            "header": {
             "fill": {
              "color": "#C8D4E3"
             },
             "line": {
              "color": "white"
             }
            },
            "type": "table"
           }
          ]
         },
         "layout": {
          "annotationdefaults": {
           "arrowcolor": "#2a3f5f",
           "arrowhead": 0,
           "arrowwidth": 1
          },
          "autotypenumbers": "strict",
          "coloraxis": {
           "colorbar": {
            "outlinewidth": 0,
            "ticks": ""
           }
          },
          "colorscale": {
           "diverging": [
            [
             0,
             "#8e0152"
            ],
            [
             0.1,
             "#c51b7d"
            ],
            [
             0.2,
             "#de77ae"
            ],
            [
             0.3,
             "#f1b6da"
            ],
            [
             0.4,
             "#fde0ef"
            ],
            [
             0.5,
             "#f7f7f7"
            ],
            [
             0.6,
             "#e6f5d0"
            ],
            [
             0.7,
             "#b8e186"
            ],
            [
             0.8,
             "#7fbc41"
            ],
            [
             0.9,
             "#4d9221"
            ],
            [
             1,
             "#276419"
            ]
           ],
           "sequential": [
            [
             0,
             "#0d0887"
            ],
            [
             0.1111111111111111,
             "#46039f"
            ],
            [
             0.2222222222222222,
             "#7201a8"
            ],
            [
             0.3333333333333333,
             "#9c179e"
            ],
            [
             0.4444444444444444,
             "#bd3786"
            ],
            [
             0.5555555555555556,
             "#d8576b"
            ],
            [
             0.6666666666666666,
             "#ed7953"
            ],
            [
             0.7777777777777778,
             "#fb9f3a"
            ],
            [
             0.8888888888888888,
             "#fdca26"
            ],
            [
             1,
             "#f0f921"
            ]
           ],
           "sequentialminus": [
            [
             0,
             "#0d0887"
            ],
            [
             0.1111111111111111,
             "#46039f"
            ],
            [
             0.2222222222222222,
             "#7201a8"
            ],
            [
             0.3333333333333333,
             "#9c179e"
            ],
            [
             0.4444444444444444,
             "#bd3786"
            ],
            [
             0.5555555555555556,
             "#d8576b"
            ],
            [
             0.6666666666666666,
             "#ed7953"
            ],
            [
             0.7777777777777778,
             "#fb9f3a"
            ],
            [
             0.8888888888888888,
             "#fdca26"
            ],
            [
             1,
             "#f0f921"
            ]
           ]
          },
          "colorway": [
           "#636efa",
           "#EF553B",
           "#00cc96",
           "#ab63fa",
           "#FFA15A",
           "#19d3f3",
           "#FF6692",
           "#B6E880",
           "#FF97FF",
           "#FECB52"
          ],
          "font": {
           "color": "#2a3f5f"
          },
          "geo": {
           "bgcolor": "white",
           "lakecolor": "white",
           "landcolor": "#E5ECF6",
           "showlakes": true,
           "showland": true,
           "subunitcolor": "white"
          },
          "hoverlabel": {
           "align": "left"
          },
          "hovermode": "closest",
          "mapbox": {
           "style": "light"
          },
          "paper_bgcolor": "white",
          "plot_bgcolor": "#E5ECF6",
          "polar": {
           "angularaxis": {
            "gridcolor": "white",
            "linecolor": "white",
            "ticks": ""
           },
           "bgcolor": "#E5ECF6",
           "radialaxis": {
            "gridcolor": "white",
            "linecolor": "white",
            "ticks": ""
           }
          },
          "scene": {
           "xaxis": {
            "backgroundcolor": "#E5ECF6",
            "gridcolor": "white",
            "gridwidth": 2,
            "linecolor": "white",
            "showbackground": true,
            "ticks": "",
            "zerolinecolor": "white"
           },
           "yaxis": {
            "backgroundcolor": "#E5ECF6",
            "gridcolor": "white",
            "gridwidth": 2,
            "linecolor": "white",
            "showbackground": true,
            "ticks": "",
            "zerolinecolor": "white"
           },
           "zaxis": {
            "backgroundcolor": "#E5ECF6",
            "gridcolor": "white",
            "gridwidth": 2,
            "linecolor": "white",
            "showbackground": true,
            "ticks": "",
            "zerolinecolor": "white"
           }
          },
          "shapedefaults": {
           "line": {
            "color": "#2a3f5f"
           }
          },
          "ternary": {
           "aaxis": {
            "gridcolor": "white",
            "linecolor": "white",
            "ticks": ""
           },
           "baxis": {
            "gridcolor": "white",
            "linecolor": "white",
            "ticks": ""
           },
           "bgcolor": "#E5ECF6",
           "caxis": {
            "gridcolor": "white",
            "linecolor": "white",
            "ticks": ""
           }
          },
          "title": {
           "x": 0.05
          },
          "xaxis": {
           "automargin": true,
           "gridcolor": "white",
           "linecolor": "white",
           "ticks": "",
           "title": {
            "standoff": 15
           },
           "zerolinecolor": "white",
           "zerolinewidth": 2
          },
          "yaxis": {
           "automargin": true,
           "gridcolor": "white",
           "linecolor": "white",
           "ticks": "",
           "title": {
            "standoff": 15
           },
           "zerolinecolor": "white",
           "zerolinewidth": 2
          }
         }
        },
        "title": {
         "text": "Bond Cliches per Actor"
        },
        "xaxis": {
         "anchor": "y",
         "domain": [
          0,
          1
         ],
         "title": {
          "text": "Actor"
         }
        },
        "yaxis": {
         "anchor": "x",
         "domain": [
          0,
          1
         ],
         "title": {
          "text": "No. of Occurrences"
         }
        }
       }
      }
     },
     "metadata": {},
     "output_type": "display_data"
    }
   ],
   "source": [
    "#BOND CLICHE VISUALISATION\n",
    "\n",
    "#Aggregating martini data by Bond actor\n",
    "martiniData = jamesBondMainDataset.groupby(\"Bond\")[\"Martinis\"].sum()\n",
    "\n",
    "#Aggregating instances of \"Bond, James Bond\" by actor\n",
    "BJBData = jamesBondMainDataset.groupby(\"Bond\")[\"BJB\"].sum()\n",
    "\n",
    "#Collecting unique Bond actor values\n",
    "bondArray = jamesBondMainDataset[\"Bond\"].unique()\n",
    "\n",
    "#Compiling cliche data into a dictionary\n",
    "contentData = {\n",
    "               \"Martinis\": martiniData,\n",
    "              \"Bond, James Bond\": BJBData }\n",
    "\n",
    "#Converting cliche data dictionary to a pandas dataframe\n",
    "contentDataframe = pd.DataFrame(contentData)\n",
    "\n",
    "#Generating figure\n",
    "figCliches = px.bar(contentDataframe, y = [\"Martinis\",\"Bond, James Bond\"], title=\"Bond Cliches per Actor\", color_discrete_map = {\"Martinis\":\"#99AE40\", \"Bond, James Bond\": \"black\" })\n",
    "\n",
    "#Updating layout of figure\n",
    "figCliches.update_layout(xaxis_title=\"Actor\",yaxis_title = \"No. of Occurrences\", legend_title = \"Cliches\")\n",
    "\n",
    "#Displaying figure\n",
    "figCliches.show()"
   ]
  },
  {
   "attachments": {},
   "cell_type": "markdown",
   "metadata": {},
   "source": [
    "This visualisation was just for fun to see how often each actor indulged in the standard Bond cliches of drinking a martini and introducing themselves as \"Bond, James Bond.\" Craig is a clear winner for most martinis consumed, but Moore claims the BJB title, stealing it from original actor Connery."
   ]
  },
  {
   "cell_type": "code",
   "execution_count": 20,
   "metadata": {},
   "outputs": [
    {
     "data": {
      "application/vnd.plotly.v1+json": {
       "config": {
        "plotlyServerURL": "https://plot.ly"
       },
       "data": [
        {
         "hovertemplate": "<b>%{hovertext}</b><br><br>Bond=Sean Connery<br>Adj_Gross=%{x}<br>Avg_User_Rating=%{y}<br>Budget_Adj=%{marker.size}<extra></extra>",
         "hovertext": [
          "Dr. No_1962",
          "From Russia with Love_1963",
          "Goldfinger_1964",
          "Thunderball_1965",
          "You Only Live Twice_1967",
          "Diamonds Are Forever_1971"
         ],
         "legendgroup": "Sean Connery",
         "marker": {
          "color": "#ED0000",
          "size": [
           7688,
           15174,
           22468,
           66333,
           66035,
           41274
          ],
          "sizemode": "area",
          "sizeref": 620.035,
          "symbol": "circle"
         },
         "mode": "markers",
         "name": "Sean Connery",
         "orientation": "v",
         "showlegend": true,
         "type": "scatter",
         "x": [
          457928,
          598624,
          935404,
          1040693,
          775740,
          664969
         ],
         "xaxis": "x",
         "y": [
          7.5,
          7.75,
          8.1,
          6.9,
          6.6,
          6.5
         ],
         "yaxis": "y"
        },
        {
         "hovertemplate": "<b>%{hovertext}</b><br><br>Bond=George Lazenby<br>Adj_Gross=%{x}<br>Avg_User_Rating=%{y}<br>Budget_Adj=%{marker.size}<extra></extra>",
         "hovertext": [
          "On Her Majesty's Secret Service_1969"
         ],
         "legendgroup": "George Lazenby",
         "marker": {
          "color": "#1C358A",
          "size": [
           50608
          ],
          "sizemode": "area",
          "sizeref": 620.035,
          "symbol": "circle"
         },
         "mode": "markers",
         "name": "George Lazenby",
         "orientation": "v",
         "showlegend": true,
         "type": "scatter",
         "x": [
          518736
         ],
         "xaxis": "x",
         "y": [
          6.75
         ],
         "yaxis": "y"
        },
        {
         "hovertemplate": "<b>%{hovertext}</b><br><br>Bond=Roger Moore<br>Adj_Gross=%{x}<br>Avg_User_Rating=%{y}<br>Budget_Adj=%{marker.size}<extra></extra>",
         "hovertext": [
          "Live and Let Die_1973",
          "The Man with the Golden Gun_1974",
          "The Spy Who Loved Me_1977",
          "Moonraker_1979",
          "For Your Eyes Only_1981",
          "Octopussy_1983",
          "A View to a Kill_1985"
         ],
         "legendgroup": "Roger Moore",
         "marker": {
          "color": "black",
          "size": [
           36603,
           32965,
           53636,
           99134,
           71514,
           64102,
           64730
          ],
          "sizemode": "area",
          "sizeref": 620.035,
          "symbol": "circle"
         },
         "mode": "markers",
         "name": "Roger Moore",
         "orientation": "v",
         "showlegend": true,
         "type": "scatter",
         "x": [
          846046,
          459623,
          710290,
          672514,
          498812,
          437059,
          329322
         ],
         "xaxis": "x",
         "y": [
          6.35,
          5.9,
          6.949999999999999,
          5.95,
          6.55,
          5.9,
          5.45
         ],
         "yaxis": "y"
        },
        {
         "hovertemplate": "<b>%{hovertext}</b><br><br>Bond=Timothy Dalton<br>Adj_Gross=%{x}<br>Avg_User_Rating=%{y}<br>Budget_Adj=%{marker.size}<extra></extra>",
         "hovertext": [
          "The Living Daylights_1987",
          "License to Kill_1989"
         ],
         "legendgroup": "Timothy Dalton",
         "marker": {
          "color": "#1B8A29",
          "size": [
           81749,
           78637
          ],
          "sizemode": "area",
          "sizeref": 620.035,
          "symbol": "circle"
         },
         "mode": "markers",
         "name": "Timothy Dalton",
         "orientation": "v",
         "showlegend": true,
         "type": "scatter",
         "x": [
          390758,
          292392
         ],
         "xaxis": "x",
         "y": [
          6.5,
          6.25
         ],
         "yaxis": "y"
        },
        {
         "hovertemplate": "<b>%{hovertext}</b><br><br>Bond=Pierce Brosnan<br>Adj_Gross=%{x}<br>Avg_User_Rating=%{y}<br>Budget_Adj=%{marker.size}<extra></extra>",
         "hovertext": [
          "GoldenEye_1995",
          "Tomorrow Never Dies_1997",
          "The World Is Not Enough_1999",
          "Die Another Day_2002"
         ],
         "legendgroup": "Pierce Brosnan",
         "marker": {
          "color": "#7B7D7D",
          "size": [
           91404,
           159117,
           188130,
           183255
          ],
          "sizemode": "area",
          "sizeref": 620.035,
          "symbol": "circle"
         },
         "mode": "markers",
         "name": "Pierce Brosnan",
         "orientation": "v",
         "showlegend": true,
         "type": "scatter",
         "x": [
          542985,
          491098,
          504091,
          557433
         ],
         "xaxis": "x",
         "y": [
          7.050000000000001,
          6.2,
          6,
          6.05
         ],
         "yaxis": "y"
        },
        {
         "hovertemplate": "<b>%{hovertext}</b><br><br>Bond=Daniel Craig<br>Adj_Gross=%{x}<br>Avg_User_Rating=%{y}<br>Budget_Adj=%{marker.size}<extra></extra>",
         "hovertext": [
          "Casino Royale_2006",
          "Quantum of Solace_2008",
          "Skyfall_2012",
          "Spectre_2015"
         ],
         "legendgroup": "Daniel Craig",
         "marker": {
          "color": "#D4AC0D",
          "size": [
           117465,
           248014,
           202240,
           240803
          ],
          "sizemode": "area",
          "sizeref": 620.035,
          "symbol": "circle"
         },
         "mode": "markers",
         "name": "Daniel Craig",
         "orientation": "v",
         "showlegend": true,
         "type": "scatter",
         "x": [
          686784,
          638035,
          1120980,
          864553
         ],
         "xaxis": "x",
         "y": [
          7.85,
          6.4,
          8,
          6.6
         ],
         "yaxis": "y"
        }
       ],
       "layout": {
        "legend": {
         "itemsizing": "constant",
         "title": {
          "text": "Bond"
         },
         "tracegroupgap": 0
        },
        "template": {
         "data": {
          "bar": [
           {
            "error_x": {
             "color": "#2a3f5f"
            },
            "error_y": {
             "color": "#2a3f5f"
            },
            "marker": {
             "line": {
              "color": "#E5ECF6",
              "width": 0.5
             },
             "pattern": {
              "fillmode": "overlay",
              "size": 10,
              "solidity": 0.2
             }
            },
            "type": "bar"
           }
          ],
          "barpolar": [
           {
            "marker": {
             "line": {
              "color": "#E5ECF6",
              "width": 0.5
             },
             "pattern": {
              "fillmode": "overlay",
              "size": 10,
              "solidity": 0.2
             }
            },
            "type": "barpolar"
           }
          ],
          "carpet": [
           {
            "aaxis": {
             "endlinecolor": "#2a3f5f",
             "gridcolor": "white",
             "linecolor": "white",
             "minorgridcolor": "white",
             "startlinecolor": "#2a3f5f"
            },
            "baxis": {
             "endlinecolor": "#2a3f5f",
             "gridcolor": "white",
             "linecolor": "white",
             "minorgridcolor": "white",
             "startlinecolor": "#2a3f5f"
            },
            "type": "carpet"
           }
          ],
          "choropleth": [
           {
            "colorbar": {
             "outlinewidth": 0,
             "ticks": ""
            },
            "type": "choropleth"
           }
          ],
          "contour": [
           {
            "colorbar": {
             "outlinewidth": 0,
             "ticks": ""
            },
            "colorscale": [
             [
              0,
              "#0d0887"
             ],
             [
              0.1111111111111111,
              "#46039f"
             ],
             [
              0.2222222222222222,
              "#7201a8"
             ],
             [
              0.3333333333333333,
              "#9c179e"
             ],
             [
              0.4444444444444444,
              "#bd3786"
             ],
             [
              0.5555555555555556,
              "#d8576b"
             ],
             [
              0.6666666666666666,
              "#ed7953"
             ],
             [
              0.7777777777777778,
              "#fb9f3a"
             ],
             [
              0.8888888888888888,
              "#fdca26"
             ],
             [
              1,
              "#f0f921"
             ]
            ],
            "type": "contour"
           }
          ],
          "contourcarpet": [
           {
            "colorbar": {
             "outlinewidth": 0,
             "ticks": ""
            },
            "type": "contourcarpet"
           }
          ],
          "heatmap": [
           {
            "colorbar": {
             "outlinewidth": 0,
             "ticks": ""
            },
            "colorscale": [
             [
              0,
              "#0d0887"
             ],
             [
              0.1111111111111111,
              "#46039f"
             ],
             [
              0.2222222222222222,
              "#7201a8"
             ],
             [
              0.3333333333333333,
              "#9c179e"
             ],
             [
              0.4444444444444444,
              "#bd3786"
             ],
             [
              0.5555555555555556,
              "#d8576b"
             ],
             [
              0.6666666666666666,
              "#ed7953"
             ],
             [
              0.7777777777777778,
              "#fb9f3a"
             ],
             [
              0.8888888888888888,
              "#fdca26"
             ],
             [
              1,
              "#f0f921"
             ]
            ],
            "type": "heatmap"
           }
          ],
          "heatmapgl": [
           {
            "colorbar": {
             "outlinewidth": 0,
             "ticks": ""
            },
            "colorscale": [
             [
              0,
              "#0d0887"
             ],
             [
              0.1111111111111111,
              "#46039f"
             ],
             [
              0.2222222222222222,
              "#7201a8"
             ],
             [
              0.3333333333333333,
              "#9c179e"
             ],
             [
              0.4444444444444444,
              "#bd3786"
             ],
             [
              0.5555555555555556,
              "#d8576b"
             ],
             [
              0.6666666666666666,
              "#ed7953"
             ],
             [
              0.7777777777777778,
              "#fb9f3a"
             ],
             [
              0.8888888888888888,
              "#fdca26"
             ],
             [
              1,
              "#f0f921"
             ]
            ],
            "type": "heatmapgl"
           }
          ],
          "histogram": [
           {
            "marker": {
             "pattern": {
              "fillmode": "overlay",
              "size": 10,
              "solidity": 0.2
             }
            },
            "type": "histogram"
           }
          ],
          "histogram2d": [
           {
            "colorbar": {
             "outlinewidth": 0,
             "ticks": ""
            },
            "colorscale": [
             [
              0,
              "#0d0887"
             ],
             [
              0.1111111111111111,
              "#46039f"
             ],
             [
              0.2222222222222222,
              "#7201a8"
             ],
             [
              0.3333333333333333,
              "#9c179e"
             ],
             [
              0.4444444444444444,
              "#bd3786"
             ],
             [
              0.5555555555555556,
              "#d8576b"
             ],
             [
              0.6666666666666666,
              "#ed7953"
             ],
             [
              0.7777777777777778,
              "#fb9f3a"
             ],
             [
              0.8888888888888888,
              "#fdca26"
             ],
             [
              1,
              "#f0f921"
             ]
            ],
            "type": "histogram2d"
           }
          ],
          "histogram2dcontour": [
           {
            "colorbar": {
             "outlinewidth": 0,
             "ticks": ""
            },
            "colorscale": [
             [
              0,
              "#0d0887"
             ],
             [
              0.1111111111111111,
              "#46039f"
             ],
             [
              0.2222222222222222,
              "#7201a8"
             ],
             [
              0.3333333333333333,
              "#9c179e"
             ],
             [
              0.4444444444444444,
              "#bd3786"
             ],
             [
              0.5555555555555556,
              "#d8576b"
             ],
             [
              0.6666666666666666,
              "#ed7953"
             ],
             [
              0.7777777777777778,
              "#fb9f3a"
             ],
             [
              0.8888888888888888,
              "#fdca26"
             ],
             [
              1,
              "#f0f921"
             ]
            ],
            "type": "histogram2dcontour"
           }
          ],
          "mesh3d": [
           {
            "colorbar": {
             "outlinewidth": 0,
             "ticks": ""
            },
            "type": "mesh3d"
           }
          ],
          "parcoords": [
           {
            "line": {
             "colorbar": {
              "outlinewidth": 0,
              "ticks": ""
             }
            },
            "type": "parcoords"
           }
          ],
          "pie": [
           {
            "automargin": true,
            "type": "pie"
           }
          ],
          "scatter": [
           {
            "fillpattern": {
             "fillmode": "overlay",
             "size": 10,
             "solidity": 0.2
            },
            "type": "scatter"
           }
          ],
          "scatter3d": [
           {
            "line": {
             "colorbar": {
              "outlinewidth": 0,
              "ticks": ""
             }
            },
            "marker": {
             "colorbar": {
              "outlinewidth": 0,
              "ticks": ""
             }
            },
            "type": "scatter3d"
           }
          ],
          "scattercarpet": [
           {
            "marker": {
             "colorbar": {
              "outlinewidth": 0,
              "ticks": ""
             }
            },
            "type": "scattercarpet"
           }
          ],
          "scattergeo": [
           {
            "marker": {
             "colorbar": {
              "outlinewidth": 0,
              "ticks": ""
             }
            },
            "type": "scattergeo"
           }
          ],
          "scattergl": [
           {
            "marker": {
             "colorbar": {
              "outlinewidth": 0,
              "ticks": ""
             }
            },
            "type": "scattergl"
           }
          ],
          "scattermapbox": [
           {
            "marker": {
             "colorbar": {
              "outlinewidth": 0,
              "ticks": ""
             }
            },
            "type": "scattermapbox"
           }
          ],
          "scatterpolar": [
           {
            "marker": {
             "colorbar": {
              "outlinewidth": 0,
              "ticks": ""
             }
            },
            "type": "scatterpolar"
           }
          ],
          "scatterpolargl": [
           {
            "marker": {
             "colorbar": {
              "outlinewidth": 0,
              "ticks": ""
             }
            },
            "type": "scatterpolargl"
           }
          ],
          "scatterternary": [
           {
            "marker": {
             "colorbar": {
              "outlinewidth": 0,
              "ticks": ""
             }
            },
            "type": "scatterternary"
           }
          ],
          "surface": [
           {
            "colorbar": {
             "outlinewidth": 0,
             "ticks": ""
            },
            "colorscale": [
             [
              0,
              "#0d0887"
             ],
             [
              0.1111111111111111,
              "#46039f"
             ],
             [
              0.2222222222222222,
              "#7201a8"
             ],
             [
              0.3333333333333333,
              "#9c179e"
             ],
             [
              0.4444444444444444,
              "#bd3786"
             ],
             [
              0.5555555555555556,
              "#d8576b"
             ],
             [
              0.6666666666666666,
              "#ed7953"
             ],
             [
              0.7777777777777778,
              "#fb9f3a"
             ],
             [
              0.8888888888888888,
              "#fdca26"
             ],
             [
              1,
              "#f0f921"
             ]
            ],
            "type": "surface"
           }
          ],
          "table": [
           {
            "cells": {
             "fill": {
              "color": "#EBF0F8"
             },
             "line": {
              "color": "white"
             }
            },
            "header": {
             "fill": {
              "color": "#C8D4E3"
             },
             "line": {
              "color": "white"
             }
            },
            "type": "table"
           }
          ]
         },
         "layout": {
          "annotationdefaults": {
           "arrowcolor": "#2a3f5f",
           "arrowhead": 0,
           "arrowwidth": 1
          },
          "autotypenumbers": "strict",
          "coloraxis": {
           "colorbar": {
            "outlinewidth": 0,
            "ticks": ""
           }
          },
          "colorscale": {
           "diverging": [
            [
             0,
             "#8e0152"
            ],
            [
             0.1,
             "#c51b7d"
            ],
            [
             0.2,
             "#de77ae"
            ],
            [
             0.3,
             "#f1b6da"
            ],
            [
             0.4,
             "#fde0ef"
            ],
            [
             0.5,
             "#f7f7f7"
            ],
            [
             0.6,
             "#e6f5d0"
            ],
            [
             0.7,
             "#b8e186"
            ],
            [
             0.8,
             "#7fbc41"
            ],
            [
             0.9,
             "#4d9221"
            ],
            [
             1,
             "#276419"
            ]
           ],
           "sequential": [
            [
             0,
             "#0d0887"
            ],
            [
             0.1111111111111111,
             "#46039f"
            ],
            [
             0.2222222222222222,
             "#7201a8"
            ],
            [
             0.3333333333333333,
             "#9c179e"
            ],
            [
             0.4444444444444444,
             "#bd3786"
            ],
            [
             0.5555555555555556,
             "#d8576b"
            ],
            [
             0.6666666666666666,
             "#ed7953"
            ],
            [
             0.7777777777777778,
             "#fb9f3a"
            ],
            [
             0.8888888888888888,
             "#fdca26"
            ],
            [
             1,
             "#f0f921"
            ]
           ],
           "sequentialminus": [
            [
             0,
             "#0d0887"
            ],
            [
             0.1111111111111111,
             "#46039f"
            ],
            [
             0.2222222222222222,
             "#7201a8"
            ],
            [
             0.3333333333333333,
             "#9c179e"
            ],
            [
             0.4444444444444444,
             "#bd3786"
            ],
            [
             0.5555555555555556,
             "#d8576b"
            ],
            [
             0.6666666666666666,
             "#ed7953"
            ],
            [
             0.7777777777777778,
             "#fb9f3a"
            ],
            [
             0.8888888888888888,
             "#fdca26"
            ],
            [
             1,
             "#f0f921"
            ]
           ]
          },
          "colorway": [
           "#636efa",
           "#EF553B",
           "#00cc96",
           "#ab63fa",
           "#FFA15A",
           "#19d3f3",
           "#FF6692",
           "#B6E880",
           "#FF97FF",
           "#FECB52"
          ],
          "font": {
           "color": "#2a3f5f"
          },
          "geo": {
           "bgcolor": "white",
           "lakecolor": "white",
           "landcolor": "#E5ECF6",
           "showlakes": true,
           "showland": true,
           "subunitcolor": "white"
          },
          "hoverlabel": {
           "align": "left"
          },
          "hovermode": "closest",
          "mapbox": {
           "style": "light"
          },
          "paper_bgcolor": "white",
          "plot_bgcolor": "#E5ECF6",
          "polar": {
           "angularaxis": {
            "gridcolor": "white",
            "linecolor": "white",
            "ticks": ""
           },
           "bgcolor": "#E5ECF6",
           "radialaxis": {
            "gridcolor": "white",
            "linecolor": "white",
            "ticks": ""
           }
          },
          "scene": {
           "xaxis": {
            "backgroundcolor": "#E5ECF6",
            "gridcolor": "white",
            "gridwidth": 2,
            "linecolor": "white",
            "showbackground": true,
            "ticks": "",
            "zerolinecolor": "white"
           },
           "yaxis": {
            "backgroundcolor": "#E5ECF6",
            "gridcolor": "white",
            "gridwidth": 2,
            "linecolor": "white",
            "showbackground": true,
            "ticks": "",
            "zerolinecolor": "white"
           },
           "zaxis": {
            "backgroundcolor": "#E5ECF6",
            "gridcolor": "white",
            "gridwidth": 2,
            "linecolor": "white",
            "showbackground": true,
            "ticks": "",
            "zerolinecolor": "white"
           }
          },
          "shapedefaults": {
           "line": {
            "color": "#2a3f5f"
           }
          },
          "ternary": {
           "aaxis": {
            "gridcolor": "white",
            "linecolor": "white",
            "ticks": ""
           },
           "baxis": {
            "gridcolor": "white",
            "linecolor": "white",
            "ticks": ""
           },
           "bgcolor": "#E5ECF6",
           "caxis": {
            "gridcolor": "white",
            "linecolor": "white",
            "ticks": ""
           }
          },
          "title": {
           "x": 0.05
          },
          "xaxis": {
           "automargin": true,
           "gridcolor": "white",
           "linecolor": "white",
           "ticks": "",
           "title": {
            "standoff": 15
           },
           "zerolinecolor": "white",
           "zerolinewidth": 2
          },
          "yaxis": {
           "automargin": true,
           "gridcolor": "white",
           "linecolor": "white",
           "ticks": "",
           "title": {
            "standoff": 15
           },
           "zerolinecolor": "white",
           "zerolinewidth": 2
          }
         }
        },
        "title": {
         "text": "Adjusted Gross vs Avg User Rating per Bond Film"
        },
        "xaxis": {
         "anchor": "y",
         "domain": [
          0,
          1
         ],
         "title": {
          "text": "Adjusted Global Gross ('000 2013 USD)"
         }
        },
        "yaxis": {
         "anchor": "x",
         "domain": [
          0,
          1
         ],
         "title": {
          "text": "Avg User Rating (IMDB & Rotten Tomatoes)"
         }
        }
       }
      }
     },
     "metadata": {},
     "output_type": "display_data"
    }
   ],
   "source": [
    "#BUBBLE PLOT OF FINANCIAL/CRITICAL FIGURES \n",
    "\n",
    "#creating dictionary from main dataset\n",
    "bubblePlotData = {\"Film_ID\": list(jamesBondMainDataset[\"Film_ID\"]),\n",
    "                      \"Bond\": list(jamesBondMainDataset[\"Bond\"]),\n",
    "        \"Adj_Gross\": list(jamesBondMainDataset[\"World_Adj\"]),\n",
    "        \"Avg_User_Rating\": list(jamesBondMainDataset[\"Avg_User_Rating\"]),\n",
    "        \"Budget_Adj\": list(jamesBondMainDataset[\"Budget_Adj\"])\n",
    "        }\n",
    "\n",
    "#converting dictionary to dataframe\n",
    "bubblePlotDataDF = pd.DataFrame(bubblePlotData)\n",
    "\n",
    "#creating bubble plot\n",
    "figBubble = px.scatter(bubblePlotData, x = \"Adj_Gross\", y = \"Avg_User_Rating\", title = \"Adjusted Gross vs Avg User Rating per Bond Film\",size = \"Budget_Adj\", color = \"Bond\", color_discrete_map = bondColourMap, hover_name = \"Film_ID\")\n",
    "\n",
    "#figBubble[\"layout\"].pop(\"updatemenus\")\n",
    "#adjusting layout of graph\n",
    "figBubble.update_layout(xaxis_title = \"Adjusted Global Gross ('000 2013 USD)\", yaxis_title = \"Avg User Rating (IMDB & Rotten Tomatoes)\")\n",
    "\n",
    "#displaying the figure\n",
    "figBubble.show()"
   ]
  },
  {
   "attachments": {},
   "cell_type": "markdown",
   "metadata": {},
   "source": [
    "To look more closely at rating and gross per actor, I implemented an interactive map that would display films by actor to allow for closer inspection (unfortunately some moving of the graph is required to view the Dalton points due to their outlier status)"
   ]
  },
  {
   "cell_type": "code",
   "execution_count": 21,
   "metadata": {},
   "outputs": [
    {
     "data": {
      "application/vnd.plotly.v1+json": {
       "config": {
        "plotlyServerURL": "https://plot.ly"
       },
       "data": [
        {
         "hovertemplate": "<b>%{hovertext}</b><br><br>Bond=Sean Connery<br>Adj_Gross=%{x}<br>Avg_User_Rating=%{y}<br>Budget_Adj=%{marker.size}<extra></extra>",
         "hovertext": [
          "Dr. No_1962",
          "From Russia with Love_1963",
          "Goldfinger_1964",
          "Thunderball_1965",
          "You Only Live Twice_1967",
          "Diamonds Are Forever_1971"
         ],
         "legendgroup": "Sean Connery",
         "marker": {
          "color": "#ED0000",
          "size": [
           7688,
           15174,
           22468,
           66333,
           66035,
           41274
          ],
          "sizemode": "area",
          "sizeref": 620.035,
          "symbol": "circle"
         },
         "mode": "markers",
         "name": "Sean Connery",
         "orientation": "v",
         "showlegend": true,
         "type": "scatter",
         "x": [
          457928,
          598624,
          935404,
          1040693,
          775740,
          664969
         ],
         "xaxis": "x",
         "y": [
          7.5,
          7.75,
          8.1,
          6.9,
          6.6,
          6.5
         ],
         "yaxis": "y"
        }
       ],
       "frames": [
        {
         "data": [
          {
           "hovertemplate": "<b>%{hovertext}</b><br><br>Bond=Sean Connery<br>Adj_Gross=%{x}<br>Avg_User_Rating=%{y}<br>Budget_Adj=%{marker.size}<extra></extra>",
           "hovertext": [
            "Dr. No_1962",
            "From Russia with Love_1963",
            "Goldfinger_1964",
            "Thunderball_1965",
            "You Only Live Twice_1967",
            "Diamonds Are Forever_1971"
           ],
           "legendgroup": "Sean Connery",
           "marker": {
            "color": "#ED0000",
            "size": [
             7688,
             15174,
             22468,
             66333,
             66035,
             41274
            ],
            "sizemode": "area",
            "sizeref": 620.035,
            "symbol": "circle"
           },
           "mode": "markers",
           "name": "Sean Connery",
           "orientation": "v",
           "showlegend": true,
           "type": "scatter",
           "x": [
            457928,
            598624,
            935404,
            1040693,
            775740,
            664969
           ],
           "xaxis": "x",
           "y": [
            7.5,
            7.75,
            8.1,
            6.9,
            6.6,
            6.5
           ],
           "yaxis": "y"
          }
         ],
         "name": "Sean Connery"
        },
        {
         "data": [
          {
           "hovertemplate": "<b>%{hovertext}</b><br><br>Bond=George Lazenby<br>Adj_Gross=%{x}<br>Avg_User_Rating=%{y}<br>Budget_Adj=%{marker.size}<extra></extra>",
           "hovertext": [
            "On Her Majesty's Secret Service_1969"
           ],
           "legendgroup": "George Lazenby",
           "marker": {
            "color": "#1C358A",
            "size": [
             50608
            ],
            "sizemode": "area",
            "sizeref": 620.035,
            "symbol": "circle"
           },
           "mode": "markers",
           "name": "George Lazenby",
           "orientation": "v",
           "showlegend": true,
           "type": "scatter",
           "x": [
            518736
           ],
           "xaxis": "x",
           "y": [
            6.75
           ],
           "yaxis": "y"
          }
         ],
         "name": "George Lazenby"
        },
        {
         "data": [
          {
           "hovertemplate": "<b>%{hovertext}</b><br><br>Bond=Roger Moore<br>Adj_Gross=%{x}<br>Avg_User_Rating=%{y}<br>Budget_Adj=%{marker.size}<extra></extra>",
           "hovertext": [
            "Live and Let Die_1973",
            "The Man with the Golden Gun_1974",
            "The Spy Who Loved Me_1977",
            "Moonraker_1979",
            "For Your Eyes Only_1981",
            "Octopussy_1983",
            "A View to a Kill_1985"
           ],
           "legendgroup": "Roger Moore",
           "marker": {
            "color": "black",
            "size": [
             36603,
             32965,
             53636,
             99134,
             71514,
             64102,
             64730
            ],
            "sizemode": "area",
            "sizeref": 620.035,
            "symbol": "circle"
           },
           "mode": "markers",
           "name": "Roger Moore",
           "orientation": "v",
           "showlegend": true,
           "type": "scatter",
           "x": [
            846046,
            459623,
            710290,
            672514,
            498812,
            437059,
            329322
           ],
           "xaxis": "x",
           "y": [
            6.35,
            5.9,
            6.949999999999999,
            5.95,
            6.55,
            5.9,
            5.45
           ],
           "yaxis": "y"
          }
         ],
         "name": "Roger Moore"
        },
        {
         "data": [
          {
           "hovertemplate": "<b>%{hovertext}</b><br><br>Bond=Timothy Dalton<br>Adj_Gross=%{x}<br>Avg_User_Rating=%{y}<br>Budget_Adj=%{marker.size}<extra></extra>",
           "hovertext": [
            "The Living Daylights_1987",
            "License to Kill_1989"
           ],
           "legendgroup": "Timothy Dalton",
           "marker": {
            "color": "#1B8A29",
            "size": [
             81749,
             78637
            ],
            "sizemode": "area",
            "sizeref": 620.035,
            "symbol": "circle"
           },
           "mode": "markers",
           "name": "Timothy Dalton",
           "orientation": "v",
           "showlegend": true,
           "type": "scatter",
           "x": [
            390758,
            292392
           ],
           "xaxis": "x",
           "y": [
            6.5,
            6.25
           ],
           "yaxis": "y"
          }
         ],
         "name": "Timothy Dalton"
        },
        {
         "data": [
          {
           "hovertemplate": "<b>%{hovertext}</b><br><br>Bond=Pierce Brosnan<br>Adj_Gross=%{x}<br>Avg_User_Rating=%{y}<br>Budget_Adj=%{marker.size}<extra></extra>",
           "hovertext": [
            "GoldenEye_1995",
            "Tomorrow Never Dies_1997",
            "The World Is Not Enough_1999",
            "Die Another Day_2002"
           ],
           "legendgroup": "Pierce Brosnan",
           "marker": {
            "color": "#7B7D7D",
            "size": [
             91404,
             159117,
             188130,
             183255
            ],
            "sizemode": "area",
            "sizeref": 620.035,
            "symbol": "circle"
           },
           "mode": "markers",
           "name": "Pierce Brosnan",
           "orientation": "v",
           "showlegend": true,
           "type": "scatter",
           "x": [
            542985,
            491098,
            504091,
            557433
           ],
           "xaxis": "x",
           "y": [
            7.050000000000001,
            6.2,
            6,
            6.05
           ],
           "yaxis": "y"
          }
         ],
         "name": "Pierce Brosnan"
        },
        {
         "data": [
          {
           "hovertemplate": "<b>%{hovertext}</b><br><br>Bond=Daniel Craig<br>Adj_Gross=%{x}<br>Avg_User_Rating=%{y}<br>Budget_Adj=%{marker.size}<extra></extra>",
           "hovertext": [
            "Casino Royale_2006",
            "Quantum of Solace_2008",
            "Skyfall_2012",
            "Spectre_2015"
           ],
           "legendgroup": "Daniel Craig",
           "marker": {
            "color": "#D4AC0D",
            "size": [
             117465,
             248014,
             202240,
             240803
            ],
            "sizemode": "area",
            "sizeref": 620.035,
            "symbol": "circle"
           },
           "mode": "markers",
           "name": "Daniel Craig",
           "orientation": "v",
           "showlegend": true,
           "type": "scatter",
           "x": [
            686784,
            638035,
            1120980,
            864553
           ],
           "xaxis": "x",
           "y": [
            7.85,
            6.4,
            8,
            6.6
           ],
           "yaxis": "y"
          }
         ],
         "name": "Daniel Craig"
        }
       ],
       "layout": {
        "legend": {
         "itemsizing": "constant",
         "title": {
          "text": "Bond"
         },
         "tracegroupgap": 0
        },
        "showlegend": false,
        "sliders": [
         {
          "active": 0,
          "currentvalue": {
           "prefix": "Bond="
          },
          "len": 0.9,
          "pad": {
           "b": 10,
           "t": 60
          },
          "steps": [
           {
            "args": [
             [
              "Sean Connery"
             ],
             {
              "frame": {
               "duration": 0,
               "redraw": false
              },
              "fromcurrent": true,
              "mode": "immediate",
              "transition": {
               "duration": 0,
               "easing": "linear"
              }
             }
            ],
            "label": "Sean Connery",
            "method": "animate"
           },
           {
            "args": [
             [
              "George Lazenby"
             ],
             {
              "frame": {
               "duration": 0,
               "redraw": false
              },
              "fromcurrent": true,
              "mode": "immediate",
              "transition": {
               "duration": 0,
               "easing": "linear"
              }
             }
            ],
            "label": "George Lazenby",
            "method": "animate"
           },
           {
            "args": [
             [
              "Roger Moore"
             ],
             {
              "frame": {
               "duration": 0,
               "redraw": false
              },
              "fromcurrent": true,
              "mode": "immediate",
              "transition": {
               "duration": 0,
               "easing": "linear"
              }
             }
            ],
            "label": "Roger Moore",
            "method": "animate"
           },
           {
            "args": [
             [
              "Timothy Dalton"
             ],
             {
              "frame": {
               "duration": 0,
               "redraw": false
              },
              "fromcurrent": true,
              "mode": "immediate",
              "transition": {
               "duration": 0,
               "easing": "linear"
              }
             }
            ],
            "label": "Timothy Dalton",
            "method": "animate"
           },
           {
            "args": [
             [
              "Pierce Brosnan"
             ],
             {
              "frame": {
               "duration": 0,
               "redraw": false
              },
              "fromcurrent": true,
              "mode": "immediate",
              "transition": {
               "duration": 0,
               "easing": "linear"
              }
             }
            ],
            "label": "Pierce Brosnan",
            "method": "animate"
           },
           {
            "args": [
             [
              "Daniel Craig"
             ],
             {
              "frame": {
               "duration": 0,
               "redraw": false
              },
              "fromcurrent": true,
              "mode": "immediate",
              "transition": {
               "duration": 0,
               "easing": "linear"
              }
             }
            ],
            "label": "Daniel Craig",
            "method": "animate"
           }
          ],
          "x": 0.1,
          "xanchor": "left",
          "y": 0,
          "yanchor": "top"
         }
        ],
        "template": {
         "data": {
          "bar": [
           {
            "error_x": {
             "color": "#2a3f5f"
            },
            "error_y": {
             "color": "#2a3f5f"
            },
            "marker": {
             "line": {
              "color": "#E5ECF6",
              "width": 0.5
             },
             "pattern": {
              "fillmode": "overlay",
              "size": 10,
              "solidity": 0.2
             }
            },
            "type": "bar"
           }
          ],
          "barpolar": [
           {
            "marker": {
             "line": {
              "color": "#E5ECF6",
              "width": 0.5
             },
             "pattern": {
              "fillmode": "overlay",
              "size": 10,
              "solidity": 0.2
             }
            },
            "type": "barpolar"
           }
          ],
          "carpet": [
           {
            "aaxis": {
             "endlinecolor": "#2a3f5f",
             "gridcolor": "white",
             "linecolor": "white",
             "minorgridcolor": "white",
             "startlinecolor": "#2a3f5f"
            },
            "baxis": {
             "endlinecolor": "#2a3f5f",
             "gridcolor": "white",
             "linecolor": "white",
             "minorgridcolor": "white",
             "startlinecolor": "#2a3f5f"
            },
            "type": "carpet"
           }
          ],
          "choropleth": [
           {
            "colorbar": {
             "outlinewidth": 0,
             "ticks": ""
            },
            "type": "choropleth"
           }
          ],
          "contour": [
           {
            "colorbar": {
             "outlinewidth": 0,
             "ticks": ""
            },
            "colorscale": [
             [
              0,
              "#0d0887"
             ],
             [
              0.1111111111111111,
              "#46039f"
             ],
             [
              0.2222222222222222,
              "#7201a8"
             ],
             [
              0.3333333333333333,
              "#9c179e"
             ],
             [
              0.4444444444444444,
              "#bd3786"
             ],
             [
              0.5555555555555556,
              "#d8576b"
             ],
             [
              0.6666666666666666,
              "#ed7953"
             ],
             [
              0.7777777777777778,
              "#fb9f3a"
             ],
             [
              0.8888888888888888,
              "#fdca26"
             ],
             [
              1,
              "#f0f921"
             ]
            ],
            "type": "contour"
           }
          ],
          "contourcarpet": [
           {
            "colorbar": {
             "outlinewidth": 0,
             "ticks": ""
            },
            "type": "contourcarpet"
           }
          ],
          "heatmap": [
           {
            "colorbar": {
             "outlinewidth": 0,
             "ticks": ""
            },
            "colorscale": [
             [
              0,
              "#0d0887"
             ],
             [
              0.1111111111111111,
              "#46039f"
             ],
             [
              0.2222222222222222,
              "#7201a8"
             ],
             [
              0.3333333333333333,
              "#9c179e"
             ],
             [
              0.4444444444444444,
              "#bd3786"
             ],
             [
              0.5555555555555556,
              "#d8576b"
             ],
             [
              0.6666666666666666,
              "#ed7953"
             ],
             [
              0.7777777777777778,
              "#fb9f3a"
             ],
             [
              0.8888888888888888,
              "#fdca26"
             ],
             [
              1,
              "#f0f921"
             ]
            ],
            "type": "heatmap"
           }
          ],
          "heatmapgl": [
           {
            "colorbar": {
             "outlinewidth": 0,
             "ticks": ""
            },
            "colorscale": [
             [
              0,
              "#0d0887"
             ],
             [
              0.1111111111111111,
              "#46039f"
             ],
             [
              0.2222222222222222,
              "#7201a8"
             ],
             [
              0.3333333333333333,
              "#9c179e"
             ],
             [
              0.4444444444444444,
              "#bd3786"
             ],
             [
              0.5555555555555556,
              "#d8576b"
             ],
             [
              0.6666666666666666,
              "#ed7953"
             ],
             [
              0.7777777777777778,
              "#fb9f3a"
             ],
             [
              0.8888888888888888,
              "#fdca26"
             ],
             [
              1,
              "#f0f921"
             ]
            ],
            "type": "heatmapgl"
           }
          ],
          "histogram": [
           {
            "marker": {
             "pattern": {
              "fillmode": "overlay",
              "size": 10,
              "solidity": 0.2
             }
            },
            "type": "histogram"
           }
          ],
          "histogram2d": [
           {
            "colorbar": {
             "outlinewidth": 0,
             "ticks": ""
            },
            "colorscale": [
             [
              0,
              "#0d0887"
             ],
             [
              0.1111111111111111,
              "#46039f"
             ],
             [
              0.2222222222222222,
              "#7201a8"
             ],
             [
              0.3333333333333333,
              "#9c179e"
             ],
             [
              0.4444444444444444,
              "#bd3786"
             ],
             [
              0.5555555555555556,
              "#d8576b"
             ],
             [
              0.6666666666666666,
              "#ed7953"
             ],
             [
              0.7777777777777778,
              "#fb9f3a"
             ],
             [
              0.8888888888888888,
              "#fdca26"
             ],
             [
              1,
              "#f0f921"
             ]
            ],
            "type": "histogram2d"
           }
          ],
          "histogram2dcontour": [
           {
            "colorbar": {
             "outlinewidth": 0,
             "ticks": ""
            },
            "colorscale": [
             [
              0,
              "#0d0887"
             ],
             [
              0.1111111111111111,
              "#46039f"
             ],
             [
              0.2222222222222222,
              "#7201a8"
             ],
             [
              0.3333333333333333,
              "#9c179e"
             ],
             [
              0.4444444444444444,
              "#bd3786"
             ],
             [
              0.5555555555555556,
              "#d8576b"
             ],
             [
              0.6666666666666666,
              "#ed7953"
             ],
             [
              0.7777777777777778,
              "#fb9f3a"
             ],
             [
              0.8888888888888888,
              "#fdca26"
             ],
             [
              1,
              "#f0f921"
             ]
            ],
            "type": "histogram2dcontour"
           }
          ],
          "mesh3d": [
           {
            "colorbar": {
             "outlinewidth": 0,
             "ticks": ""
            },
            "type": "mesh3d"
           }
          ],
          "parcoords": [
           {
            "line": {
             "colorbar": {
              "outlinewidth": 0,
              "ticks": ""
             }
            },
            "type": "parcoords"
           }
          ],
          "pie": [
           {
            "automargin": true,
            "type": "pie"
           }
          ],
          "scatter": [
           {
            "fillpattern": {
             "fillmode": "overlay",
             "size": 10,
             "solidity": 0.2
            },
            "type": "scatter"
           }
          ],
          "scatter3d": [
           {
            "line": {
             "colorbar": {
              "outlinewidth": 0,
              "ticks": ""
             }
            },
            "marker": {
             "colorbar": {
              "outlinewidth": 0,
              "ticks": ""
             }
            },
            "type": "scatter3d"
           }
          ],
          "scattercarpet": [
           {
            "marker": {
             "colorbar": {
              "outlinewidth": 0,
              "ticks": ""
             }
            },
            "type": "scattercarpet"
           }
          ],
          "scattergeo": [
           {
            "marker": {
             "colorbar": {
              "outlinewidth": 0,
              "ticks": ""
             }
            },
            "type": "scattergeo"
           }
          ],
          "scattergl": [
           {
            "marker": {
             "colorbar": {
              "outlinewidth": 0,
              "ticks": ""
             }
            },
            "type": "scattergl"
           }
          ],
          "scattermapbox": [
           {
            "marker": {
             "colorbar": {
              "outlinewidth": 0,
              "ticks": ""
             }
            },
            "type": "scattermapbox"
           }
          ],
          "scatterpolar": [
           {
            "marker": {
             "colorbar": {
              "outlinewidth": 0,
              "ticks": ""
             }
            },
            "type": "scatterpolar"
           }
          ],
          "scatterpolargl": [
           {
            "marker": {
             "colorbar": {
              "outlinewidth": 0,
              "ticks": ""
             }
            },
            "type": "scatterpolargl"
           }
          ],
          "scatterternary": [
           {
            "marker": {
             "colorbar": {
              "outlinewidth": 0,
              "ticks": ""
             }
            },
            "type": "scatterternary"
           }
          ],
          "surface": [
           {
            "colorbar": {
             "outlinewidth": 0,
             "ticks": ""
            },
            "colorscale": [
             [
              0,
              "#0d0887"
             ],
             [
              0.1111111111111111,
              "#46039f"
             ],
             [
              0.2222222222222222,
              "#7201a8"
             ],
             [
              0.3333333333333333,
              "#9c179e"
             ],
             [
              0.4444444444444444,
              "#bd3786"
             ],
             [
              0.5555555555555556,
              "#d8576b"
             ],
             [
              0.6666666666666666,
              "#ed7953"
             ],
             [
              0.7777777777777778,
              "#fb9f3a"
             ],
             [
              0.8888888888888888,
              "#fdca26"
             ],
             [
              1,
              "#f0f921"
             ]
            ],
            "type": "surface"
           }
          ],
          "table": [
           {
            "cells": {
             "fill": {
              "color": "#EBF0F8"
             },
             "line": {
              "color": "white"
             }
            },
            "header": {
             "fill": {
              "color": "#C8D4E3"
             },
             "line": {
              "color": "white"
             }
            },
            "type": "table"
           }
          ]
         },
         "layout": {
          "annotationdefaults": {
           "arrowcolor": "#2a3f5f",
           "arrowhead": 0,
           "arrowwidth": 1
          },
          "autotypenumbers": "strict",
          "coloraxis": {
           "colorbar": {
            "outlinewidth": 0,
            "ticks": ""
           }
          },
          "colorscale": {
           "diverging": [
            [
             0,
             "#8e0152"
            ],
            [
             0.1,
             "#c51b7d"
            ],
            [
             0.2,
             "#de77ae"
            ],
            [
             0.3,
             "#f1b6da"
            ],
            [
             0.4,
             "#fde0ef"
            ],
            [
             0.5,
             "#f7f7f7"
            ],
            [
             0.6,
             "#e6f5d0"
            ],
            [
             0.7,
             "#b8e186"
            ],
            [
             0.8,
             "#7fbc41"
            ],
            [
             0.9,
             "#4d9221"
            ],
            [
             1,
             "#276419"
            ]
           ],
           "sequential": [
            [
             0,
             "#0d0887"
            ],
            [
             0.1111111111111111,
             "#46039f"
            ],
            [
             0.2222222222222222,
             "#7201a8"
            ],
            [
             0.3333333333333333,
             "#9c179e"
            ],
            [
             0.4444444444444444,
             "#bd3786"
            ],
            [
             0.5555555555555556,
             "#d8576b"
            ],
            [
             0.6666666666666666,
             "#ed7953"
            ],
            [
             0.7777777777777778,
             "#fb9f3a"
            ],
            [
             0.8888888888888888,
             "#fdca26"
            ],
            [
             1,
             "#f0f921"
            ]
           ],
           "sequentialminus": [
            [
             0,
             "#0d0887"
            ],
            [
             0.1111111111111111,
             "#46039f"
            ],
            [
             0.2222222222222222,
             "#7201a8"
            ],
            [
             0.3333333333333333,
             "#9c179e"
            ],
            [
             0.4444444444444444,
             "#bd3786"
            ],
            [
             0.5555555555555556,
             "#d8576b"
            ],
            [
             0.6666666666666666,
             "#ed7953"
            ],
            [
             0.7777777777777778,
             "#fb9f3a"
            ],
            [
             0.8888888888888888,
             "#fdca26"
            ],
            [
             1,
             "#f0f921"
            ]
           ]
          },
          "colorway": [
           "#636efa",
           "#EF553B",
           "#00cc96",
           "#ab63fa",
           "#FFA15A",
           "#19d3f3",
           "#FF6692",
           "#B6E880",
           "#FF97FF",
           "#FECB52"
          ],
          "font": {
           "color": "#2a3f5f"
          },
          "geo": {
           "bgcolor": "white",
           "lakecolor": "white",
           "landcolor": "#E5ECF6",
           "showlakes": true,
           "showland": true,
           "subunitcolor": "white"
          },
          "hoverlabel": {
           "align": "left"
          },
          "hovermode": "closest",
          "mapbox": {
           "style": "light"
          },
          "paper_bgcolor": "white",
          "plot_bgcolor": "#E5ECF6",
          "polar": {
           "angularaxis": {
            "gridcolor": "white",
            "linecolor": "white",
            "ticks": ""
           },
           "bgcolor": "#E5ECF6",
           "radialaxis": {
            "gridcolor": "white",
            "linecolor": "white",
            "ticks": ""
           }
          },
          "scene": {
           "xaxis": {
            "backgroundcolor": "#E5ECF6",
            "gridcolor": "white",
            "gridwidth": 2,
            "linecolor": "white",
            "showbackground": true,
            "ticks": "",
            "zerolinecolor": "white"
           },
           "yaxis": {
            "backgroundcolor": "#E5ECF6",
            "gridcolor": "white",
            "gridwidth": 2,
            "linecolor": "white",
            "showbackground": true,
            "ticks": "",
            "zerolinecolor": "white"
           },
           "zaxis": {
            "backgroundcolor": "#E5ECF6",
            "gridcolor": "white",
            "gridwidth": 2,
            "linecolor": "white",
            "showbackground": true,
            "ticks": "",
            "zerolinecolor": "white"
           }
          },
          "shapedefaults": {
           "line": {
            "color": "#2a3f5f"
           }
          },
          "ternary": {
           "aaxis": {
            "gridcolor": "white",
            "linecolor": "white",
            "ticks": ""
           },
           "baxis": {
            "gridcolor": "white",
            "linecolor": "white",
            "ticks": ""
           },
           "bgcolor": "#E5ECF6",
           "caxis": {
            "gridcolor": "white",
            "linecolor": "white",
            "ticks": ""
           }
          },
          "title": {
           "x": 0.05
          },
          "xaxis": {
           "automargin": true,
           "gridcolor": "white",
           "linecolor": "white",
           "ticks": "",
           "title": {
            "standoff": 15
           },
           "zerolinecolor": "white",
           "zerolinewidth": 2
          },
          "yaxis": {
           "automargin": true,
           "gridcolor": "white",
           "linecolor": "white",
           "ticks": "",
           "title": {
            "standoff": 15
           },
           "zerolinecolor": "white",
           "zerolinewidth": 2
          }
         }
        },
        "title": {
         "text": "Adjusted Gross vs Avg User Rating per Bond Film"
        },
        "xaxis": {
         "anchor": "y",
         "domain": [
          0,
          1
         ],
         "title": {
          "text": "Adjusted Global Gross ('000 2013 USD)"
         }
        },
        "yaxis": {
         "anchor": "x",
         "domain": [
          0,
          1
         ],
         "title": {
          "text": "Avg User Rating (IMDB & Rotten Tomatoes)"
         }
        }
       }
      }
     },
     "metadata": {},
     "output_type": "display_data"
    }
   ],
   "source": [
    "#BUBBLE PLOT OF FINANCIAL/CRITICAL FIGURES WITH INTERACTIVITY\n",
    "\n",
    "#creating dictionary from main dataset\n",
    "bubblePlotData = {\"Film_ID\": list(jamesBondMainDataset[\"Film_ID\"]),\n",
    "                      \"Bond\": list(jamesBondMainDataset[\"Bond\"]),\n",
    "        \"Adj_Gross\": list(jamesBondMainDataset[\"World_Adj\"]),\n",
    "        \"Avg_User_Rating\": list(jamesBondMainDataset[\"Avg_User_Rating\"]),\n",
    "        \"Budget_Adj\": list(jamesBondMainDataset[\"Budget_Adj\"])\n",
    "        }\n",
    "\n",
    "#converting dictionary to dataframe\n",
    "bubblePlotDataDF = pd.DataFrame(bubblePlotData)\n",
    "\n",
    "#creating bubble plot\n",
    "figBubbleInt = px.scatter(bubblePlotData, x = \"Adj_Gross\", y = \"Avg_User_Rating\", title = \"Adjusted Gross vs Avg User Rating per Bond Film\",size = \"Budget_Adj\",color=\"Bond\", animation_frame = \"Bond\", color_discrete_map = bondColourMap, hover_name = \"Film_ID\")\n",
    "\n",
    "figBubbleInt[\"layout\"].pop(\"updatemenus\")\n",
    "\n",
    "#adjusting layout of graph\n",
    "figBubbleInt.update_layout(xaxis_title = \"Adjusted Global Gross ('000 2013 USD)\", yaxis_title = \"Avg User Rating (IMDB & Rotten Tomatoes)\", showlegend = False)\n",
    "\n",
    "#displaying the figure\n",
    "figBubbleInt.show()"
   ]
  },
  {
   "attachments": {},
   "cell_type": "markdown",
   "metadata": {},
   "source": [
    "I then focused on creating map visualisations to represent depicted and shooting location data. First, I created visualisations to represent the frequency of locations across all films in the series as both depicted and shooting locations."
   ]
  },
  {
   "cell_type": "code",
   "execution_count": 24,
   "metadata": {},
   "outputs": [
    {
     "data": {
      "application/vnd.plotly.v1+json": {
       "config": {
        "plotlyServerURL": "https://plot.ly"
       },
       "data": [
        {
         "coloraxis": "coloraxis",
         "customdata": [
          [
           23
          ],
          [
           3
          ],
          [
           1
          ],
          [
           1
          ],
          [
           7
          ],
          [
           10
          ],
          [
           2
          ],
          [
           4
          ],
          [
           3
          ],
          [
           9
          ],
          [
           2
          ],
          [
           1
          ],
          [
           3
          ],
          [
           2
          ],
          [
           2
          ],
          [
           1
          ],
          [
           1
          ],
          [
           2
          ],
          [
           2
          ],
          [
           1
          ],
          [
           1
          ],
          [
           4
          ],
          [
           1
          ],
          [
           2
          ],
          [
           1
          ],
          [
           1
          ],
          [
           1
          ],
          [
           2
          ],
          [
           1
          ],
          [
           1
          ],
          [
           2
          ],
          [
           1
          ],
          [
           2
          ],
          [
           1
          ],
          [
           2
          ],
          [
           1
          ],
          [
           1
          ],
          [
           1
          ],
          [
           2
          ],
          [
           1
          ],
          [
           1
          ],
          [
           1
          ],
          [
           1
          ],
          [
           1
          ],
          [
           1
          ],
          [
           1
          ],
          [
           1
          ],
          [
           1
          ],
          [
           1
          ],
          [
           1
          ]
         ],
         "geo": "geo",
         "hovertemplate": "<b>%{hovertext}</b><br><br>ISO3-DigitAlphaCountryCode=%{location}<br>No of Depictions=%{z}<extra></extra>",
         "hovertext": [
          "United Kingdom",
          "Turkey",
          "Croatia",
          "Serbia",
          "Italy",
          "United States",
          "Switzerland",
          "France",
          "Bahamas",
          "Russia",
          "Kazakhstan",
          "Norway",
          "Japan",
          "Portugal",
          "Egypt",
          "South Africa",
          "Netherlands",
          "Mexico",
          "Jamaica",
          "Lebanon",
          "Thailand",
          "Austria",
          "Brazil",
          "Spain",
          "Greece",
          "Albania",
          "India",
          "Germany",
          "Gibraltar",
          "Slovakia",
          "Morocco",
          "Afghanistan",
          "Pakistan",
          "Monaco",
          "Cuba",
          "Vietnam",
          "Azerbaijan",
          "North Korea",
          "South Korea",
          "Hong Kong",
          "Iceland",
          "Czech Republic",
          "Uganda",
          "Madagascar",
          "Montenegro",
          "Haiti",
          "Bolivia",
          "China",
          "Macau",
          "Vatican City"
         ],
         "locations": [
          "GBR",
          "TUR",
          "HRV",
          "SRB",
          "ITA",
          "USA",
          "CHE",
          "FRA",
          "BHS",
          "RUS",
          "KAZ",
          "NOR",
          "JPN",
          "PRT",
          "EGY",
          "ZAF",
          "NLD",
          "MEX",
          "JAM",
          "LBN",
          "THA",
          "AUT",
          "BRA",
          "ESP",
          "GRC",
          "ALB",
          "IND",
          "DEU",
          "GIB",
          "SVK",
          "MAR",
          "AFG",
          "PAK",
          "MCO",
          "CUB",
          "VNM",
          "AZE",
          "PRK",
          "KOR",
          "HKG",
          "ISL",
          "CZE",
          "UGA",
          "MDG",
          "MNE",
          "HTI",
          "BOL",
          "CHN",
          "MAC",
          "VAT"
         ],
         "name": "",
         "type": "choropleth",
         "z": [
          23,
          3,
          1,
          1,
          7,
          10,
          2,
          4,
          3,
          9,
          2,
          1,
          3,
          2,
          2,
          1,
          1,
          2,
          2,
          1,
          1,
          4,
          1,
          2,
          1,
          1,
          1,
          2,
          1,
          1,
          2,
          1,
          2,
          1,
          2,
          1,
          1,
          1,
          2,
          1,
          1,
          1,
          1,
          1,
          1,
          1,
          1,
          1,
          1,
          1
         ]
        }
       ],
       "layout": {
        "coloraxis": {
         "colorbar": {
          "title": {
           "text": "No of Depictions"
          }
         },
         "colorscale": [
          [
           0,
           "rgb(255,245,240)"
          ],
          [
           0.125,
           "rgb(254,224,210)"
          ],
          [
           0.25,
           "rgb(252,187,161)"
          ],
          [
           0.375,
           "rgb(252,146,114)"
          ],
          [
           0.5,
           "rgb(251,106,74)"
          ],
          [
           0.625,
           "rgb(239,59,44)"
          ],
          [
           0.75,
           "rgb(203,24,29)"
          ],
          [
           0.875,
           "rgb(165,15,21)"
          ],
          [
           1,
           "rgb(103,0,13)"
          ]
         ]
        },
        "geo": {
         "center": {},
         "domain": {
          "x": [
           0,
           1
          ],
          "y": [
           0,
           1
          ]
         }
        },
        "legend": {
         "tracegroupgap": 0
        },
        "margin": {
         "t": 60
        },
        "template": {
         "data": {
          "bar": [
           {
            "error_x": {
             "color": "#2a3f5f"
            },
            "error_y": {
             "color": "#2a3f5f"
            },
            "marker": {
             "line": {
              "color": "#E5ECF6",
              "width": 0.5
             },
             "pattern": {
              "fillmode": "overlay",
              "size": 10,
              "solidity": 0.2
             }
            },
            "type": "bar"
           }
          ],
          "barpolar": [
           {
            "marker": {
             "line": {
              "color": "#E5ECF6",
              "width": 0.5
             },
             "pattern": {
              "fillmode": "overlay",
              "size": 10,
              "solidity": 0.2
             }
            },
            "type": "barpolar"
           }
          ],
          "carpet": [
           {
            "aaxis": {
             "endlinecolor": "#2a3f5f",
             "gridcolor": "white",
             "linecolor": "white",
             "minorgridcolor": "white",
             "startlinecolor": "#2a3f5f"
            },
            "baxis": {
             "endlinecolor": "#2a3f5f",
             "gridcolor": "white",
             "linecolor": "white",
             "minorgridcolor": "white",
             "startlinecolor": "#2a3f5f"
            },
            "type": "carpet"
           }
          ],
          "choropleth": [
           {
            "colorbar": {
             "outlinewidth": 0,
             "ticks": ""
            },
            "type": "choropleth"
           }
          ],
          "contour": [
           {
            "colorbar": {
             "outlinewidth": 0,
             "ticks": ""
            },
            "colorscale": [
             [
              0,
              "#0d0887"
             ],
             [
              0.1111111111111111,
              "#46039f"
             ],
             [
              0.2222222222222222,
              "#7201a8"
             ],
             [
              0.3333333333333333,
              "#9c179e"
             ],
             [
              0.4444444444444444,
              "#bd3786"
             ],
             [
              0.5555555555555556,
              "#d8576b"
             ],
             [
              0.6666666666666666,
              "#ed7953"
             ],
             [
              0.7777777777777778,
              "#fb9f3a"
             ],
             [
              0.8888888888888888,
              "#fdca26"
             ],
             [
              1,
              "#f0f921"
             ]
            ],
            "type": "contour"
           }
          ],
          "contourcarpet": [
           {
            "colorbar": {
             "outlinewidth": 0,
             "ticks": ""
            },
            "type": "contourcarpet"
           }
          ],
          "heatmap": [
           {
            "colorbar": {
             "outlinewidth": 0,
             "ticks": ""
            },
            "colorscale": [
             [
              0,
              "#0d0887"
             ],
             [
              0.1111111111111111,
              "#46039f"
             ],
             [
              0.2222222222222222,
              "#7201a8"
             ],
             [
              0.3333333333333333,
              "#9c179e"
             ],
             [
              0.4444444444444444,
              "#bd3786"
             ],
             [
              0.5555555555555556,
              "#d8576b"
             ],
             [
              0.6666666666666666,
              "#ed7953"
             ],
             [
              0.7777777777777778,
              "#fb9f3a"
             ],
             [
              0.8888888888888888,
              "#fdca26"
             ],
             [
              1,
              "#f0f921"
             ]
            ],
            "type": "heatmap"
           }
          ],
          "heatmapgl": [
           {
            "colorbar": {
             "outlinewidth": 0,
             "ticks": ""
            },
            "colorscale": [
             [
              0,
              "#0d0887"
             ],
             [
              0.1111111111111111,
              "#46039f"
             ],
             [
              0.2222222222222222,
              "#7201a8"
             ],
             [
              0.3333333333333333,
              "#9c179e"
             ],
             [
              0.4444444444444444,
              "#bd3786"
             ],
             [
              0.5555555555555556,
              "#d8576b"
             ],
             [
              0.6666666666666666,
              "#ed7953"
             ],
             [
              0.7777777777777778,
              "#fb9f3a"
             ],
             [
              0.8888888888888888,
              "#fdca26"
             ],
             [
              1,
              "#f0f921"
             ]
            ],
            "type": "heatmapgl"
           }
          ],
          "histogram": [
           {
            "marker": {
             "pattern": {
              "fillmode": "overlay",
              "size": 10,
              "solidity": 0.2
             }
            },
            "type": "histogram"
           }
          ],
          "histogram2d": [
           {
            "colorbar": {
             "outlinewidth": 0,
             "ticks": ""
            },
            "colorscale": [
             [
              0,
              "#0d0887"
             ],
             [
              0.1111111111111111,
              "#46039f"
             ],
             [
              0.2222222222222222,
              "#7201a8"
             ],
             [
              0.3333333333333333,
              "#9c179e"
             ],
             [
              0.4444444444444444,
              "#bd3786"
             ],
             [
              0.5555555555555556,
              "#d8576b"
             ],
             [
              0.6666666666666666,
              "#ed7953"
             ],
             [
              0.7777777777777778,
              "#fb9f3a"
             ],
             [
              0.8888888888888888,
              "#fdca26"
             ],
             [
              1,
              "#f0f921"
             ]
            ],
            "type": "histogram2d"
           }
          ],
          "histogram2dcontour": [
           {
            "colorbar": {
             "outlinewidth": 0,
             "ticks": ""
            },
            "colorscale": [
             [
              0,
              "#0d0887"
             ],
             [
              0.1111111111111111,
              "#46039f"
             ],
             [
              0.2222222222222222,
              "#7201a8"
             ],
             [
              0.3333333333333333,
              "#9c179e"
             ],
             [
              0.4444444444444444,
              "#bd3786"
             ],
             [
              0.5555555555555556,
              "#d8576b"
             ],
             [
              0.6666666666666666,
              "#ed7953"
             ],
             [
              0.7777777777777778,
              "#fb9f3a"
             ],
             [
              0.8888888888888888,
              "#fdca26"
             ],
             [
              1,
              "#f0f921"
             ]
            ],
            "type": "histogram2dcontour"
           }
          ],
          "mesh3d": [
           {
            "colorbar": {
             "outlinewidth": 0,
             "ticks": ""
            },
            "type": "mesh3d"
           }
          ],
          "parcoords": [
           {
            "line": {
             "colorbar": {
              "outlinewidth": 0,
              "ticks": ""
             }
            },
            "type": "parcoords"
           }
          ],
          "pie": [
           {
            "automargin": true,
            "type": "pie"
           }
          ],
          "scatter": [
           {
            "fillpattern": {
             "fillmode": "overlay",
             "size": 10,
             "solidity": 0.2
            },
            "type": "scatter"
           }
          ],
          "scatter3d": [
           {
            "line": {
             "colorbar": {
              "outlinewidth": 0,
              "ticks": ""
             }
            },
            "marker": {
             "colorbar": {
              "outlinewidth": 0,
              "ticks": ""
             }
            },
            "type": "scatter3d"
           }
          ],
          "scattercarpet": [
           {
            "marker": {
             "colorbar": {
              "outlinewidth": 0,
              "ticks": ""
             }
            },
            "type": "scattercarpet"
           }
          ],
          "scattergeo": [
           {
            "marker": {
             "colorbar": {
              "outlinewidth": 0,
              "ticks": ""
             }
            },
            "type": "scattergeo"
           }
          ],
          "scattergl": [
           {
            "marker": {
             "colorbar": {
              "outlinewidth": 0,
              "ticks": ""
             }
            },
            "type": "scattergl"
           }
          ],
          "scattermapbox": [
           {
            "marker": {
             "colorbar": {
              "outlinewidth": 0,
              "ticks": ""
             }
            },
            "type": "scattermapbox"
           }
          ],
          "scatterpolar": [
           {
            "marker": {
             "colorbar": {
              "outlinewidth": 0,
              "ticks": ""
             }
            },
            "type": "scatterpolar"
           }
          ],
          "scatterpolargl": [
           {
            "marker": {
             "colorbar": {
              "outlinewidth": 0,
              "ticks": ""
             }
            },
            "type": "scatterpolargl"
           }
          ],
          "scatterternary": [
           {
            "marker": {
             "colorbar": {
              "outlinewidth": 0,
              "ticks": ""
             }
            },
            "type": "scatterternary"
           }
          ],
          "surface": [
           {
            "colorbar": {
             "outlinewidth": 0,
             "ticks": ""
            },
            "colorscale": [
             [
              0,
              "#0d0887"
             ],
             [
              0.1111111111111111,
              "#46039f"
             ],
             [
              0.2222222222222222,
              "#7201a8"
             ],
             [
              0.3333333333333333,
              "#9c179e"
             ],
             [
              0.4444444444444444,
              "#bd3786"
             ],
             [
              0.5555555555555556,
              "#d8576b"
             ],
             [
              0.6666666666666666,
              "#ed7953"
             ],
             [
              0.7777777777777778,
              "#fb9f3a"
             ],
             [
              0.8888888888888888,
              "#fdca26"
             ],
             [
              1,
              "#f0f921"
             ]
            ],
            "type": "surface"
           }
          ],
          "table": [
           {
            "cells": {
             "fill": {
              "color": "#EBF0F8"
             },
             "line": {
              "color": "white"
             }
            },
            "header": {
             "fill": {
              "color": "#C8D4E3"
             },
             "line": {
              "color": "white"
             }
            },
            "type": "table"
           }
          ]
         },
         "layout": {
          "annotationdefaults": {
           "arrowcolor": "#2a3f5f",
           "arrowhead": 0,
           "arrowwidth": 1
          },
          "autotypenumbers": "strict",
          "coloraxis": {
           "colorbar": {
            "outlinewidth": 0,
            "ticks": ""
           }
          },
          "colorscale": {
           "diverging": [
            [
             0,
             "#8e0152"
            ],
            [
             0.1,
             "#c51b7d"
            ],
            [
             0.2,
             "#de77ae"
            ],
            [
             0.3,
             "#f1b6da"
            ],
            [
             0.4,
             "#fde0ef"
            ],
            [
             0.5,
             "#f7f7f7"
            ],
            [
             0.6,
             "#e6f5d0"
            ],
            [
             0.7,
             "#b8e186"
            ],
            [
             0.8,
             "#7fbc41"
            ],
            [
             0.9,
             "#4d9221"
            ],
            [
             1,
             "#276419"
            ]
           ],
           "sequential": [
            [
             0,
             "#0d0887"
            ],
            [
             0.1111111111111111,
             "#46039f"
            ],
            [
             0.2222222222222222,
             "#7201a8"
            ],
            [
             0.3333333333333333,
             "#9c179e"
            ],
            [
             0.4444444444444444,
             "#bd3786"
            ],
            [
             0.5555555555555556,
             "#d8576b"
            ],
            [
             0.6666666666666666,
             "#ed7953"
            ],
            [
             0.7777777777777778,
             "#fb9f3a"
            ],
            [
             0.8888888888888888,
             "#fdca26"
            ],
            [
             1,
             "#f0f921"
            ]
           ],
           "sequentialminus": [
            [
             0,
             "#0d0887"
            ],
            [
             0.1111111111111111,
             "#46039f"
            ],
            [
             0.2222222222222222,
             "#7201a8"
            ],
            [
             0.3333333333333333,
             "#9c179e"
            ],
            [
             0.4444444444444444,
             "#bd3786"
            ],
            [
             0.5555555555555556,
             "#d8576b"
            ],
            [
             0.6666666666666666,
             "#ed7953"
            ],
            [
             0.7777777777777778,
             "#fb9f3a"
            ],
            [
             0.8888888888888888,
             "#fdca26"
            ],
            [
             1,
             "#f0f921"
            ]
           ]
          },
          "colorway": [
           "#636efa",
           "#EF553B",
           "#00cc96",
           "#ab63fa",
           "#FFA15A",
           "#19d3f3",
           "#FF6692",
           "#B6E880",
           "#FF97FF",
           "#FECB52"
          ],
          "font": {
           "color": "#2a3f5f"
          },
          "geo": {
           "bgcolor": "white",
           "lakecolor": "white",
           "landcolor": "#E5ECF6",
           "showlakes": true,
           "showland": true,
           "subunitcolor": "white"
          },
          "hoverlabel": {
           "align": "left"
          },
          "hovermode": "closest",
          "mapbox": {
           "style": "light"
          },
          "paper_bgcolor": "white",
          "plot_bgcolor": "#E5ECF6",
          "polar": {
           "angularaxis": {
            "gridcolor": "white",
            "linecolor": "white",
            "ticks": ""
           },
           "bgcolor": "#E5ECF6",
           "radialaxis": {
            "gridcolor": "white",
            "linecolor": "white",
            "ticks": ""
           }
          },
          "scene": {
           "xaxis": {
            "backgroundcolor": "#E5ECF6",
            "gridcolor": "white",
            "gridwidth": 2,
            "linecolor": "white",
            "showbackground": true,
            "ticks": "",
            "zerolinecolor": "white"
           },
           "yaxis": {
            "backgroundcolor": "#E5ECF6",
            "gridcolor": "white",
            "gridwidth": 2,
            "linecolor": "white",
            "showbackground": true,
            "ticks": "",
            "zerolinecolor": "white"
           },
           "zaxis": {
            "backgroundcolor": "#E5ECF6",
            "gridcolor": "white",
            "gridwidth": 2,
            "linecolor": "white",
            "showbackground": true,
            "ticks": "",
            "zerolinecolor": "white"
           }
          },
          "shapedefaults": {
           "line": {
            "color": "#2a3f5f"
           }
          },
          "ternary": {
           "aaxis": {
            "gridcolor": "white",
            "linecolor": "white",
            "ticks": ""
           },
           "baxis": {
            "gridcolor": "white",
            "linecolor": "white",
            "ticks": ""
           },
           "bgcolor": "#E5ECF6",
           "caxis": {
            "gridcolor": "white",
            "linecolor": "white",
            "ticks": ""
           }
          },
          "title": {
           "x": 0.05
          },
          "xaxis": {
           "automargin": true,
           "gridcolor": "white",
           "linecolor": "white",
           "ticks": "",
           "title": {
            "standoff": 15
           },
           "zerolinecolor": "white",
           "zerolinewidth": 2
          },
          "yaxis": {
           "automargin": true,
           "gridcolor": "white",
           "linecolor": "white",
           "ticks": "",
           "title": {
            "standoff": 15
           },
           "zerolinecolor": "white",
           "zerolinewidth": 2
          }
         }
        },
        "title": {
         "text": "Depicted Locations Across all James Bond Films"
        }
       }
      }
     },
     "metadata": {},
     "output_type": "display_data"
    }
   ],
   "source": [
    "#DEPICTED LOCATIONS MAP\n",
    "\n",
    "#reading in map data (compiled in final project file!)\n",
    "mapDataAllFilms = pd.read_csv(\"uniqueLocationsWithDecade.csv\")\n",
    "\n",
    "mapDepicted = mapDataAllFilms[(mapDataAllFilms[\"No of Depictions\"] > 0)]\n",
    "#generating map\n",
    "figMapDep = px.choropleth(mapDepicted, locations=\"ISO3-DigitAlphaCountryCode\",\n",
    "                    color=\"No of Depictions\", \n",
    "                    hover_name=\"location\", \n",
    "                    hover_data = \"No of Depictions\",\n",
    "                    color_continuous_scale=px.colors.sequential.Reds)\n",
    "\n",
    "\n",
    "#updating figure layout\n",
    "figMapDep.update_layout(title = \"Depicted Locations Across all James Bond Films\")\n",
    "\n",
    "#displaying figure\n",
    "figMapDep.show()"
   ]
  },
  {
   "cell_type": "code",
   "execution_count": 25,
   "metadata": {},
   "outputs": [
    {
     "data": {
      "application/vnd.plotly.v1+json": {
       "config": {
        "plotlyServerURL": "https://plot.ly"
       },
       "data": [
        {
         "coloraxis": "coloraxis",
         "geo": "geo",
         "hovertemplate": "<b>%{hovertext}</b><br><br>ISO3-DigitAlphaCountryCode=%{location}<br>No of Shoots Used=%{z}<extra></extra>",
         "hovertext": [
          "United Kingdom",
          "Turkey",
          "Italy",
          "United States",
          "Switzerland",
          "France",
          "Bahamas",
          "Russia",
          "Norway",
          "Japan",
          "Portugal",
          "Egypt",
          "Netherlands",
          "Mexico",
          "Jamaica",
          "Thailand",
          "Austria",
          "Brazil",
          "Spain",
          "Greece",
          "India",
          "Germany",
          "Morocco",
          "Monaco",
          "Azerbaijan",
          "Hong Kong",
          "Iceland",
          "Czech Republic",
          "China",
          "Vatican City",
          "Canada",
          "Malta",
          "Guatemala",
          "Puerto Rico",
          "Panama",
          "Chile"
         ],
         "locations": [
          "GBR",
          "TUR",
          "ITA",
          "USA",
          "CHE",
          "FRA",
          "BHS",
          "RUS",
          "NOR",
          "JPN",
          "PRT",
          "EGY",
          "NLD",
          "MEX",
          "JAM",
          "THA",
          "AUT",
          "BRA",
          "ESP",
          "GRC",
          "IND",
          "DEU",
          "MAR",
          "MCO",
          "AZE",
          "HKG",
          "ISL",
          "CZE",
          "CHN",
          "VAT",
          "CAN",
          "MLT",
          "GTM",
          "PRI",
          "PAN",
          "CHL"
         ],
         "name": "",
         "type": "choropleth",
         "z": [
          22,
          3,
          8,
          9,
          6,
          7,
          3,
          1,
          2,
          2,
          2,
          1,
          1,
          3,
          2,
          2,
          3,
          1,
          4,
          1,
          1,
          4,
          2,
          1,
          1,
          1,
          2,
          1,
          1,
          1,
          1,
          2,
          1,
          1,
          1,
          1
         ]
        }
       ],
       "layout": {
        "coloraxis": {
         "colorbar": {
          "title": {
           "text": "No of Shoots Used"
          }
         },
         "colorscale": [
          [
           0,
           "rgb(3, 5, 18)"
          ],
          [
           0.09090909090909091,
           "rgb(25, 25, 51)"
          ],
          [
           0.18181818181818182,
           "rgb(44, 42, 87)"
          ],
          [
           0.2727272727272727,
           "rgb(58, 60, 125)"
          ],
          [
           0.36363636363636365,
           "rgb(62, 83, 160)"
          ],
          [
           0.45454545454545453,
           "rgb(62, 109, 178)"
          ],
          [
           0.5454545454545454,
           "rgb(72, 134, 187)"
          ],
          [
           0.6363636363636364,
           "rgb(89, 159, 196)"
          ],
          [
           0.7272727272727273,
           "rgb(114, 184, 205)"
          ],
          [
           0.8181818181818182,
           "rgb(149, 207, 216)"
          ],
          [
           0.9090909090909091,
           "rgb(192, 229, 232)"
          ],
          [
           1,
           "rgb(234, 252, 253)"
          ]
         ]
        },
        "geo": {
         "center": {},
         "domain": {
          "x": [
           0,
           1
          ],
          "y": [
           0,
           1
          ]
         }
        },
        "legend": {
         "tracegroupgap": 0
        },
        "margin": {
         "t": 60
        },
        "template": {
         "data": {
          "bar": [
           {
            "error_x": {
             "color": "#2a3f5f"
            },
            "error_y": {
             "color": "#2a3f5f"
            },
            "marker": {
             "line": {
              "color": "#E5ECF6",
              "width": 0.5
             },
             "pattern": {
              "fillmode": "overlay",
              "size": 10,
              "solidity": 0.2
             }
            },
            "type": "bar"
           }
          ],
          "barpolar": [
           {
            "marker": {
             "line": {
              "color": "#E5ECF6",
              "width": 0.5
             },
             "pattern": {
              "fillmode": "overlay",
              "size": 10,
              "solidity": 0.2
             }
            },
            "type": "barpolar"
           }
          ],
          "carpet": [
           {
            "aaxis": {
             "endlinecolor": "#2a3f5f",
             "gridcolor": "white",
             "linecolor": "white",
             "minorgridcolor": "white",
             "startlinecolor": "#2a3f5f"
            },
            "baxis": {
             "endlinecolor": "#2a3f5f",
             "gridcolor": "white",
             "linecolor": "white",
             "minorgridcolor": "white",
             "startlinecolor": "#2a3f5f"
            },
            "type": "carpet"
           }
          ],
          "choropleth": [
           {
            "colorbar": {
             "outlinewidth": 0,
             "ticks": ""
            },
            "type": "choropleth"
           }
          ],
          "contour": [
           {
            "colorbar": {
             "outlinewidth": 0,
             "ticks": ""
            },
            "colorscale": [
             [
              0,
              "#0d0887"
             ],
             [
              0.1111111111111111,
              "#46039f"
             ],
             [
              0.2222222222222222,
              "#7201a8"
             ],
             [
              0.3333333333333333,
              "#9c179e"
             ],
             [
              0.4444444444444444,
              "#bd3786"
             ],
             [
              0.5555555555555556,
              "#d8576b"
             ],
             [
              0.6666666666666666,
              "#ed7953"
             ],
             [
              0.7777777777777778,
              "#fb9f3a"
             ],
             [
              0.8888888888888888,
              "#fdca26"
             ],
             [
              1,
              "#f0f921"
             ]
            ],
            "type": "contour"
           }
          ],
          "contourcarpet": [
           {
            "colorbar": {
             "outlinewidth": 0,
             "ticks": ""
            },
            "type": "contourcarpet"
           }
          ],
          "heatmap": [
           {
            "colorbar": {
             "outlinewidth": 0,
             "ticks": ""
            },
            "colorscale": [
             [
              0,
              "#0d0887"
             ],
             [
              0.1111111111111111,
              "#46039f"
             ],
             [
              0.2222222222222222,
              "#7201a8"
             ],
             [
              0.3333333333333333,
              "#9c179e"
             ],
             [
              0.4444444444444444,
              "#bd3786"
             ],
             [
              0.5555555555555556,
              "#d8576b"
             ],
             [
              0.6666666666666666,
              "#ed7953"
             ],
             [
              0.7777777777777778,
              "#fb9f3a"
             ],
             [
              0.8888888888888888,
              "#fdca26"
             ],
             [
              1,
              "#f0f921"
             ]
            ],
            "type": "heatmap"
           }
          ],
          "heatmapgl": [
           {
            "colorbar": {
             "outlinewidth": 0,
             "ticks": ""
            },
            "colorscale": [
             [
              0,
              "#0d0887"
             ],
             [
              0.1111111111111111,
              "#46039f"
             ],
             [
              0.2222222222222222,
              "#7201a8"
             ],
             [
              0.3333333333333333,
              "#9c179e"
             ],
             [
              0.4444444444444444,
              "#bd3786"
             ],
             [
              0.5555555555555556,
              "#d8576b"
             ],
             [
              0.6666666666666666,
              "#ed7953"
             ],
             [
              0.7777777777777778,
              "#fb9f3a"
             ],
             [
              0.8888888888888888,
              "#fdca26"
             ],
             [
              1,
              "#f0f921"
             ]
            ],
            "type": "heatmapgl"
           }
          ],
          "histogram": [
           {
            "marker": {
             "pattern": {
              "fillmode": "overlay",
              "size": 10,
              "solidity": 0.2
             }
            },
            "type": "histogram"
           }
          ],
          "histogram2d": [
           {
            "colorbar": {
             "outlinewidth": 0,
             "ticks": ""
            },
            "colorscale": [
             [
              0,
              "#0d0887"
             ],
             [
              0.1111111111111111,
              "#46039f"
             ],
             [
              0.2222222222222222,
              "#7201a8"
             ],
             [
              0.3333333333333333,
              "#9c179e"
             ],
             [
              0.4444444444444444,
              "#bd3786"
             ],
             [
              0.5555555555555556,
              "#d8576b"
             ],
             [
              0.6666666666666666,
              "#ed7953"
             ],
             [
              0.7777777777777778,
              "#fb9f3a"
             ],
             [
              0.8888888888888888,
              "#fdca26"
             ],
             [
              1,
              "#f0f921"
             ]
            ],
            "type": "histogram2d"
           }
          ],
          "histogram2dcontour": [
           {
            "colorbar": {
             "outlinewidth": 0,
             "ticks": ""
            },
            "colorscale": [
             [
              0,
              "#0d0887"
             ],
             [
              0.1111111111111111,
              "#46039f"
             ],
             [
              0.2222222222222222,
              "#7201a8"
             ],
             [
              0.3333333333333333,
              "#9c179e"
             ],
             [
              0.4444444444444444,
              "#bd3786"
             ],
             [
              0.5555555555555556,
              "#d8576b"
             ],
             [
              0.6666666666666666,
              "#ed7953"
             ],
             [
              0.7777777777777778,
              "#fb9f3a"
             ],
             [
              0.8888888888888888,
              "#fdca26"
             ],
             [
              1,
              "#f0f921"
             ]
            ],
            "type": "histogram2dcontour"
           }
          ],
          "mesh3d": [
           {
            "colorbar": {
             "outlinewidth": 0,
             "ticks": ""
            },
            "type": "mesh3d"
           }
          ],
          "parcoords": [
           {
            "line": {
             "colorbar": {
              "outlinewidth": 0,
              "ticks": ""
             }
            },
            "type": "parcoords"
           }
          ],
          "pie": [
           {
            "automargin": true,
            "type": "pie"
           }
          ],
          "scatter": [
           {
            "fillpattern": {
             "fillmode": "overlay",
             "size": 10,
             "solidity": 0.2
            },
            "type": "scatter"
           }
          ],
          "scatter3d": [
           {
            "line": {
             "colorbar": {
              "outlinewidth": 0,
              "ticks": ""
             }
            },
            "marker": {
             "colorbar": {
              "outlinewidth": 0,
              "ticks": ""
             }
            },
            "type": "scatter3d"
           }
          ],
          "scattercarpet": [
           {
            "marker": {
             "colorbar": {
              "outlinewidth": 0,
              "ticks": ""
             }
            },
            "type": "scattercarpet"
           }
          ],
          "scattergeo": [
           {
            "marker": {
             "colorbar": {
              "outlinewidth": 0,
              "ticks": ""
             }
            },
            "type": "scattergeo"
           }
          ],
          "scattergl": [
           {
            "marker": {
             "colorbar": {
              "outlinewidth": 0,
              "ticks": ""
             }
            },
            "type": "scattergl"
           }
          ],
          "scattermapbox": [
           {
            "marker": {
             "colorbar": {
              "outlinewidth": 0,
              "ticks": ""
             }
            },
            "type": "scattermapbox"
           }
          ],
          "scatterpolar": [
           {
            "marker": {
             "colorbar": {
              "outlinewidth": 0,
              "ticks": ""
             }
            },
            "type": "scatterpolar"
           }
          ],
          "scatterpolargl": [
           {
            "marker": {
             "colorbar": {
              "outlinewidth": 0,
              "ticks": ""
             }
            },
            "type": "scatterpolargl"
           }
          ],
          "scatterternary": [
           {
            "marker": {
             "colorbar": {
              "outlinewidth": 0,
              "ticks": ""
             }
            },
            "type": "scatterternary"
           }
          ],
          "surface": [
           {
            "colorbar": {
             "outlinewidth": 0,
             "ticks": ""
            },
            "colorscale": [
             [
              0,
              "#0d0887"
             ],
             [
              0.1111111111111111,
              "#46039f"
             ],
             [
              0.2222222222222222,
              "#7201a8"
             ],
             [
              0.3333333333333333,
              "#9c179e"
             ],
             [
              0.4444444444444444,
              "#bd3786"
             ],
             [
              0.5555555555555556,
              "#d8576b"
             ],
             [
              0.6666666666666666,
              "#ed7953"
             ],
             [
              0.7777777777777778,
              "#fb9f3a"
             ],
             [
              0.8888888888888888,
              "#fdca26"
             ],
             [
              1,
              "#f0f921"
             ]
            ],
            "type": "surface"
           }
          ],
          "table": [
           {
            "cells": {
             "fill": {
              "color": "#EBF0F8"
             },
             "line": {
              "color": "white"
             }
            },
            "header": {
             "fill": {
              "color": "#C8D4E3"
             },
             "line": {
              "color": "white"
             }
            },
            "type": "table"
           }
          ]
         },
         "layout": {
          "annotationdefaults": {
           "arrowcolor": "#2a3f5f",
           "arrowhead": 0,
           "arrowwidth": 1
          },
          "autotypenumbers": "strict",
          "coloraxis": {
           "colorbar": {
            "outlinewidth": 0,
            "ticks": ""
           }
          },
          "colorscale": {
           "diverging": [
            [
             0,
             "#8e0152"
            ],
            [
             0.1,
             "#c51b7d"
            ],
            [
             0.2,
             "#de77ae"
            ],
            [
             0.3,
             "#f1b6da"
            ],
            [
             0.4,
             "#fde0ef"
            ],
            [
             0.5,
             "#f7f7f7"
            ],
            [
             0.6,
             "#e6f5d0"
            ],
            [
             0.7,
             "#b8e186"
            ],
            [
             0.8,
             "#7fbc41"
            ],
            [
             0.9,
             "#4d9221"
            ],
            [
             1,
             "#276419"
            ]
           ],
           "sequential": [
            [
             0,
             "#0d0887"
            ],
            [
             0.1111111111111111,
             "#46039f"
            ],
            [
             0.2222222222222222,
             "#7201a8"
            ],
            [
             0.3333333333333333,
             "#9c179e"
            ],
            [
             0.4444444444444444,
             "#bd3786"
            ],
            [
             0.5555555555555556,
             "#d8576b"
            ],
            [
             0.6666666666666666,
             "#ed7953"
            ],
            [
             0.7777777777777778,
             "#fb9f3a"
            ],
            [
             0.8888888888888888,
             "#fdca26"
            ],
            [
             1,
             "#f0f921"
            ]
           ],
           "sequentialminus": [
            [
             0,
             "#0d0887"
            ],
            [
             0.1111111111111111,
             "#46039f"
            ],
            [
             0.2222222222222222,
             "#7201a8"
            ],
            [
             0.3333333333333333,
             "#9c179e"
            ],
            [
             0.4444444444444444,
             "#bd3786"
            ],
            [
             0.5555555555555556,
             "#d8576b"
            ],
            [
             0.6666666666666666,
             "#ed7953"
            ],
            [
             0.7777777777777778,
             "#fb9f3a"
            ],
            [
             0.8888888888888888,
             "#fdca26"
            ],
            [
             1,
             "#f0f921"
            ]
           ]
          },
          "colorway": [
           "#636efa",
           "#EF553B",
           "#00cc96",
           "#ab63fa",
           "#FFA15A",
           "#19d3f3",
           "#FF6692",
           "#B6E880",
           "#FF97FF",
           "#FECB52"
          ],
          "font": {
           "color": "#2a3f5f"
          },
          "geo": {
           "bgcolor": "white",
           "lakecolor": "white",
           "landcolor": "#E5ECF6",
           "showlakes": true,
           "showland": true,
           "subunitcolor": "white"
          },
          "hoverlabel": {
           "align": "left"
          },
          "hovermode": "closest",
          "mapbox": {
           "style": "light"
          },
          "paper_bgcolor": "white",
          "plot_bgcolor": "#E5ECF6",
          "polar": {
           "angularaxis": {
            "gridcolor": "white",
            "linecolor": "white",
            "ticks": ""
           },
           "bgcolor": "#E5ECF6",
           "radialaxis": {
            "gridcolor": "white",
            "linecolor": "white",
            "ticks": ""
           }
          },
          "scene": {
           "xaxis": {
            "backgroundcolor": "#E5ECF6",
            "gridcolor": "white",
            "gridwidth": 2,
            "linecolor": "white",
            "showbackground": true,
            "ticks": "",
            "zerolinecolor": "white"
           },
           "yaxis": {
            "backgroundcolor": "#E5ECF6",
            "gridcolor": "white",
            "gridwidth": 2,
            "linecolor": "white",
            "showbackground": true,
            "ticks": "",
            "zerolinecolor": "white"
           },
           "zaxis": {
            "backgroundcolor": "#E5ECF6",
            "gridcolor": "white",
            "gridwidth": 2,
            "linecolor": "white",
            "showbackground": true,
            "ticks": "",
            "zerolinecolor": "white"
           }
          },
          "shapedefaults": {
           "line": {
            "color": "#2a3f5f"
           }
          },
          "ternary": {
           "aaxis": {
            "gridcolor": "white",
            "linecolor": "white",
            "ticks": ""
           },
           "baxis": {
            "gridcolor": "white",
            "linecolor": "white",
            "ticks": ""
           },
           "bgcolor": "#E5ECF6",
           "caxis": {
            "gridcolor": "white",
            "linecolor": "white",
            "ticks": ""
           }
          },
          "title": {
           "x": 0.05
          },
          "xaxis": {
           "automargin": true,
           "gridcolor": "white",
           "linecolor": "white",
           "ticks": "",
           "title": {
            "standoff": 15
           },
           "zerolinecolor": "white",
           "zerolinewidth": 2
          },
          "yaxis": {
           "automargin": true,
           "gridcolor": "white",
           "linecolor": "white",
           "ticks": "",
           "title": {
            "standoff": 15
           },
           "zerolinecolor": "white",
           "zerolinewidth": 2
          }
         }
        },
        "title": {
         "text": "Shooting Locations Across all James Bond Films"
        }
       }
      }
     },
     "metadata": {},
     "output_type": "display_data"
    }
   ],
   "source": [
    "#SHOOTING LOCATIONS MAP\n",
    "\n",
    "mapShooting = mapDataAllFilms[(mapDataAllFilms[\"No of Shoots Used\"] > 0)]\n",
    "\n",
    "figMapShot = px.choropleth(mapShooting, locations=\"ISO3-DigitAlphaCountryCode\",\n",
    "                    color=\"No of Shoots Used\", # lifeExp is a column of gapminder\n",
    "                    hover_name=\"location\", # column to add to hover information\n",
    "                    color_continuous_scale=px.colors.sequential.ice)\n",
    "\n",
    "#updating figure layout\n",
    "figMapShot.update_layout(title = \"Shooting Locations Across all James Bond Films\")\n",
    "\n",
    "\n",
    "figMapShot.show()"
   ]
  },
  {
   "attachments": {},
   "cell_type": "markdown",
   "metadata": {},
   "source": [
    "There's quite an overlap across the two maps, though they are not identical. Russia, for instance, has been depicted 9 times, but only 1 film actually shot there. African countries have also been depicted more than they have actually been used as shooting locations; it is interesting to consider if this is owed to practical challenges or lack of incentives to film there. The most interesting insight for me was the fact that the United Kingdom has been depicted 23 times, but interestingly, there is a single film where it wasn't a shooting location. I cross-checked this with the original data and found that the film in question is \"You Only Live Twice\", released in 1967 and starring Sean Connery was Bond. It is something of an outlier in that it diverges significantly from Ian Fleming's novel of the same name, and is primarily set in Japan. Still, there's something just a little odd about a James Bond film not filming in the motherland at all!"
   ]
  },
  {
   "attachments": {},
   "cell_type": "markdown",
   "metadata": {},
   "source": [
    "To attempt to represent all of this information on the same plot, I also generated a bubble plot to communicate the same information."
   ]
  },
  {
   "cell_type": "code",
   "execution_count": 26,
   "metadata": {},
   "outputs": [
    {
     "data": {
      "application/vnd.plotly.v1+json": {
       "config": {
        "plotlyServerURL": "https://plot.ly"
       },
       "data": [
        {
         "customdata": [
          [
           23,
           22
          ],
          [
           3,
           3
          ],
          [
           1,
           0
          ],
          [
           1,
           0
          ],
          [
           7,
           8
          ],
          [
           10,
           9
          ],
          [
           2,
           6
          ],
          [
           4,
           7
          ],
          [
           3,
           3
          ],
          [
           9,
           1
          ],
          [
           2,
           0
          ],
          [
           1,
           2
          ],
          [
           3,
           2
          ],
          [
           2,
           2
          ],
          [
           2,
           1
          ],
          [
           1,
           0
          ],
          [
           1,
           1
          ],
          [
           2,
           3
          ],
          [
           2,
           2
          ],
          [
           1,
           0
          ],
          [
           1,
           2
          ],
          [
           4,
           3
          ],
          [
           1,
           1
          ],
          [
           2,
           4
          ],
          [
           1,
           1
          ],
          [
           1,
           0
          ],
          [
           1,
           1
          ],
          [
           2,
           4
          ],
          [
           1,
           0
          ],
          [
           1,
           0
          ],
          [
           2,
           2
          ],
          [
           1,
           0
          ],
          [
           2,
           0
          ],
          [
           1,
           1
          ],
          [
           2,
           0
          ],
          [
           1,
           0
          ],
          [
           1,
           1
          ],
          [
           1,
           0
          ],
          [
           2,
           0
          ],
          [
           1,
           1
          ],
          [
           1,
           2
          ],
          [
           1,
           1
          ],
          [
           1,
           0
          ],
          [
           1,
           0
          ],
          [
           1,
           0
          ],
          [
           1,
           0
          ],
          [
           1,
           0
          ],
          [
           1,
           1
          ],
          [
           1,
           0
          ],
          [
           1,
           1
          ],
          [
           0,
           1
          ],
          [
           0,
           2
          ],
          [
           0,
           1
          ],
          [
           0,
           1
          ],
          [
           0,
           1
          ],
          [
           0,
           1
          ]
         ],
         "hovertemplate": "<b>%{hovertext}</b><br><br>No of Depictions=%{customdata[0]}<br>latitude=%{lat}<br>longitude=%{lon}<br>No of Shoots Used=%{marker.color}<extra></extra>",
         "hovertext": [
          "United Kingdom",
          "Turkey",
          "Croatia",
          "Serbia",
          "Italy",
          "United States",
          "Switzerland",
          "France",
          "Bahamas",
          "Russia",
          "Kazakhstan",
          "Norway",
          "Japan",
          "Portugal",
          "Egypt",
          "South Africa",
          "Netherlands",
          "Mexico",
          "Jamaica",
          "Lebanon",
          "Thailand",
          "Austria",
          "Brazil",
          "Spain",
          "Greece",
          "Albania",
          "India",
          "Germany",
          "Gibraltar",
          "Slovakia",
          "Morocco",
          "Afghanistan",
          "Pakistan",
          "Monaco",
          "Cuba",
          "Vietnam",
          "Azerbaijan",
          "North Korea",
          "South Korea",
          "Hong Kong",
          "Iceland",
          "Czech Republic",
          "Uganda",
          "Madagascar",
          "Montenegro",
          "Haiti",
          "Bolivia",
          "China",
          "Macau",
          "Vatican City",
          "Canada",
          "Malta",
          "Guatemala",
          "Puerto Rico",
          "Panama",
          "Chile"
         ],
         "lat": [
          55.378051,
          38.963745,
          45.1,
          44.016521,
          41.87194,
          37.09024,
          46.818188,
          46.227638,
          25.03428,
          61.52401,
          48.019573,
          60.472024,
          36.204824,
          39.399872,
          26.820553,
          -30.559482,
          52.132633,
          23.634501,
          18.109581,
          33.854721,
          15.870032,
          47.516231,
          -14.235004,
          40.463667,
          39.074208,
          41.153332,
          20.593684,
          51.165691,
          36.137741,
          48.669026,
          31.791702,
          33.93911,
          30.375321,
          43.750298,
          21.521757,
          14.058324,
          40.143105,
          40.339852,
          35.907757,
          22.396428,
          64.963051,
          49.817492,
          1.373333,
          -18.766947,
          42.708678,
          18.971187,
          -16.290154,
          35.86166,
          22.198745,
          41.902916,
          56.130366,
          35.937496,
          15.783471,
          18.220833,
          8.537981,
          -35.675147
         ],
         "legendgroup": "",
         "lon": [
          -3.435973,
          35.243322,
          15.2,
          21.005859,
          12.56738,
          -95.712891,
          8.227512,
          2.213749,
          -77.39628,
          105.318756,
          66.923684,
          8.468946,
          138.252924,
          -8.224454,
          30.802498,
          22.937506,
          5.291266,
          -102.552784,
          -77.297508,
          35.862285,
          100.992541,
          14.550072,
          -51.92528,
          -3.74922,
          21.824312,
          20.168331,
          78.96288,
          10.451526,
          -5.345374,
          19.699024,
          -7.09262,
          67.709953,
          69.345116,
          7.412841,
          -77.781167,
          108.277199,
          47.576927,
          127.510093,
          127.766922,
          114.109497,
          -19.020835,
          15.472962,
          32.290275,
          46.869107,
          19.37439,
          -72.285215,
          -63.588653,
          104.195397,
          113.543873,
          12.453389,
          -106.346771,
          14.375416,
          -90.230759,
          -66.590149,
          -80.782127,
          -71.542969
         ],
         "marker": {
          "color": [
           22,
           3,
           0,
           0,
           8,
           9,
           6,
           7,
           3,
           1,
           0,
           2,
           2,
           2,
           1,
           0,
           1,
           3,
           2,
           0,
           2,
           3,
           1,
           4,
           1,
           0,
           1,
           4,
           0,
           0,
           2,
           0,
           0,
           1,
           0,
           0,
           1,
           0,
           0,
           1,
           2,
           1,
           0,
           0,
           0,
           0,
           0,
           1,
           0,
           1,
           1,
           2,
           1,
           1,
           1,
           1
          ],
          "coloraxis": "coloraxis",
          "size": [
           23,
           3,
           1,
           1,
           7,
           10,
           2,
           4,
           3,
           9,
           2,
           1,
           3,
           2,
           2,
           1,
           1,
           2,
           2,
           1,
           1,
           4,
           1,
           2,
           1,
           1,
           1,
           2,
           1,
           1,
           2,
           1,
           2,
           1,
           2,
           1,
           1,
           1,
           2,
           1,
           1,
           1,
           1,
           1,
           1,
           1,
           1,
           1,
           1,
           1,
           0,
           0,
           0,
           0,
           0,
           0
          ],
          "sizemode": "area",
          "sizeref": 0.025555555555555557
         },
         "mode": "markers",
         "name": "",
         "showlegend": false,
         "subplot": "mapbox",
         "type": "scattermapbox"
        }
       ],
       "layout": {
        "coloraxis": {
         "colorbar": {
          "title": {
           "text": "No of Shoots Used"
          }
         },
         "colorscale": [
          [
           0,
           "rgb(0,0,0)"
          ],
          [
           0.3333333333333333,
           "rgb(230,0,0)"
          ],
          [
           0.6666666666666666,
           "rgb(255,210,0)"
          ],
          [
           1,
           "rgb(255,255,255)"
          ]
         ]
        },
        "legend": {
         "itemsizing": "constant",
         "tracegroupgap": 0
        },
        "mapbox": {
         "accesstoken": "pk.eyJ1Ijoic2JveWxhbiIsImEiOiJjbGdlNmhxNTIyaG9kM2dxcjk5ZnNmYnUwIn0.TBRkjL9k1teRts2I00M8mQ",
         "center": {
          "lat": 30.936082785714287,
          "lon": 12.899048232142858
         },
         "domain": {
          "x": [
           0,
           1
          ],
          "y": [
           0,
           1
          ]
         },
         "zoom": 1
        },
        "margin": {
         "t": 60
        },
        "template": {
         "data": {
          "bar": [
           {
            "error_x": {
             "color": "#2a3f5f"
            },
            "error_y": {
             "color": "#2a3f5f"
            },
            "marker": {
             "line": {
              "color": "#E5ECF6",
              "width": 0.5
             },
             "pattern": {
              "fillmode": "overlay",
              "size": 10,
              "solidity": 0.2
             }
            },
            "type": "bar"
           }
          ],
          "barpolar": [
           {
            "marker": {
             "line": {
              "color": "#E5ECF6",
              "width": 0.5
             },
             "pattern": {
              "fillmode": "overlay",
              "size": 10,
              "solidity": 0.2
             }
            },
            "type": "barpolar"
           }
          ],
          "carpet": [
           {
            "aaxis": {
             "endlinecolor": "#2a3f5f",
             "gridcolor": "white",
             "linecolor": "white",
             "minorgridcolor": "white",
             "startlinecolor": "#2a3f5f"
            },
            "baxis": {
             "endlinecolor": "#2a3f5f",
             "gridcolor": "white",
             "linecolor": "white",
             "minorgridcolor": "white",
             "startlinecolor": "#2a3f5f"
            },
            "type": "carpet"
           }
          ],
          "choropleth": [
           {
            "colorbar": {
             "outlinewidth": 0,
             "ticks": ""
            },
            "type": "choropleth"
           }
          ],
          "contour": [
           {
            "colorbar": {
             "outlinewidth": 0,
             "ticks": ""
            },
            "colorscale": [
             [
              0,
              "#0d0887"
             ],
             [
              0.1111111111111111,
              "#46039f"
             ],
             [
              0.2222222222222222,
              "#7201a8"
             ],
             [
              0.3333333333333333,
              "#9c179e"
             ],
             [
              0.4444444444444444,
              "#bd3786"
             ],
             [
              0.5555555555555556,
              "#d8576b"
             ],
             [
              0.6666666666666666,
              "#ed7953"
             ],
             [
              0.7777777777777778,
              "#fb9f3a"
             ],
             [
              0.8888888888888888,
              "#fdca26"
             ],
             [
              1,
              "#f0f921"
             ]
            ],
            "type": "contour"
           }
          ],
          "contourcarpet": [
           {
            "colorbar": {
             "outlinewidth": 0,
             "ticks": ""
            },
            "type": "contourcarpet"
           }
          ],
          "heatmap": [
           {
            "colorbar": {
             "outlinewidth": 0,
             "ticks": ""
            },
            "colorscale": [
             [
              0,
              "#0d0887"
             ],
             [
              0.1111111111111111,
              "#46039f"
             ],
             [
              0.2222222222222222,
              "#7201a8"
             ],
             [
              0.3333333333333333,
              "#9c179e"
             ],
             [
              0.4444444444444444,
              "#bd3786"
             ],
             [
              0.5555555555555556,
              "#d8576b"
             ],
             [
              0.6666666666666666,
              "#ed7953"
             ],
             [
              0.7777777777777778,
              "#fb9f3a"
             ],
             [
              0.8888888888888888,
              "#fdca26"
             ],
             [
              1,
              "#f0f921"
             ]
            ],
            "type": "heatmap"
           }
          ],
          "heatmapgl": [
           {
            "colorbar": {
             "outlinewidth": 0,
             "ticks": ""
            },
            "colorscale": [
             [
              0,
              "#0d0887"
             ],
             [
              0.1111111111111111,
              "#46039f"
             ],
             [
              0.2222222222222222,
              "#7201a8"
             ],
             [
              0.3333333333333333,
              "#9c179e"
             ],
             [
              0.4444444444444444,
              "#bd3786"
             ],
             [
              0.5555555555555556,
              "#d8576b"
             ],
             [
              0.6666666666666666,
              "#ed7953"
             ],
             [
              0.7777777777777778,
              "#fb9f3a"
             ],
             [
              0.8888888888888888,
              "#fdca26"
             ],
             [
              1,
              "#f0f921"
             ]
            ],
            "type": "heatmapgl"
           }
          ],
          "histogram": [
           {
            "marker": {
             "pattern": {
              "fillmode": "overlay",
              "size": 10,
              "solidity": 0.2
             }
            },
            "type": "histogram"
           }
          ],
          "histogram2d": [
           {
            "colorbar": {
             "outlinewidth": 0,
             "ticks": ""
            },
            "colorscale": [
             [
              0,
              "#0d0887"
             ],
             [
              0.1111111111111111,
              "#46039f"
             ],
             [
              0.2222222222222222,
              "#7201a8"
             ],
             [
              0.3333333333333333,
              "#9c179e"
             ],
             [
              0.4444444444444444,
              "#bd3786"
             ],
             [
              0.5555555555555556,
              "#d8576b"
             ],
             [
              0.6666666666666666,
              "#ed7953"
             ],
             [
              0.7777777777777778,
              "#fb9f3a"
             ],
             [
              0.8888888888888888,
              "#fdca26"
             ],
             [
              1,
              "#f0f921"
             ]
            ],
            "type": "histogram2d"
           }
          ],
          "histogram2dcontour": [
           {
            "colorbar": {
             "outlinewidth": 0,
             "ticks": ""
            },
            "colorscale": [
             [
              0,
              "#0d0887"
             ],
             [
              0.1111111111111111,
              "#46039f"
             ],
             [
              0.2222222222222222,
              "#7201a8"
             ],
             [
              0.3333333333333333,
              "#9c179e"
             ],
             [
              0.4444444444444444,
              "#bd3786"
             ],
             [
              0.5555555555555556,
              "#d8576b"
             ],
             [
              0.6666666666666666,
              "#ed7953"
             ],
             [
              0.7777777777777778,
              "#fb9f3a"
             ],
             [
              0.8888888888888888,
              "#fdca26"
             ],
             [
              1,
              "#f0f921"
             ]
            ],
            "type": "histogram2dcontour"
           }
          ],
          "mesh3d": [
           {
            "colorbar": {
             "outlinewidth": 0,
             "ticks": ""
            },
            "type": "mesh3d"
           }
          ],
          "parcoords": [
           {
            "line": {
             "colorbar": {
              "outlinewidth": 0,
              "ticks": ""
             }
            },
            "type": "parcoords"
           }
          ],
          "pie": [
           {
            "automargin": true,
            "type": "pie"
           }
          ],
          "scatter": [
           {
            "fillpattern": {
             "fillmode": "overlay",
             "size": 10,
             "solidity": 0.2
            },
            "type": "scatter"
           }
          ],
          "scatter3d": [
           {
            "line": {
             "colorbar": {
              "outlinewidth": 0,
              "ticks": ""
             }
            },
            "marker": {
             "colorbar": {
              "outlinewidth": 0,
              "ticks": ""
             }
            },
            "type": "scatter3d"
           }
          ],
          "scattercarpet": [
           {
            "marker": {
             "colorbar": {
              "outlinewidth": 0,
              "ticks": ""
             }
            },
            "type": "scattercarpet"
           }
          ],
          "scattergeo": [
           {
            "marker": {
             "colorbar": {
              "outlinewidth": 0,
              "ticks": ""
             }
            },
            "type": "scattergeo"
           }
          ],
          "scattergl": [
           {
            "marker": {
             "colorbar": {
              "outlinewidth": 0,
              "ticks": ""
             }
            },
            "type": "scattergl"
           }
          ],
          "scattermapbox": [
           {
            "marker": {
             "colorbar": {
              "outlinewidth": 0,
              "ticks": ""
             }
            },
            "type": "scattermapbox"
           }
          ],
          "scatterpolar": [
           {
            "marker": {
             "colorbar": {
              "outlinewidth": 0,
              "ticks": ""
             }
            },
            "type": "scatterpolar"
           }
          ],
          "scatterpolargl": [
           {
            "marker": {
             "colorbar": {
              "outlinewidth": 0,
              "ticks": ""
             }
            },
            "type": "scatterpolargl"
           }
          ],
          "scatterternary": [
           {
            "marker": {
             "colorbar": {
              "outlinewidth": 0,
              "ticks": ""
             }
            },
            "type": "scatterternary"
           }
          ],
          "surface": [
           {
            "colorbar": {
             "outlinewidth": 0,
             "ticks": ""
            },
            "colorscale": [
             [
              0,
              "#0d0887"
             ],
             [
              0.1111111111111111,
              "#46039f"
             ],
             [
              0.2222222222222222,
              "#7201a8"
             ],
             [
              0.3333333333333333,
              "#9c179e"
             ],
             [
              0.4444444444444444,
              "#bd3786"
             ],
             [
              0.5555555555555556,
              "#d8576b"
             ],
             [
              0.6666666666666666,
              "#ed7953"
             ],
             [
              0.7777777777777778,
              "#fb9f3a"
             ],
             [
              0.8888888888888888,
              "#fdca26"
             ],
             [
              1,
              "#f0f921"
             ]
            ],
            "type": "surface"
           }
          ],
          "table": [
           {
            "cells": {
             "fill": {
              "color": "#EBF0F8"
             },
             "line": {
              "color": "white"
             }
            },
            "header": {
             "fill": {
              "color": "#C8D4E3"
             },
             "line": {
              "color": "white"
             }
            },
            "type": "table"
           }
          ]
         },
         "layout": {
          "annotationdefaults": {
           "arrowcolor": "#2a3f5f",
           "arrowhead": 0,
           "arrowwidth": 1
          },
          "autotypenumbers": "strict",
          "coloraxis": {
           "colorbar": {
            "outlinewidth": 0,
            "ticks": ""
           }
          },
          "colorscale": {
           "diverging": [
            [
             0,
             "#8e0152"
            ],
            [
             0.1,
             "#c51b7d"
            ],
            [
             0.2,
             "#de77ae"
            ],
            [
             0.3,
             "#f1b6da"
            ],
            [
             0.4,
             "#fde0ef"
            ],
            [
             0.5,
             "#f7f7f7"
            ],
            [
             0.6,
             "#e6f5d0"
            ],
            [
             0.7,
             "#b8e186"
            ],
            [
             0.8,
             "#7fbc41"
            ],
            [
             0.9,
             "#4d9221"
            ],
            [
             1,
             "#276419"
            ]
           ],
           "sequential": [
            [
             0,
             "#0d0887"
            ],
            [
             0.1111111111111111,
             "#46039f"
            ],
            [
             0.2222222222222222,
             "#7201a8"
            ],
            [
             0.3333333333333333,
             "#9c179e"
            ],
            [
             0.4444444444444444,
             "#bd3786"
            ],
            [
             0.5555555555555556,
             "#d8576b"
            ],
            [
             0.6666666666666666,
             "#ed7953"
            ],
            [
             0.7777777777777778,
             "#fb9f3a"
            ],
            [
             0.8888888888888888,
             "#fdca26"
            ],
            [
             1,
             "#f0f921"
            ]
           ],
           "sequentialminus": [
            [
             0,
             "#0d0887"
            ],
            [
             0.1111111111111111,
             "#46039f"
            ],
            [
             0.2222222222222222,
             "#7201a8"
            ],
            [
             0.3333333333333333,
             "#9c179e"
            ],
            [
             0.4444444444444444,
             "#bd3786"
            ],
            [
             0.5555555555555556,
             "#d8576b"
            ],
            [
             0.6666666666666666,
             "#ed7953"
            ],
            [
             0.7777777777777778,
             "#fb9f3a"
            ],
            [
             0.8888888888888888,
             "#fdca26"
            ],
            [
             1,
             "#f0f921"
            ]
           ]
          },
          "colorway": [
           "#636efa",
           "#EF553B",
           "#00cc96",
           "#ab63fa",
           "#FFA15A",
           "#19d3f3",
           "#FF6692",
           "#B6E880",
           "#FF97FF",
           "#FECB52"
          ],
          "font": {
           "color": "#2a3f5f"
          },
          "geo": {
           "bgcolor": "white",
           "lakecolor": "white",
           "landcolor": "#E5ECF6",
           "showlakes": true,
           "showland": true,
           "subunitcolor": "white"
          },
          "hoverlabel": {
           "align": "left"
          },
          "hovermode": "closest",
          "mapbox": {
           "style": "light"
          },
          "paper_bgcolor": "white",
          "plot_bgcolor": "#E5ECF6",
          "polar": {
           "angularaxis": {
            "gridcolor": "white",
            "linecolor": "white",
            "ticks": ""
           },
           "bgcolor": "#E5ECF6",
           "radialaxis": {
            "gridcolor": "white",
            "linecolor": "white",
            "ticks": ""
           }
          },
          "scene": {
           "xaxis": {
            "backgroundcolor": "#E5ECF6",
            "gridcolor": "white",
            "gridwidth": 2,
            "linecolor": "white",
            "showbackground": true,
            "ticks": "",
            "zerolinecolor": "white"
           },
           "yaxis": {
            "backgroundcolor": "#E5ECF6",
            "gridcolor": "white",
            "gridwidth": 2,
            "linecolor": "white",
            "showbackground": true,
            "ticks": "",
            "zerolinecolor": "white"
           },
           "zaxis": {
            "backgroundcolor": "#E5ECF6",
            "gridcolor": "white",
            "gridwidth": 2,
            "linecolor": "white",
            "showbackground": true,
            "ticks": "",
            "zerolinecolor": "white"
           }
          },
          "shapedefaults": {
           "line": {
            "color": "#2a3f5f"
           }
          },
          "ternary": {
           "aaxis": {
            "gridcolor": "white",
            "linecolor": "white",
            "ticks": ""
           },
           "baxis": {
            "gridcolor": "white",
            "linecolor": "white",
            "ticks": ""
           },
           "bgcolor": "#E5ECF6",
           "caxis": {
            "gridcolor": "white",
            "linecolor": "white",
            "ticks": ""
           }
          },
          "title": {
           "x": 0.05
          },
          "xaxis": {
           "automargin": true,
           "gridcolor": "white",
           "linecolor": "white",
           "ticks": "",
           "title": {
            "standoff": 15
           },
           "zerolinecolor": "white",
           "zerolinewidth": 2
          },
          "yaxis": {
           "automargin": true,
           "gridcolor": "white",
           "linecolor": "white",
           "ticks": "",
           "title": {
            "standoff": 15
           },
           "zerolinecolor": "white",
           "zerolinewidth": 2
          }
         }
        },
        "title": {
         "text": "Locations Across James Bond Films (Depicted & Shooting Locations)"
        }
       }
      }
     },
     "metadata": {},
     "output_type": "display_data"
    }
   ],
   "source": [
    "#DEPICTED AND SHOOTING LOCATIONS PLOT\n",
    "\n",
    "#setting access token\n",
    "px.set_mapbox_access_token(\"pk.eyJ1Ijoic2JveWxhbiIsImEiOiJjbGdlNmhxNTIyaG9kM2dxcjk5ZnNmYnUwIn0.TBRkjL9k1teRts2I00M8mQ\")\n",
    "\n",
    "\n",
    "#generating plot\n",
    "figMapBoxLoc = px.scatter_mapbox(mapDataAllFilms, lat=\"latitude\", lon=\"longitude\", size=\"No of Depictions\", color=\"No of Shoots Used\", hover_name = \"location\", hover_data = [\"No of Depictions\",\"No of Shoots Used\"], color_continuous_scale= px.colors.sequential.Hot, size_max= 30, zoom = 1,\n",
    "                                 )\n",
    "\n",
    "#updating figure layout\n",
    "figMapBoxLoc.update_layout(title = \"Locations Across James Bond Films (Depicted & Shooting Locations)\")\n",
    "\n",
    "# show figure\n",
    "figMapBoxLoc.show()"
   ]
  },
  {
   "attachments": {},
   "cell_type": "markdown",
   "metadata": {},
   "source": [
    "Finally, I wanted to focus closely on the countries that occurred most frequently across the data, both as a whole and over time.\n",
    "\n",
    "To help with this, I defined a function to help plot the top ten locations depicted across the films in a given decade."
   ]
  },
  {
   "cell_type": "code",
   "execution_count": 27,
   "metadata": {},
   "outputs": [],
   "source": [
    "#This function uses the decade provided by the Jupyter widget and extracts the relevant\n",
    "#depiction for that decade and plots how frequently the top 10 locations appeared\n",
    "\n",
    "def plottingCountryDepictionByDecade(Decade):\n",
    "    columnName = \"Depictions_\"+str(Decade)\n",
    "    uniqueLocations = pd.read_csv(\"uniqueLocationsWithDecade.csv\")\n",
    "    data = uniqueLocations.sort_values(by = columnName, ascending = False).head(10)\n",
    "    x = data[\"location\"]\n",
    "    y = data[columnName]\n",
    "\n",
    "    plt.bar(x,y, color = \"indianred\")\n",
    "    plt.xticks(rotation = 90)\n",
    "    plt.xlabel(\"Location\")\n",
    "    plt.ylabel(\"No. of Occurrences\")\n",
    "    plt.title(\"Top Depicted Locations (\"+str(Decade)+\")\")"
   ]
  },
  {
   "cell_type": "code",
   "execution_count": 28,
   "metadata": {},
   "outputs": [
    {
     "data": {
      "application/vnd.jupyter.widget-view+json": {
       "model_id": "0705488b1e844c2eb59287164a187bf1",
       "version_major": 2,
       "version_minor": 0
      },
      "text/plain": [
       "interactive(children=(IntSlider(value=1980, description='Decade', max=2010, min=1960, step=10), Output()), _do…"
      ]
     },
     "metadata": {},
     "output_type": "display_data"
    },
    {
     "data": {
      "text/plain": [
       "<function __main__.plottingCountryDepictionByDecade(Decade)>"
      ]
     },
     "execution_count": 28,
     "metadata": {},
     "output_type": "execute_result"
    }
   ],
   "source": [
    "ipywidgets.interact(plottingCountryDepictionByDecade, Decade = (1960, 2010, 10,), description = \"Decade\")"
   ]
  },
  {
   "attachments": {},
   "cell_type": "markdown",
   "metadata": {},
   "source": [
    "I then repeated the same process for shooting locations."
   ]
  },
  {
   "cell_type": "code",
   "execution_count": 29,
   "metadata": {},
   "outputs": [],
   "source": [
    "#As before, the relevant data based on the widget slider decade is selected here and the top 10 shooting\n",
    "#locations are displayed in a bar chart.\n",
    "\n",
    "def plottingShootingCountries(Decade):\n",
    "    columnName = \"Shooting_\"+str(Decade)\n",
    "    uniqueLocations = pd.read_csv(\"uniqueLocationsWithDecade.csv\")\n",
    "    data = uniqueLocations.sort_values(by = columnName, ascending = False).head(10)\n",
    "    x = data[\"location\"]\n",
    "    y = data[columnName]\n",
    "\n",
    "    plt.bar(x,y, color = \"black\")\n",
    "    plt.xticks(rotation = 90)\n",
    "    plt.xlabel(\"Location\")\n",
    "    plt.ylabel(\"No. of Occurrences\")\n",
    "    plt.title(\"Top Shooting Locations (\"+str(Decade)+\")\")"
   ]
  },
  {
   "cell_type": "code",
   "execution_count": 30,
   "metadata": {},
   "outputs": [
    {
     "data": {
      "application/vnd.jupyter.widget-view+json": {
       "model_id": "97af434f705d41d6a7dd331015768411",
       "version_major": 2,
       "version_minor": 0
      },
      "text/plain": [
       "interactive(children=(IntSlider(value=1980, description='Decade', max=2010, min=1960, step=10), Output()), _do…"
      ]
     },
     "metadata": {},
     "output_type": "display_data"
    },
    {
     "data": {
      "text/plain": [
       "<function __main__.plottingShootingCountries(Decade)>"
      ]
     },
     "execution_count": 30,
     "metadata": {},
     "output_type": "execute_result"
    }
   ],
   "source": [
    "ipywidgets.interact(plottingShootingCountries, Decade = (1960, 2010, 10,), description = \"Decade\")"
   ]
  },
  {
   "attachments": {},
   "cell_type": "markdown",
   "metadata": {},
   "source": [
    "Finally, I looked at representing the most frequent locations used across all films. To provide additional context and make for a more interesting visualisation, I represented both the number of depictions and number of shoots for the top ten countries in both depictions and shoot locations."
   ]
  },
  {
   "cell_type": "code",
   "execution_count": 31,
   "metadata": {},
   "outputs": [
    {
     "data": {
      "application/vnd.plotly.v1+json": {
       "config": {
        "plotlyServerURL": "https://plot.ly"
       },
       "data": [
        {
         "alignmentgroup": "True",
         "bingroup": "x",
         "histfunc": "sum",
         "hovertemplate": "variable=No of Depictions<br>location=%{x}<br>sum of value=%{y}<extra></extra>",
         "legendgroup": "No of Depictions",
         "marker": {
          "color": "indianred",
          "pattern": {
           "shape": ""
          }
         },
         "name": "No of Depictions",
         "offsetgroup": "No of Depictions",
         "orientation": "v",
         "showlegend": true,
         "type": "histogram",
         "x": [
          "United Kingdom",
          "United States",
          "Russia",
          "Italy",
          "France",
          "Austria",
          "Bahamas",
          "Turkey",
          "Japan",
          "Jamaica"
         ],
         "xaxis": "x",
         "y": [
          23,
          10,
          9,
          7,
          4,
          4,
          3,
          3,
          3,
          2
         ],
         "yaxis": "y"
        },
        {
         "alignmentgroup": "True",
         "bingroup": "x",
         "histfunc": "sum",
         "hovertemplate": "variable=No of Shoots Used<br>location=%{x}<br>sum of value=%{y}<extra></extra>",
         "legendgroup": "No of Shoots Used",
         "marker": {
          "color": "black",
          "pattern": {
           "shape": ""
          }
         },
         "name": "No of Shoots Used",
         "offsetgroup": "No of Shoots Used",
         "orientation": "v",
         "showlegend": true,
         "type": "histogram",
         "x": [
          "United Kingdom",
          "United States",
          "Russia",
          "Italy",
          "France",
          "Austria",
          "Bahamas",
          "Turkey",
          "Japan",
          "Jamaica"
         ],
         "xaxis": "x",
         "y": [
          22,
          9,
          1,
          8,
          7,
          3,
          3,
          3,
          2,
          2
         ],
         "yaxis": "y"
        }
       ],
       "layout": {
        "barmode": "group",
        "legend": {
         "title": {
          "text": "Key"
         },
         "tracegroupgap": 0
        },
        "template": {
         "data": {
          "bar": [
           {
            "error_x": {
             "color": "#2a3f5f"
            },
            "error_y": {
             "color": "#2a3f5f"
            },
            "marker": {
             "line": {
              "color": "#E5ECF6",
              "width": 0.5
             },
             "pattern": {
              "fillmode": "overlay",
              "size": 10,
              "solidity": 0.2
             }
            },
            "type": "bar"
           }
          ],
          "barpolar": [
           {
            "marker": {
             "line": {
              "color": "#E5ECF6",
              "width": 0.5
             },
             "pattern": {
              "fillmode": "overlay",
              "size": 10,
              "solidity": 0.2
             }
            },
            "type": "barpolar"
           }
          ],
          "carpet": [
           {
            "aaxis": {
             "endlinecolor": "#2a3f5f",
             "gridcolor": "white",
             "linecolor": "white",
             "minorgridcolor": "white",
             "startlinecolor": "#2a3f5f"
            },
            "baxis": {
             "endlinecolor": "#2a3f5f",
             "gridcolor": "white",
             "linecolor": "white",
             "minorgridcolor": "white",
             "startlinecolor": "#2a3f5f"
            },
            "type": "carpet"
           }
          ],
          "choropleth": [
           {
            "colorbar": {
             "outlinewidth": 0,
             "ticks": ""
            },
            "type": "choropleth"
           }
          ],
          "contour": [
           {
            "colorbar": {
             "outlinewidth": 0,
             "ticks": ""
            },
            "colorscale": [
             [
              0,
              "#0d0887"
             ],
             [
              0.1111111111111111,
              "#46039f"
             ],
             [
              0.2222222222222222,
              "#7201a8"
             ],
             [
              0.3333333333333333,
              "#9c179e"
             ],
             [
              0.4444444444444444,
              "#bd3786"
             ],
             [
              0.5555555555555556,
              "#d8576b"
             ],
             [
              0.6666666666666666,
              "#ed7953"
             ],
             [
              0.7777777777777778,
              "#fb9f3a"
             ],
             [
              0.8888888888888888,
              "#fdca26"
             ],
             [
              1,
              "#f0f921"
             ]
            ],
            "type": "contour"
           }
          ],
          "contourcarpet": [
           {
            "colorbar": {
             "outlinewidth": 0,
             "ticks": ""
            },
            "type": "contourcarpet"
           }
          ],
          "heatmap": [
           {
            "colorbar": {
             "outlinewidth": 0,
             "ticks": ""
            },
            "colorscale": [
             [
              0,
              "#0d0887"
             ],
             [
              0.1111111111111111,
              "#46039f"
             ],
             [
              0.2222222222222222,
              "#7201a8"
             ],
             [
              0.3333333333333333,
              "#9c179e"
             ],
             [
              0.4444444444444444,
              "#bd3786"
             ],
             [
              0.5555555555555556,
              "#d8576b"
             ],
             [
              0.6666666666666666,
              "#ed7953"
             ],
             [
              0.7777777777777778,
              "#fb9f3a"
             ],
             [
              0.8888888888888888,
              "#fdca26"
             ],
             [
              1,
              "#f0f921"
             ]
            ],
            "type": "heatmap"
           }
          ],
          "heatmapgl": [
           {
            "colorbar": {
             "outlinewidth": 0,
             "ticks": ""
            },
            "colorscale": [
             [
              0,
              "#0d0887"
             ],
             [
              0.1111111111111111,
              "#46039f"
             ],
             [
              0.2222222222222222,
              "#7201a8"
             ],
             [
              0.3333333333333333,
              "#9c179e"
             ],
             [
              0.4444444444444444,
              "#bd3786"
             ],
             [
              0.5555555555555556,
              "#d8576b"
             ],
             [
              0.6666666666666666,
              "#ed7953"
             ],
             [
              0.7777777777777778,
              "#fb9f3a"
             ],
             [
              0.8888888888888888,
              "#fdca26"
             ],
             [
              1,
              "#f0f921"
             ]
            ],
            "type": "heatmapgl"
           }
          ],
          "histogram": [
           {
            "marker": {
             "pattern": {
              "fillmode": "overlay",
              "size": 10,
              "solidity": 0.2
             }
            },
            "type": "histogram"
           }
          ],
          "histogram2d": [
           {
            "colorbar": {
             "outlinewidth": 0,
             "ticks": ""
            },
            "colorscale": [
             [
              0,
              "#0d0887"
             ],
             [
              0.1111111111111111,
              "#46039f"
             ],
             [
              0.2222222222222222,
              "#7201a8"
             ],
             [
              0.3333333333333333,
              "#9c179e"
             ],
             [
              0.4444444444444444,
              "#bd3786"
             ],
             [
              0.5555555555555556,
              "#d8576b"
             ],
             [
              0.6666666666666666,
              "#ed7953"
             ],
             [
              0.7777777777777778,
              "#fb9f3a"
             ],
             [
              0.8888888888888888,
              "#fdca26"
             ],
             [
              1,
              "#f0f921"
             ]
            ],
            "type": "histogram2d"
           }
          ],
          "histogram2dcontour": [
           {
            "colorbar": {
             "outlinewidth": 0,
             "ticks": ""
            },
            "colorscale": [
             [
              0,
              "#0d0887"
             ],
             [
              0.1111111111111111,
              "#46039f"
             ],
             [
              0.2222222222222222,
              "#7201a8"
             ],
             [
              0.3333333333333333,
              "#9c179e"
             ],
             [
              0.4444444444444444,
              "#bd3786"
             ],
             [
              0.5555555555555556,
              "#d8576b"
             ],
             [
              0.6666666666666666,
              "#ed7953"
             ],
             [
              0.7777777777777778,
              "#fb9f3a"
             ],
             [
              0.8888888888888888,
              "#fdca26"
             ],
             [
              1,
              "#f0f921"
             ]
            ],
            "type": "histogram2dcontour"
           }
          ],
          "mesh3d": [
           {
            "colorbar": {
             "outlinewidth": 0,
             "ticks": ""
            },
            "type": "mesh3d"
           }
          ],
          "parcoords": [
           {
            "line": {
             "colorbar": {
              "outlinewidth": 0,
              "ticks": ""
             }
            },
            "type": "parcoords"
           }
          ],
          "pie": [
           {
            "automargin": true,
            "type": "pie"
           }
          ],
          "scatter": [
           {
            "fillpattern": {
             "fillmode": "overlay",
             "size": 10,
             "solidity": 0.2
            },
            "type": "scatter"
           }
          ],
          "scatter3d": [
           {
            "line": {
             "colorbar": {
              "outlinewidth": 0,
              "ticks": ""
             }
            },
            "marker": {
             "colorbar": {
              "outlinewidth": 0,
              "ticks": ""
             }
            },
            "type": "scatter3d"
           }
          ],
          "scattercarpet": [
           {
            "marker": {
             "colorbar": {
              "outlinewidth": 0,
              "ticks": ""
             }
            },
            "type": "scattercarpet"
           }
          ],
          "scattergeo": [
           {
            "marker": {
             "colorbar": {
              "outlinewidth": 0,
              "ticks": ""
             }
            },
            "type": "scattergeo"
           }
          ],
          "scattergl": [
           {
            "marker": {
             "colorbar": {
              "outlinewidth": 0,
              "ticks": ""
             }
            },
            "type": "scattergl"
           }
          ],
          "scattermapbox": [
           {
            "marker": {
             "colorbar": {
              "outlinewidth": 0,
              "ticks": ""
             }
            },
            "type": "scattermapbox"
           }
          ],
          "scatterpolar": [
           {
            "marker": {
             "colorbar": {
              "outlinewidth": 0,
              "ticks": ""
             }
            },
            "type": "scatterpolar"
           }
          ],
          "scatterpolargl": [
           {
            "marker": {
             "colorbar": {
              "outlinewidth": 0,
              "ticks": ""
             }
            },
            "type": "scatterpolargl"
           }
          ],
          "scatterternary": [
           {
            "marker": {
             "colorbar": {
              "outlinewidth": 0,
              "ticks": ""
             }
            },
            "type": "scatterternary"
           }
          ],
          "surface": [
           {
            "colorbar": {
             "outlinewidth": 0,
             "ticks": ""
            },
            "colorscale": [
             [
              0,
              "#0d0887"
             ],
             [
              0.1111111111111111,
              "#46039f"
             ],
             [
              0.2222222222222222,
              "#7201a8"
             ],
             [
              0.3333333333333333,
              "#9c179e"
             ],
             [
              0.4444444444444444,
              "#bd3786"
             ],
             [
              0.5555555555555556,
              "#d8576b"
             ],
             [
              0.6666666666666666,
              "#ed7953"
             ],
             [
              0.7777777777777778,
              "#fb9f3a"
             ],
             [
              0.8888888888888888,
              "#fdca26"
             ],
             [
              1,
              "#f0f921"
             ]
            ],
            "type": "surface"
           }
          ],
          "table": [
           {
            "cells": {
             "fill": {
              "color": "#EBF0F8"
             },
             "line": {
              "color": "white"
             }
            },
            "header": {
             "fill": {
              "color": "#C8D4E3"
             },
             "line": {
              "color": "white"
             }
            },
            "type": "table"
           }
          ]
         },
         "layout": {
          "annotationdefaults": {
           "arrowcolor": "#2a3f5f",
           "arrowhead": 0,
           "arrowwidth": 1
          },
          "autotypenumbers": "strict",
          "coloraxis": {
           "colorbar": {
            "outlinewidth": 0,
            "ticks": ""
           }
          },
          "colorscale": {
           "diverging": [
            [
             0,
             "#8e0152"
            ],
            [
             0.1,
             "#c51b7d"
            ],
            [
             0.2,
             "#de77ae"
            ],
            [
             0.3,
             "#f1b6da"
            ],
            [
             0.4,
             "#fde0ef"
            ],
            [
             0.5,
             "#f7f7f7"
            ],
            [
             0.6,
             "#e6f5d0"
            ],
            [
             0.7,
             "#b8e186"
            ],
            [
             0.8,
             "#7fbc41"
            ],
            [
             0.9,
             "#4d9221"
            ],
            [
             1,
             "#276419"
            ]
           ],
           "sequential": [
            [
             0,
             "#0d0887"
            ],
            [
             0.1111111111111111,
             "#46039f"
            ],
            [
             0.2222222222222222,
             "#7201a8"
            ],
            [
             0.3333333333333333,
             "#9c179e"
            ],
            [
             0.4444444444444444,
             "#bd3786"
            ],
            [
             0.5555555555555556,
             "#d8576b"
            ],
            [
             0.6666666666666666,
             "#ed7953"
            ],
            [
             0.7777777777777778,
             "#fb9f3a"
            ],
            [
             0.8888888888888888,
             "#fdca26"
            ],
            [
             1,
             "#f0f921"
            ]
           ],
           "sequentialminus": [
            [
             0,
             "#0d0887"
            ],
            [
             0.1111111111111111,
             "#46039f"
            ],
            [
             0.2222222222222222,
             "#7201a8"
            ],
            [
             0.3333333333333333,
             "#9c179e"
            ],
            [
             0.4444444444444444,
             "#bd3786"
            ],
            [
             0.5555555555555556,
             "#d8576b"
            ],
            [
             0.6666666666666666,
             "#ed7953"
            ],
            [
             0.7777777777777778,
             "#fb9f3a"
            ],
            [
             0.8888888888888888,
             "#fdca26"
            ],
            [
             1,
             "#f0f921"
            ]
           ]
          },
          "colorway": [
           "#636efa",
           "#EF553B",
           "#00cc96",
           "#ab63fa",
           "#FFA15A",
           "#19d3f3",
           "#FF6692",
           "#B6E880",
           "#FF97FF",
           "#FECB52"
          ],
          "font": {
           "color": "#2a3f5f"
          },
          "geo": {
           "bgcolor": "white",
           "lakecolor": "white",
           "landcolor": "#E5ECF6",
           "showlakes": true,
           "showland": true,
           "subunitcolor": "white"
          },
          "hoverlabel": {
           "align": "left"
          },
          "hovermode": "closest",
          "mapbox": {
           "style": "light"
          },
          "paper_bgcolor": "white",
          "plot_bgcolor": "#E5ECF6",
          "polar": {
           "angularaxis": {
            "gridcolor": "white",
            "linecolor": "white",
            "ticks": ""
           },
           "bgcolor": "#E5ECF6",
           "radialaxis": {
            "gridcolor": "white",
            "linecolor": "white",
            "ticks": ""
           }
          },
          "scene": {
           "xaxis": {
            "backgroundcolor": "#E5ECF6",
            "gridcolor": "white",
            "gridwidth": 2,
            "linecolor": "white",
            "showbackground": true,
            "ticks": "",
            "zerolinecolor": "white"
           },
           "yaxis": {
            "backgroundcolor": "#E5ECF6",
            "gridcolor": "white",
            "gridwidth": 2,
            "linecolor": "white",
            "showbackground": true,
            "ticks": "",
            "zerolinecolor": "white"
           },
           "zaxis": {
            "backgroundcolor": "#E5ECF6",
            "gridcolor": "white",
            "gridwidth": 2,
            "linecolor": "white",
            "showbackground": true,
            "ticks": "",
            "zerolinecolor": "white"
           }
          },
          "shapedefaults": {
           "line": {
            "color": "#2a3f5f"
           }
          },
          "ternary": {
           "aaxis": {
            "gridcolor": "white",
            "linecolor": "white",
            "ticks": ""
           },
           "baxis": {
            "gridcolor": "white",
            "linecolor": "white",
            "ticks": ""
           },
           "bgcolor": "#E5ECF6",
           "caxis": {
            "gridcolor": "white",
            "linecolor": "white",
            "ticks": ""
           }
          },
          "title": {
           "x": 0.05
          },
          "xaxis": {
           "automargin": true,
           "gridcolor": "white",
           "linecolor": "white",
           "ticks": "",
           "title": {
            "standoff": 15
           },
           "zerolinecolor": "white",
           "zerolinewidth": 2
          },
          "yaxis": {
           "automargin": true,
           "gridcolor": "white",
           "linecolor": "white",
           "ticks": "",
           "title": {
            "standoff": 15
           },
           "zerolinecolor": "white",
           "zerolinewidth": 2
          }
         }
        },
        "title": {
         "text": "Use of Top Ten Depicted Locations Across All Films"
        },
        "xaxis": {
         "anchor": "y",
         "domain": [
          0,
          1
         ],
         "title": {
          "text": "Location"
         }
        },
        "yaxis": {
         "anchor": "x",
         "domain": [
          0,
          1
         ],
         "title": {
          "text": "Frequency"
         }
        }
       }
      }
     },
     "metadata": {},
     "output_type": "display_data"
    },
    {
     "data": {
      "application/vnd.plotly.v1+json": {
       "config": {
        "plotlyServerURL": "https://plot.ly"
       },
       "data": [
        {
         "alignmentgroup": "True",
         "bingroup": "x",
         "histfunc": "sum",
         "hovertemplate": "variable=No of Depictions<br>location=%{x}<br>sum of value=%{y}<extra></extra>",
         "legendgroup": "No of Depictions",
         "marker": {
          "color": "indianred",
          "pattern": {
           "shape": ""
          }
         },
         "name": "No of Depictions",
         "offsetgroup": "No of Depictions",
         "orientation": "v",
         "showlegend": true,
         "type": "histogram",
         "x": [
          "United Kingdom",
          "United States",
          "Italy",
          "France",
          "Switzerland",
          "Germany",
          "Spain",
          "Mexico",
          "Austria",
          "Turkey"
         ],
         "xaxis": "x",
         "y": [
          23,
          10,
          7,
          4,
          2,
          2,
          2,
          2,
          4,
          3
         ],
         "yaxis": "y"
        },
        {
         "alignmentgroup": "True",
         "bingroup": "x",
         "histfunc": "sum",
         "hovertemplate": "variable=No of Shoots Used<br>location=%{x}<br>sum of value=%{y}<extra></extra>",
         "legendgroup": "No of Shoots Used",
         "marker": {
          "color": "black",
          "pattern": {
           "shape": ""
          }
         },
         "name": "No of Shoots Used",
         "offsetgroup": "No of Shoots Used",
         "orientation": "v",
         "showlegend": true,
         "type": "histogram",
         "x": [
          "United Kingdom",
          "United States",
          "Italy",
          "France",
          "Switzerland",
          "Germany",
          "Spain",
          "Mexico",
          "Austria",
          "Turkey"
         ],
         "xaxis": "x",
         "y": [
          22,
          9,
          8,
          7,
          6,
          4,
          4,
          3,
          3,
          3
         ],
         "yaxis": "y"
        }
       ],
       "layout": {
        "barmode": "group",
        "legend": {
         "title": {
          "text": "Key"
         },
         "tracegroupgap": 0
        },
        "template": {
         "data": {
          "bar": [
           {
            "error_x": {
             "color": "#2a3f5f"
            },
            "error_y": {
             "color": "#2a3f5f"
            },
            "marker": {
             "line": {
              "color": "#E5ECF6",
              "width": 0.5
             },
             "pattern": {
              "fillmode": "overlay",
              "size": 10,
              "solidity": 0.2
             }
            },
            "type": "bar"
           }
          ],
          "barpolar": [
           {
            "marker": {
             "line": {
              "color": "#E5ECF6",
              "width": 0.5
             },
             "pattern": {
              "fillmode": "overlay",
              "size": 10,
              "solidity": 0.2
             }
            },
            "type": "barpolar"
           }
          ],
          "carpet": [
           {
            "aaxis": {
             "endlinecolor": "#2a3f5f",
             "gridcolor": "white",
             "linecolor": "white",
             "minorgridcolor": "white",
             "startlinecolor": "#2a3f5f"
            },
            "baxis": {
             "endlinecolor": "#2a3f5f",
             "gridcolor": "white",
             "linecolor": "white",
             "minorgridcolor": "white",
             "startlinecolor": "#2a3f5f"
            },
            "type": "carpet"
           }
          ],
          "choropleth": [
           {
            "colorbar": {
             "outlinewidth": 0,
             "ticks": ""
            },
            "type": "choropleth"
           }
          ],
          "contour": [
           {
            "colorbar": {
             "outlinewidth": 0,
             "ticks": ""
            },
            "colorscale": [
             [
              0,
              "#0d0887"
             ],
             [
              0.1111111111111111,
              "#46039f"
             ],
             [
              0.2222222222222222,
              "#7201a8"
             ],
             [
              0.3333333333333333,
              "#9c179e"
             ],
             [
              0.4444444444444444,
              "#bd3786"
             ],
             [
              0.5555555555555556,
              "#d8576b"
             ],
             [
              0.6666666666666666,
              "#ed7953"
             ],
             [
              0.7777777777777778,
              "#fb9f3a"
             ],
             [
              0.8888888888888888,
              "#fdca26"
             ],
             [
              1,
              "#f0f921"
             ]
            ],
            "type": "contour"
           }
          ],
          "contourcarpet": [
           {
            "colorbar": {
             "outlinewidth": 0,
             "ticks": ""
            },
            "type": "contourcarpet"
           }
          ],
          "heatmap": [
           {
            "colorbar": {
             "outlinewidth": 0,
             "ticks": ""
            },
            "colorscale": [
             [
              0,
              "#0d0887"
             ],
             [
              0.1111111111111111,
              "#46039f"
             ],
             [
              0.2222222222222222,
              "#7201a8"
             ],
             [
              0.3333333333333333,
              "#9c179e"
             ],
             [
              0.4444444444444444,
              "#bd3786"
             ],
             [
              0.5555555555555556,
              "#d8576b"
             ],
             [
              0.6666666666666666,
              "#ed7953"
             ],
             [
              0.7777777777777778,
              "#fb9f3a"
             ],
             [
              0.8888888888888888,
              "#fdca26"
             ],
             [
              1,
              "#f0f921"
             ]
            ],
            "type": "heatmap"
           }
          ],
          "heatmapgl": [
           {
            "colorbar": {
             "outlinewidth": 0,
             "ticks": ""
            },
            "colorscale": [
             [
              0,
              "#0d0887"
             ],
             [
              0.1111111111111111,
              "#46039f"
             ],
             [
              0.2222222222222222,
              "#7201a8"
             ],
             [
              0.3333333333333333,
              "#9c179e"
             ],
             [
              0.4444444444444444,
              "#bd3786"
             ],
             [
              0.5555555555555556,
              "#d8576b"
             ],
             [
              0.6666666666666666,
              "#ed7953"
             ],
             [
              0.7777777777777778,
              "#fb9f3a"
             ],
             [
              0.8888888888888888,
              "#fdca26"
             ],
             [
              1,
              "#f0f921"
             ]
            ],
            "type": "heatmapgl"
           }
          ],
          "histogram": [
           {
            "marker": {
             "pattern": {
              "fillmode": "overlay",
              "size": 10,
              "solidity": 0.2
             }
            },
            "type": "histogram"
           }
          ],
          "histogram2d": [
           {
            "colorbar": {
             "outlinewidth": 0,
             "ticks": ""
            },
            "colorscale": [
             [
              0,
              "#0d0887"
             ],
             [
              0.1111111111111111,
              "#46039f"
             ],
             [
              0.2222222222222222,
              "#7201a8"
             ],
             [
              0.3333333333333333,
              "#9c179e"
             ],
             [
              0.4444444444444444,
              "#bd3786"
             ],
             [
              0.5555555555555556,
              "#d8576b"
             ],
             [
              0.6666666666666666,
              "#ed7953"
             ],
             [
              0.7777777777777778,
              "#fb9f3a"
             ],
             [
              0.8888888888888888,
              "#fdca26"
             ],
             [
              1,
              "#f0f921"
             ]
            ],
            "type": "histogram2d"
           }
          ],
          "histogram2dcontour": [
           {
            "colorbar": {
             "outlinewidth": 0,
             "ticks": ""
            },
            "colorscale": [
             [
              0,
              "#0d0887"
             ],
             [
              0.1111111111111111,
              "#46039f"
             ],
             [
              0.2222222222222222,
              "#7201a8"
             ],
             [
              0.3333333333333333,
              "#9c179e"
             ],
             [
              0.4444444444444444,
              "#bd3786"
             ],
             [
              0.5555555555555556,
              "#d8576b"
             ],
             [
              0.6666666666666666,
              "#ed7953"
             ],
             [
              0.7777777777777778,
              "#fb9f3a"
             ],
             [
              0.8888888888888888,
              "#fdca26"
             ],
             [
              1,
              "#f0f921"
             ]
            ],
            "type": "histogram2dcontour"
           }
          ],
          "mesh3d": [
           {
            "colorbar": {
             "outlinewidth": 0,
             "ticks": ""
            },
            "type": "mesh3d"
           }
          ],
          "parcoords": [
           {
            "line": {
             "colorbar": {
              "outlinewidth": 0,
              "ticks": ""
             }
            },
            "type": "parcoords"
           }
          ],
          "pie": [
           {
            "automargin": true,
            "type": "pie"
           }
          ],
          "scatter": [
           {
            "fillpattern": {
             "fillmode": "overlay",
             "size": 10,
             "solidity": 0.2
            },
            "type": "scatter"
           }
          ],
          "scatter3d": [
           {
            "line": {
             "colorbar": {
              "outlinewidth": 0,
              "ticks": ""
             }
            },
            "marker": {
             "colorbar": {
              "outlinewidth": 0,
              "ticks": ""
             }
            },
            "type": "scatter3d"
           }
          ],
          "scattercarpet": [
           {
            "marker": {
             "colorbar": {
              "outlinewidth": 0,
              "ticks": ""
             }
            },
            "type": "scattercarpet"
           }
          ],
          "scattergeo": [
           {
            "marker": {
             "colorbar": {
              "outlinewidth": 0,
              "ticks": ""
             }
            },
            "type": "scattergeo"
           }
          ],
          "scattergl": [
           {
            "marker": {
             "colorbar": {
              "outlinewidth": 0,
              "ticks": ""
             }
            },
            "type": "scattergl"
           }
          ],
          "scattermapbox": [
           {
            "marker": {
             "colorbar": {
              "outlinewidth": 0,
              "ticks": ""
             }
            },
            "type": "scattermapbox"
           }
          ],
          "scatterpolar": [
           {
            "marker": {
             "colorbar": {
              "outlinewidth": 0,
              "ticks": ""
             }
            },
            "type": "scatterpolar"
           }
          ],
          "scatterpolargl": [
           {
            "marker": {
             "colorbar": {
              "outlinewidth": 0,
              "ticks": ""
             }
            },
            "type": "scatterpolargl"
           }
          ],
          "scatterternary": [
           {
            "marker": {
             "colorbar": {
              "outlinewidth": 0,
              "ticks": ""
             }
            },
            "type": "scatterternary"
           }
          ],
          "surface": [
           {
            "colorbar": {
             "outlinewidth": 0,
             "ticks": ""
            },
            "colorscale": [
             [
              0,
              "#0d0887"
             ],
             [
              0.1111111111111111,
              "#46039f"
             ],
             [
              0.2222222222222222,
              "#7201a8"
             ],
             [
              0.3333333333333333,
              "#9c179e"
             ],
             [
              0.4444444444444444,
              "#bd3786"
             ],
             [
              0.5555555555555556,
              "#d8576b"
             ],
             [
              0.6666666666666666,
              "#ed7953"
             ],
             [
              0.7777777777777778,
              "#fb9f3a"
             ],
             [
              0.8888888888888888,
              "#fdca26"
             ],
             [
              1,
              "#f0f921"
             ]
            ],
            "type": "surface"
           }
          ],
          "table": [
           {
            "cells": {
             "fill": {
              "color": "#EBF0F8"
             },
             "line": {
              "color": "white"
             }
            },
            "header": {
             "fill": {
              "color": "#C8D4E3"
             },
             "line": {
              "color": "white"
             }
            },
            "type": "table"
           }
          ]
         },
         "layout": {
          "annotationdefaults": {
           "arrowcolor": "#2a3f5f",
           "arrowhead": 0,
           "arrowwidth": 1
          },
          "autotypenumbers": "strict",
          "coloraxis": {
           "colorbar": {
            "outlinewidth": 0,
            "ticks": ""
           }
          },
          "colorscale": {
           "diverging": [
            [
             0,
             "#8e0152"
            ],
            [
             0.1,
             "#c51b7d"
            ],
            [
             0.2,
             "#de77ae"
            ],
            [
             0.3,
             "#f1b6da"
            ],
            [
             0.4,
             "#fde0ef"
            ],
            [
             0.5,
             "#f7f7f7"
            ],
            [
             0.6,
             "#e6f5d0"
            ],
            [
             0.7,
             "#b8e186"
            ],
            [
             0.8,
             "#7fbc41"
            ],
            [
             0.9,
             "#4d9221"
            ],
            [
             1,
             "#276419"
            ]
           ],
           "sequential": [
            [
             0,
             "#0d0887"
            ],
            [
             0.1111111111111111,
             "#46039f"
            ],
            [
             0.2222222222222222,
             "#7201a8"
            ],
            [
             0.3333333333333333,
             "#9c179e"
            ],
            [
             0.4444444444444444,
             "#bd3786"
            ],
            [
             0.5555555555555556,
             "#d8576b"
            ],
            [
             0.6666666666666666,
             "#ed7953"
            ],
            [
             0.7777777777777778,
             "#fb9f3a"
            ],
            [
             0.8888888888888888,
             "#fdca26"
            ],
            [
             1,
             "#f0f921"
            ]
           ],
           "sequentialminus": [
            [
             0,
             "#0d0887"
            ],
            [
             0.1111111111111111,
             "#46039f"
            ],
            [
             0.2222222222222222,
             "#7201a8"
            ],
            [
             0.3333333333333333,
             "#9c179e"
            ],
            [
             0.4444444444444444,
             "#bd3786"
            ],
            [
             0.5555555555555556,
             "#d8576b"
            ],
            [
             0.6666666666666666,
             "#ed7953"
            ],
            [
             0.7777777777777778,
             "#fb9f3a"
            ],
            [
             0.8888888888888888,
             "#fdca26"
            ],
            [
             1,
             "#f0f921"
            ]
           ]
          },
          "colorway": [
           "#636efa",
           "#EF553B",
           "#00cc96",
           "#ab63fa",
           "#FFA15A",
           "#19d3f3",
           "#FF6692",
           "#B6E880",
           "#FF97FF",
           "#FECB52"
          ],
          "font": {
           "color": "#2a3f5f"
          },
          "geo": {
           "bgcolor": "white",
           "lakecolor": "white",
           "landcolor": "#E5ECF6",
           "showlakes": true,
           "showland": true,
           "subunitcolor": "white"
          },
          "hoverlabel": {
           "align": "left"
          },
          "hovermode": "closest",
          "mapbox": {
           "style": "light"
          },
          "paper_bgcolor": "white",
          "plot_bgcolor": "#E5ECF6",
          "polar": {
           "angularaxis": {
            "gridcolor": "white",
            "linecolor": "white",
            "ticks": ""
           },
           "bgcolor": "#E5ECF6",
           "radialaxis": {
            "gridcolor": "white",
            "linecolor": "white",
            "ticks": ""
           }
          },
          "scene": {
           "xaxis": {
            "backgroundcolor": "#E5ECF6",
            "gridcolor": "white",
            "gridwidth": 2,
            "linecolor": "white",
            "showbackground": true,
            "ticks": "",
            "zerolinecolor": "white"
           },
           "yaxis": {
            "backgroundcolor": "#E5ECF6",
            "gridcolor": "white",
            "gridwidth": 2,
            "linecolor": "white",
            "showbackground": true,
            "ticks": "",
            "zerolinecolor": "white"
           },
           "zaxis": {
            "backgroundcolor": "#E5ECF6",
            "gridcolor": "white",
            "gridwidth": 2,
            "linecolor": "white",
            "showbackground": true,
            "ticks": "",
            "zerolinecolor": "white"
           }
          },
          "shapedefaults": {
           "line": {
            "color": "#2a3f5f"
           }
          },
          "ternary": {
           "aaxis": {
            "gridcolor": "white",
            "linecolor": "white",
            "ticks": ""
           },
           "baxis": {
            "gridcolor": "white",
            "linecolor": "white",
            "ticks": ""
           },
           "bgcolor": "#E5ECF6",
           "caxis": {
            "gridcolor": "white",
            "linecolor": "white",
            "ticks": ""
           }
          },
          "title": {
           "x": 0.05
          },
          "xaxis": {
           "automargin": true,
           "gridcolor": "white",
           "linecolor": "white",
           "ticks": "",
           "title": {
            "standoff": 15
           },
           "zerolinecolor": "white",
           "zerolinewidth": 2
          },
          "yaxis": {
           "automargin": true,
           "gridcolor": "white",
           "linecolor": "white",
           "ticks": "",
           "title": {
            "standoff": 15
           },
           "zerolinecolor": "white",
           "zerolinewidth": 2
          }
         }
        },
        "title": {
         "text": "Use of Top Ten Shooting Locations Across All Films"
        },
        "xaxis": {
         "anchor": "y",
         "domain": [
          0,
          1
         ],
         "title": {
          "text": "Location"
         }
        },
        "yaxis": {
         "anchor": "x",
         "domain": [
          0,
          1
         ],
         "title": {
          "text": "Frequency"
         }
        }
       }
      }
     },
     "metadata": {},
     "output_type": "display_data"
    }
   ],
   "source": [
    "#To allow me to plot the data, these columns were converted to integer values\n",
    "uniqueLocations[\"No of Depictions\"] = uniqueLocations[\"No of Depictions\"].astype(int)\n",
    "uniqueLocations[\"No of Shoots Used\"] = uniqueLocations[\"No of Shoots Used\"].astype(int)\n",
    "\n",
    "#The top 10 most-depicted locations are extracted here and plotted in a histrogram (alongside how frequently they were used as a shooting location)\n",
    "uniqueLocationsTop10Depicted = uniqueLocations.sort_values(by = \"No of Depictions\", ascending = False).head(10)\n",
    "figTopTenDepicted = px.histogram(uniqueLocationsTop10Depicted, x = \"location\", y = [\"No of Depictions\", \"No of Shoots Used\"], barmode = \"group\",\n",
    "                                 title = \"Use of Top Ten Depicted Locations Across All Films\",\n",
    "                                 color_discrete_sequence=[\"indianred\",\"black\"])\n",
    "\n",
    "figTopTenDepicted.update_layout(xaxis_title = \"Location\",yaxis_title = \"Frequency\", legend_title = \"Key\")\n",
    "figTopTenDepicted.show()\n",
    "\n",
    "#The top 10 most used shooting locations are extracted here and plotted in a histrogram (alongside how frequently they were depicted)\n",
    "uniqueLocationsTop10Shooting = uniqueLocations.sort_values(by = \"No of Shoots Used\", ascending = False).head(10)\n",
    "figTopTenShooting = px.histogram(uniqueLocationsTop10Shooting, x = \"location\", y = [\"No of Depictions\", \"No of Shoots Used\"], barmode = \"group\",\n",
    "                                 title = \"Use of Top Ten Shooting Locations Across All Films\",\n",
    "                                 color_discrete_sequence=[\"indianred\",\"black\"])\n",
    "\n",
    "figTopTenShooting.update_layout(xaxis_title = \"Location\",yaxis_title = \"Frequency\", legend_title = \"Key\")\n",
    "figTopTenShooting.show()\n"
   ]
  },
  {
   "attachments": {},
   "cell_type": "markdown",
   "metadata": {},
   "source": [
    "I was surprised by the lack of overlap of countries here - I had previously expected the top ten countries in both cases to be the same. There appears to be greater concentration in a smaller number of locations for shooting locations than there is for depicted locations, which makes sense given the practical challenges of filming across the world."
   ]
  },
  {
   "attachments": {},
   "cell_type": "markdown",
   "metadata": {},
   "source": [
    "**Reflection**\n",
    "\n",
    "At the end of this project, the final result is far different from what I had initially planned. I had done considerable work with different APIs (TMDB and Spotify) to gather a wider pool of data to work from, however as I progressed I dropped these from the project completely. I also diverged almost entirely from the objectives outlined in my initial proposal, with very few of them making their way into the completed project. I adapted much of my work as I realised where the meatier information was that lent itself well to the visualisation methods we had covered in class. I was also very conscious, as I referenced in my initial data source identification assignment, to avoid overlap with a similar project by Derek S. Young, who previously published a visualisation project based on James Bond data published in Chance. His Bond R Data Package was cited as a source for the Kaggle dataset that I did work with, so I indirectly was able to apply his data collection for my own project work. \n",
    "\n",
    "By far, as referenced throughout this project, my greatest challenge was cleaning the data and wrangling it in a way that would allow me to represent it visually. Occasionally, I would also get tripped up by wrangling the data in a way that couldn't be translated to a visualisation method. I found that the best approach was to carefully think about the visualisation I wanted to create first, and then work back from there to clarify what inputs it would require. For more complicated wrangling, I also adopted an iterative approach, typically starting with a simplified, functioning version and adapting it to meet more sophisticated requirements. This was the case for the functions to find the top 10 depicted and top 10 shooting locations. I first cracked the visualisation for the top 10 depicted locations across all films, and recycled the code to find the top 10 shooting locations. Then, I was able to adjust this and add Jupyter widgets to allow for interaction and the same visualisation by decade. The addition of Jupyter widgets proved problematic in itself, and it took significant troubleshooting and some re-working and adjustment of the workflow to actually provide the correct functionality. The same could be said of my data cleaning process overall - much of the data cleaning was done as the need arose, and although I presented it in a more step-by-step process here, in reality the data cleaning, wrangling, and visualisation stages were not so cleanly separated.\n",
    "\n",
    "In the interest of transparency and accredition, as has been a major theme in this semester's readings, I maintained a list of sources that I have attached below. I frequently consulted official documentation and class notes to troubleshoot issues, though also utilised a number of internet sources. \n",
    "\n",
    "Overall, I feel I have truly benefitted from my work on this project. I have been able to develop my skills in Python and various libraries further, as well as refine my thought process when it comes to data visualisation in general. Informed by the readings, I did my best to adhere to both good design practices and the principles of data feminism, and feel confident that I will be able to carry these considerations into future projects.\n",
    "\n",
    "\n"
   ]
  },
  {
   "attachments": {},
   "cell_type": "markdown",
   "metadata": {},
   "source": [
    "**Sources**\n",
    "\n",
    "https://www.kaggle.com/datasets/dreb87/jamesbond \n",
    "\n",
    "https://www.kaggle.com/datasets/paultimothymooney/latitude-and-longitude-for-every-country-and-state?resource=download \n",
    "\n",
    "https://docs.dnb.com/partner/en-US/iso_country_codes \n",
    "\n",
    "https://www.scaler.com/topics/how-to-create-a-csv-file-in-python/\n",
    "\n",
    "https://pandas.pydata.org/docs/reference/api/pandas.DataFrame.to_csv.html \n",
    "\n",
    "https://www.w3schools.com/python/pandas/pandas_csv.asp \n",
    "\n",
    "https://medium.com/@polanitzer/building-a-linear-regression-in-python-step-by-step-94caeb0a4f18\n",
    "\n",
    "https://towardsdatascience.com/simple-and-multiple-linear-regression-with-python-c9ab422ec29c#:~:text=Multiple%20linear%20regression%20accepts%20not,dummy%20variable%20using%20the%20pandas\n",
    "\n",
    "https://www.statsmodels.org/stable/user-guide.html\n",
    "\n",
    "https://scikit-learn.org/stable/\n",
    "\n",
    "https://www.geeksforgeeks.org/principal-component-analysis-with-python/\n",
    "\n",
    "https://scikit-learn.org/stable/modules/generated/sklearn.decomposition.PCA.html\n",
    "\n",
    "https://pandas.pydata.org/pandas-docs/version/0.25.0/reference/api/pandas.Series.str.replace.html \n",
    "\n",
    "https://colab.research.google.com/drive/1YZVVOXAkxEr3x5k5cOB07nARfQ4gcGhA?usp=sharing\n",
    "\n",
    "https://stackoverflow.com/questions/22588316/pandas-applying-regex-to-replace-values\n",
    "\n",
    "https://github.com/kwaldenphd/eoc-final-project-resources\n",
    "\n",
    "https://medium.com/nerd-for-tech/enriching-data-visualizations-with-annotations-in-plotly-using-python-6127ff6e0f80\n",
    "\n",
    "https://www.geeksforgeeks.org/python-plotly-tutorial/\n",
    "\n",
    "https://towardsdatascience.com/query-pandas-dataframe-with-sql-2bb7a509793d#:~:text=Pandasql%20is%20a%20python%20library,the%20SQLite%20table%20using%20SQL.\n",
    "\n",
    "https://towardsdatascience.com/4-python-packages-to-create-interactive-dashboards-d50861d1117e\n",
    "\n",
    "https://github.com/jupyter-widgets/ipywidgets/blob/main/docs/source/examples/Index.ipynb\n",
    "\n",
    "https://github.com/jupyter-widgets/ipywidgets/tree/511663a56324cea5324f49a65ebe25e2f1b04d87/docs/source/examples\n",
    "\n",
    "https://ipywidgets.readthedocs.io/en/stable/\n",
    "\n",
    "https://plotly.com/python/plotly-express/\n",
    "\n",
    "https://plotly.com/python/sliders/#sliders-in-plotly-express\n",
    "\n",
    "https://www.youtube.com/watch?v=jWT-HXv0LUQ\n"
   ]
  }
 ],
 "metadata": {
  "kernelspec": {
   "display_name": "Python 3",
   "language": "python",
   "name": "python3"
  },
  "language_info": {
   "codemirror_mode": {
    "name": "ipython",
    "version": 3
   },
   "file_extension": ".py",
   "mimetype": "text/x-python",
   "name": "python",
   "nbconvert_exporter": "python",
   "pygments_lexer": "ipython3",
   "version": "3.10.11"
  },
  "orig_nbformat": 4
 },
 "nbformat": 4,
 "nbformat_minor": 2
}
